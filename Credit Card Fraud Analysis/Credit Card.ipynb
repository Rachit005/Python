{
 "cells": [
  {
   "cell_type": "code",
   "execution_count": 1,
   "metadata": {},
   "outputs": [],
   "source": [
    "import pandas as pd\n",
    "import seaborn as sns\n",
    "import matplotlib.pyplot as plt"
   ]
  },
  {
   "cell_type": "code",
   "execution_count": 2,
   "metadata": {},
   "outputs": [
    {
     "data": {
      "text/html": [
       "<div>\n",
       "<style scoped>\n",
       "    .dataframe tbody tr th:only-of-type {\n",
       "        vertical-align: middle;\n",
       "    }\n",
       "\n",
       "    .dataframe tbody tr th {\n",
       "        vertical-align: top;\n",
       "    }\n",
       "\n",
       "    .dataframe thead th {\n",
       "        text-align: right;\n",
       "    }\n",
       "</style>\n",
       "<table border=\"1\" class=\"dataframe\">\n",
       "  <thead>\n",
       "    <tr style=\"text-align: right;\">\n",
       "      <th></th>\n",
       "      <th>Time</th>\n",
       "      <th>V1</th>\n",
       "      <th>V2</th>\n",
       "      <th>V3</th>\n",
       "      <th>V4</th>\n",
       "      <th>V5</th>\n",
       "      <th>V6</th>\n",
       "      <th>V7</th>\n",
       "      <th>V8</th>\n",
       "      <th>V9</th>\n",
       "      <th>...</th>\n",
       "      <th>V21</th>\n",
       "      <th>V22</th>\n",
       "      <th>V23</th>\n",
       "      <th>V24</th>\n",
       "      <th>V25</th>\n",
       "      <th>V26</th>\n",
       "      <th>V27</th>\n",
       "      <th>V28</th>\n",
       "      <th>Amount</th>\n",
       "      <th>Class</th>\n",
       "    </tr>\n",
       "  </thead>\n",
       "  <tbody>\n",
       "    <tr>\n",
       "      <th>0</th>\n",
       "      <td>0.0</td>\n",
       "      <td>-1.359807</td>\n",
       "      <td>-0.072781</td>\n",
       "      <td>2.536347</td>\n",
       "      <td>1.378155</td>\n",
       "      <td>-0.338321</td>\n",
       "      <td>0.462388</td>\n",
       "      <td>0.239599</td>\n",
       "      <td>0.098698</td>\n",
       "      <td>0.363787</td>\n",
       "      <td>...</td>\n",
       "      <td>-0.018307</td>\n",
       "      <td>0.277838</td>\n",
       "      <td>-0.110474</td>\n",
       "      <td>0.066928</td>\n",
       "      <td>0.128539</td>\n",
       "      <td>-0.189115</td>\n",
       "      <td>0.133558</td>\n",
       "      <td>-0.021053</td>\n",
       "      <td>149.62</td>\n",
       "      <td>0</td>\n",
       "    </tr>\n",
       "    <tr>\n",
       "      <th>1</th>\n",
       "      <td>0.0</td>\n",
       "      <td>1.191857</td>\n",
       "      <td>0.266151</td>\n",
       "      <td>0.166480</td>\n",
       "      <td>0.448154</td>\n",
       "      <td>0.060018</td>\n",
       "      <td>-0.082361</td>\n",
       "      <td>-0.078803</td>\n",
       "      <td>0.085102</td>\n",
       "      <td>-0.255425</td>\n",
       "      <td>...</td>\n",
       "      <td>-0.225775</td>\n",
       "      <td>-0.638672</td>\n",
       "      <td>0.101288</td>\n",
       "      <td>-0.339846</td>\n",
       "      <td>0.167170</td>\n",
       "      <td>0.125895</td>\n",
       "      <td>-0.008983</td>\n",
       "      <td>0.014724</td>\n",
       "      <td>2.69</td>\n",
       "      <td>0</td>\n",
       "    </tr>\n",
       "    <tr>\n",
       "      <th>2</th>\n",
       "      <td>1.0</td>\n",
       "      <td>-1.358354</td>\n",
       "      <td>-1.340163</td>\n",
       "      <td>1.773209</td>\n",
       "      <td>0.379780</td>\n",
       "      <td>-0.503198</td>\n",
       "      <td>1.800499</td>\n",
       "      <td>0.791461</td>\n",
       "      <td>0.247676</td>\n",
       "      <td>-1.514654</td>\n",
       "      <td>...</td>\n",
       "      <td>0.247998</td>\n",
       "      <td>0.771679</td>\n",
       "      <td>0.909412</td>\n",
       "      <td>-0.689281</td>\n",
       "      <td>-0.327642</td>\n",
       "      <td>-0.139097</td>\n",
       "      <td>-0.055353</td>\n",
       "      <td>-0.059752</td>\n",
       "      <td>378.66</td>\n",
       "      <td>0</td>\n",
       "    </tr>\n",
       "    <tr>\n",
       "      <th>3</th>\n",
       "      <td>1.0</td>\n",
       "      <td>-0.966272</td>\n",
       "      <td>-0.185226</td>\n",
       "      <td>1.792993</td>\n",
       "      <td>-0.863291</td>\n",
       "      <td>-0.010309</td>\n",
       "      <td>1.247203</td>\n",
       "      <td>0.237609</td>\n",
       "      <td>0.377436</td>\n",
       "      <td>-1.387024</td>\n",
       "      <td>...</td>\n",
       "      <td>-0.108300</td>\n",
       "      <td>0.005274</td>\n",
       "      <td>-0.190321</td>\n",
       "      <td>-1.175575</td>\n",
       "      <td>0.647376</td>\n",
       "      <td>-0.221929</td>\n",
       "      <td>0.062723</td>\n",
       "      <td>0.061458</td>\n",
       "      <td>123.50</td>\n",
       "      <td>0</td>\n",
       "    </tr>\n",
       "    <tr>\n",
       "      <th>4</th>\n",
       "      <td>2.0</td>\n",
       "      <td>-1.158233</td>\n",
       "      <td>0.877737</td>\n",
       "      <td>1.548718</td>\n",
       "      <td>0.403034</td>\n",
       "      <td>-0.407193</td>\n",
       "      <td>0.095921</td>\n",
       "      <td>0.592941</td>\n",
       "      <td>-0.270533</td>\n",
       "      <td>0.817739</td>\n",
       "      <td>...</td>\n",
       "      <td>-0.009431</td>\n",
       "      <td>0.798278</td>\n",
       "      <td>-0.137458</td>\n",
       "      <td>0.141267</td>\n",
       "      <td>-0.206010</td>\n",
       "      <td>0.502292</td>\n",
       "      <td>0.219422</td>\n",
       "      <td>0.215153</td>\n",
       "      <td>69.99</td>\n",
       "      <td>0</td>\n",
       "    </tr>\n",
       "  </tbody>\n",
       "</table>\n",
       "<p>5 rows × 31 columns</p>\n",
       "</div>"
      ],
      "text/plain": [
       "   Time        V1        V2        V3        V4        V5        V6        V7  \\\n",
       "0   0.0 -1.359807 -0.072781  2.536347  1.378155 -0.338321  0.462388  0.239599   \n",
       "1   0.0  1.191857  0.266151  0.166480  0.448154  0.060018 -0.082361 -0.078803   \n",
       "2   1.0 -1.358354 -1.340163  1.773209  0.379780 -0.503198  1.800499  0.791461   \n",
       "3   1.0 -0.966272 -0.185226  1.792993 -0.863291 -0.010309  1.247203  0.237609   \n",
       "4   2.0 -1.158233  0.877737  1.548718  0.403034 -0.407193  0.095921  0.592941   \n",
       "\n",
       "         V8        V9  ...       V21       V22       V23       V24       V25  \\\n",
       "0  0.098698  0.363787  ... -0.018307  0.277838 -0.110474  0.066928  0.128539   \n",
       "1  0.085102 -0.255425  ... -0.225775 -0.638672  0.101288 -0.339846  0.167170   \n",
       "2  0.247676 -1.514654  ...  0.247998  0.771679  0.909412 -0.689281 -0.327642   \n",
       "3  0.377436 -1.387024  ... -0.108300  0.005274 -0.190321 -1.175575  0.647376   \n",
       "4 -0.270533  0.817739  ... -0.009431  0.798278 -0.137458  0.141267 -0.206010   \n",
       "\n",
       "        V26       V27       V28  Amount  Class  \n",
       "0 -0.189115  0.133558 -0.021053  149.62      0  \n",
       "1  0.125895 -0.008983  0.014724    2.69      0  \n",
       "2 -0.139097 -0.055353 -0.059752  378.66      0  \n",
       "3 -0.221929  0.062723  0.061458  123.50      0  \n",
       "4  0.502292  0.219422  0.215153   69.99      0  \n",
       "\n",
       "[5 rows x 31 columns]"
      ]
     },
     "execution_count": 2,
     "metadata": {},
     "output_type": "execute_result"
    }
   ],
   "source": [
    "data = pd.read_csv('creditcard.csv')\n",
    "data.head()"
   ]
  },
  {
   "cell_type": "code",
   "execution_count": 3,
   "metadata": {},
   "outputs": [
    {
     "data": {
      "text/plain": [
       "0    284315\n",
       "1       492\n",
       "Name: Class, dtype: int64"
      ]
     },
     "execution_count": 3,
     "metadata": {},
     "output_type": "execute_result"
    }
   ],
   "source": [
    "data['Class'].value_counts()"
   ]
  },
  {
   "cell_type": "code",
   "execution_count": 4,
   "metadata": {},
   "outputs": [
    {
     "data": {
      "text/plain": [
       "<matplotlib.axes._subplots.AxesSubplot at 0x2d425101ac8>"
      ]
     },
     "execution_count": 4,
     "metadata": {},
     "output_type": "execute_result"
    },
    {
     "data": {
      "image/png": "[encoded data removed]",
      "text/plain": [
       "<Figure size 432x288 with 1 Axes>"
      ]
     },
     "metadata": {
      "needs_background": "light"
     },
     "output_type": "display_data"
    }
   ],
   "source": [
    "# Count Plot (a.k.a. Frequency bar Plot)\n",
    "sns.countplot(x = 'Class', data = data)"
   ]
  },
  {
   "cell_type": "code",
   "execution_count": 5,
   "metadata": {},
   "outputs": [],
   "source": [
    "X = data.values[:,:-1]\n",
    "Y = data.values[:,-1]\n",
    "Y = Y.astype('int')"
   ]
  },
  {
   "cell_type": "code",
   "execution_count": 6,
   "metadata": {},
   "outputs": [],
   "source": [
    "from sklearn.preprocessing import StandardScaler\n",
    "\n",
    "sc = StandardScaler()\n",
    "sc.fit(X)\n",
    "X = sc.transform(X)"
   ]
  },
  {
   "cell_type": "code",
   "execution_count": 7,
   "metadata": {},
   "outputs": [],
   "source": [
    "from sklearn.model_selection import train_test_split\n",
    "X_train, X_test, Y_train, Y_test = train_test_split(X, Y, test_size = 0.3, random_state = 10)"
   ]
  },
  {
   "cell_type": "code",
   "execution_count": 8,
   "metadata": {},
   "outputs": [],
   "source": [
    "from sklearn.linear_model import LogisticRegression\n",
    "\n",
    "lr = LogisticRegression(max_iter = 200)\n",
    "lr.fit(X_train, Y_train)\n",
    "Y_pred_lr = lr.predict(X_test)"
   ]
  },
  {
   "cell_type": "code",
   "execution_count": 9,
   "metadata": {},
   "outputs": [
    {
     "name": "stdout",
     "output_type": "stream",
     "text": [
      "[[85286    16]\n",
      " [   50    91]]\n",
      "\n",
      "Classification report\n",
      "               precision    recall  f1-score   support\n",
      "\n",
      "    No Fraud       1.00      1.00      1.00     85302\n",
      "       Fraud       0.85      0.65      0.73       141\n",
      "\n",
      "    accuracy                           1.00     85443\n",
      "   macro avg       0.92      0.82      0.87     85443\n",
      "weighted avg       1.00      1.00      1.00     85443\n",
      "\n",
      "\n",
      "Accuracy Score : 0.9992\n"
     ]
    }
   ],
   "source": [
    "from sklearn.metrics import classification_report, accuracy_score, confusion_matrix\n",
    "\n",
    "print(confusion_matrix(Y_test, Y_pred_lr))\n",
    "print('\\nClassification report\\n',classification_report(Y_test, Y_pred_lr, target_names = ['No Fraud', 'Fraud']))\n",
    "print('\\nAccuracy Score :',round(accuracy_score(Y_test, Y_pred_lr),4))"
   ]
  },
  {
   "cell_type": "code",
   "execution_count": null,
   "metadata": {},
   "outputs": [],
   "source": []
  },
  {
   "cell_type": "markdown",
   "metadata": {},
   "source": [
    "# UPSAMPLING DATA"
   ]
  },
  {
   "cell_type": "code",
   "execution_count": 10,
   "metadata": {},
   "outputs": [],
   "source": [
    "from sklearn.utils import resample\n",
    "\n",
    "df_majority = data[data['Class'] == 0]\n",
    "df_minority = data[data['Class'] == 1]\n",
    "\n",
    "df_minority_upsampled = resample(df_minority,\n",
    "                                 replace = True,\n",
    "                                 n_samples = 250000,\n",
    "                                 random_state = 10)\n",
    "\n",
    "data1 = pd.concat([df_majority,df_minority_upsampled])"
   ]
  },
  {
   "cell_type": "code",
   "execution_count": null,
   "metadata": {},
   "outputs": [],
   "source": []
  },
  {
   "cell_type": "code",
   "execution_count": 11,
   "metadata": {},
   "outputs": [
    {
     "data": {
      "text/plain": [
       "<matplotlib.axes._subplots.AxesSubplot at 0x2d426255588>"
      ]
     },
     "execution_count": 11,
     "metadata": {},
     "output_type": "execute_result"
    },
    {
     "data": {
      "image/png": "[encoded data removed]",
      "text/plain": [
       "<Figure size 432x288 with 1 Axes>"
      ]
     },
     "metadata": {
      "needs_background": "light"
     },
     "output_type": "display_data"
    }
   ],
   "source": [
    "sns.countplot(x = 'Class', data = data1)"
   ]
  },
  {
   "cell_type": "code",
   "execution_count": 12,
   "metadata": {},
   "outputs": [
    {
     "name": "stdout",
     "output_type": "stream",
     "text": [
      "<class 'pandas.core.frame.DataFrame'>\n",
      "Int64Index: 534315 entries, 0 to 144108\n",
      "Data columns (total 31 columns):\n",
      " #   Column  Non-Null Count   Dtype  \n",
      "---  ------  --------------   -----  \n",
      " 0   Time    534315 non-null  float64\n",
      " 1   V1      534315 non-null  float64\n",
      " 2   V2      534315 non-null  float64\n",
      " 3   V3      534315 non-null  float64\n",
      " 4   V4      534315 non-null  float64\n",
      " 5   V5      534315 non-null  float64\n",
      " 6   V6      534315 non-null  float64\n",
      " 7   V7      534315 non-null  float64\n",
      " 8   V8      534315 non-null  float64\n",
      " 9   V9      534315 non-null  float64\n",
      " 10  V10     534315 non-null  float64\n",
      " 11  V11     534315 non-null  float64\n",
      " 12  V12     534315 non-null  float64\n",
      " 13  V13     534315 non-null  float64\n",
      " 14  V14     534315 non-null  float64\n",
      " 15  V15     534315 non-null  float64\n",
      " 16  V16     534315 non-null  float64\n",
      " 17  V17     534315 non-null  float64\n",
      " 18  V18     534315 non-null  float64\n",
      " 19  V19     534315 non-null  float64\n",
      " 20  V20     534315 non-null  float64\n",
      " 21  V21     534315 non-null  float64\n",
      " 22  V22     534315 non-null  float64\n",
      " 23  V23     534315 non-null  float64\n",
      " 24  V24     534315 non-null  float64\n",
      " 25  V25     534315 non-null  float64\n",
      " 26  V26     534315 non-null  float64\n",
      " 27  V27     534315 non-null  float64\n",
      " 28  V28     534315 non-null  float64\n",
      " 29  Amount  534315 non-null  float64\n",
      " 30  Class   534315 non-null  int64  \n",
      "dtypes: float64(30), int64(1)\n",
      "memory usage: 150.4 MB\n"
     ]
    }
   ],
   "source": [
    "data1.info()"
   ]
  },
  {
   "cell_type": "code",
   "execution_count": 13,
   "metadata": {},
   "outputs": [
    {
     "data": {
      "text/html": [
       "<div>\n",
       "<style scoped>\n",
       "    .dataframe tbody tr th:only-of-type {\n",
       "        vertical-align: middle;\n",
       "    }\n",
       "\n",
       "    .dataframe tbody tr th {\n",
       "        vertical-align: top;\n",
       "    }\n",
       "\n",
       "    .dataframe thead th {\n",
       "        text-align: right;\n",
       "    }\n",
       "</style>\n",
       "<table border=\"1\" class=\"dataframe\">\n",
       "  <thead>\n",
       "    <tr style=\"text-align: right;\">\n",
       "      <th></th>\n",
       "      <th>Time</th>\n",
       "      <th>V1</th>\n",
       "      <th>V2</th>\n",
       "      <th>V3</th>\n",
       "      <th>V4</th>\n",
       "      <th>V5</th>\n",
       "      <th>V6</th>\n",
       "      <th>V7</th>\n",
       "      <th>V8</th>\n",
       "      <th>V9</th>\n",
       "      <th>...</th>\n",
       "      <th>V21</th>\n",
       "      <th>V22</th>\n",
       "      <th>V23</th>\n",
       "      <th>V24</th>\n",
       "      <th>V25</th>\n",
       "      <th>V26</th>\n",
       "      <th>V27</th>\n",
       "      <th>V28</th>\n",
       "      <th>Amount</th>\n",
       "      <th>Class</th>\n",
       "    </tr>\n",
       "  </thead>\n",
       "  <tbody>\n",
       "    <tr>\n",
       "      <th>count</th>\n",
       "      <td>534315.000000</td>\n",
       "      <td>534315.000000</td>\n",
       "      <td>534315.000000</td>\n",
       "      <td>534315.000000</td>\n",
       "      <td>534315.000000</td>\n",
       "      <td>534315.000000</td>\n",
       "      <td>534315.000000</td>\n",
       "      <td>534315.000000</td>\n",
       "      <td>534315.000000</td>\n",
       "      <td>534315.000000</td>\n",
       "      <td>...</td>\n",
       "      <td>534315.000000</td>\n",
       "      <td>534315.000000</td>\n",
       "      <td>534315.000000</td>\n",
       "      <td>534315.000000</td>\n",
       "      <td>534315.000000</td>\n",
       "      <td>534315.000000</td>\n",
       "      <td>534315.000000</td>\n",
       "      <td>534315.000000</td>\n",
       "      <td>534315.000000</td>\n",
       "      <td>534315.000000</td>\n",
       "    </tr>\n",
       "    <tr>\n",
       "      <th>mean</th>\n",
       "      <td>88230.851324</td>\n",
       "      <td>-2.228427</td>\n",
       "      <td>1.692454</td>\n",
       "      <td>-3.283644</td>\n",
       "      <td>2.120413</td>\n",
       "      <td>-1.469039</td>\n",
       "      <td>-0.653357</td>\n",
       "      <td>-2.596507</td>\n",
       "      <td>0.267355</td>\n",
       "      <td>-1.204291</td>\n",
       "      <td>...</td>\n",
       "      <td>0.333298</td>\n",
       "      <td>0.005543</td>\n",
       "      <td>-0.018831</td>\n",
       "      <td>-0.048559</td>\n",
       "      <td>0.020198</td>\n",
       "      <td>0.024632</td>\n",
       "      <td>0.079474</td>\n",
       "      <td>0.035532</td>\n",
       "      <td>104.042761</td>\n",
       "      <td>0.467889</td>\n",
       "    </tr>\n",
       "    <tr>\n",
       "      <th>std</th>\n",
       "      <td>48156.961813</td>\n",
       "      <td>5.413778</td>\n",
       "      <td>3.652427</td>\n",
       "      <td>6.100457</td>\n",
       "      <td>3.169544</td>\n",
       "      <td>4.124592</td>\n",
       "      <td>1.743534</td>\n",
       "      <td>5.724496</td>\n",
       "      <td>4.736958</td>\n",
       "      <td>2.282599</td>\n",
       "      <td>...</td>\n",
       "      <td>2.718875</td>\n",
       "      <td>1.150201</td>\n",
       "      <td>1.174688</td>\n",
       "      <td>0.567780</td>\n",
       "      <td>0.664592</td>\n",
       "      <td>0.477840</td>\n",
       "      <td>0.989184</td>\n",
       "      <td>0.445994</td>\n",
       "      <td>253.210607</td>\n",
       "      <td>0.498968</td>\n",
       "    </tr>\n",
       "    <tr>\n",
       "      <th>min</th>\n",
       "      <td>0.000000</td>\n",
       "      <td>-56.407510</td>\n",
       "      <td>-72.715728</td>\n",
       "      <td>-48.325589</td>\n",
       "      <td>-5.683171</td>\n",
       "      <td>-113.743307</td>\n",
       "      <td>-26.160506</td>\n",
       "      <td>-43.557242</td>\n",
       "      <td>-73.216718</td>\n",
       "      <td>-13.434066</td>\n",
       "      <td>...</td>\n",
       "      <td>-34.830382</td>\n",
       "      <td>-10.933144</td>\n",
       "      <td>-44.807735</td>\n",
       "      <td>-2.836627</td>\n",
       "      <td>-10.295397</td>\n",
       "      <td>-2.604551</td>\n",
       "      <td>-22.565679</td>\n",
       "      <td>-15.430084</td>\n",
       "      <td>0.000000</td>\n",
       "      <td>0.000000</td>\n",
       "    </tr>\n",
       "    <tr>\n",
       "      <th>25%</th>\n",
       "      <td>46602.000000</td>\n",
       "      <td>-2.645946</td>\n",
       "      <td>-0.190562</td>\n",
       "      <td>-4.769752</td>\n",
       "      <td>-0.199033</td>\n",
       "      <td>-1.664818</td>\n",
       "      <td>-1.458897</td>\n",
       "      <td>-2.842994</td>\n",
       "      <td>-0.204461</td>\n",
       "      <td>-2.133380</td>\n",
       "      <td>...</td>\n",
       "      <td>-0.175273</td>\n",
       "      <td>-0.540395</td>\n",
       "      <td>-0.234735</td>\n",
       "      <td>-0.397079</td>\n",
       "      <td>-0.316093</td>\n",
       "      <td>-0.290306</td>\n",
       "      <td>-0.064128</td>\n",
       "      <td>-0.058216</td>\n",
       "      <td>1.600000</td>\n",
       "      <td>0.000000</td>\n",
       "    </tr>\n",
       "    <tr>\n",
       "      <th>50%</th>\n",
       "      <td>80643.000000</td>\n",
       "      <td>-0.714497</td>\n",
       "      <td>0.885198</td>\n",
       "      <td>-1.188498</td>\n",
       "      <td>1.184526</td>\n",
       "      <td>-0.394748</td>\n",
       "      <td>-0.618898</td>\n",
       "      <td>-0.567844</td>\n",
       "      <td>0.140486</td>\n",
       "      <td>-0.646203</td>\n",
       "      <td>...</td>\n",
       "      <td>0.130749</td>\n",
       "      <td>0.028234</td>\n",
       "      <td>-0.031632</td>\n",
       "      <td>0.009210</td>\n",
       "      <td>0.049970</td>\n",
       "      <td>-0.016023</td>\n",
       "      <td>0.043583</td>\n",
       "      <td>0.031878</td>\n",
       "      <td>18.980000</td>\n",
       "      <td>0.000000</td>\n",
       "    </tr>\n",
       "    <tr>\n",
       "      <th>75%</th>\n",
       "      <td>134855.000000</td>\n",
       "      <td>1.082146</td>\n",
       "      <td>2.632881</td>\n",
       "      <td>0.403161</td>\n",
       "      <td>4.016731</td>\n",
       "      <td>0.492122</td>\n",
       "      <td>0.100492</td>\n",
       "      <td>0.298621</td>\n",
       "      <td>0.818118</td>\n",
       "      <td>0.208494</td>\n",
       "      <td>...</td>\n",
       "      <td>0.609508</td>\n",
       "      <td>0.574294</td>\n",
       "      <td>0.190887</td>\n",
       "      <td>0.380442</td>\n",
       "      <td>0.389711</td>\n",
       "      <td>0.322188</td>\n",
       "      <td>0.416546</td>\n",
       "      <td>0.204124</td>\n",
       "      <td>99.990000</td>\n",
       "      <td>1.000000</td>\n",
       "    </tr>\n",
       "    <tr>\n",
       "      <th>max</th>\n",
       "      <td>172792.000000</td>\n",
       "      <td>2.454930</td>\n",
       "      <td>22.057729</td>\n",
       "      <td>9.382558</td>\n",
       "      <td>16.875344</td>\n",
       "      <td>34.801666</td>\n",
       "      <td>73.301626</td>\n",
       "      <td>120.589494</td>\n",
       "      <td>20.007208</td>\n",
       "      <td>15.594995</td>\n",
       "      <td>...</td>\n",
       "      <td>27.202839</td>\n",
       "      <td>10.503090</td>\n",
       "      <td>22.528412</td>\n",
       "      <td>4.584549</td>\n",
       "      <td>7.519589</td>\n",
       "      <td>3.517346</td>\n",
       "      <td>31.612198</td>\n",
       "      <td>33.847808</td>\n",
       "      <td>25691.160000</td>\n",
       "      <td>1.000000</td>\n",
       "    </tr>\n",
       "  </tbody>\n",
       "</table>\n",
       "<p>8 rows × 31 columns</p>\n",
       "</div>"
      ],
      "text/plain": [
       "                Time             V1             V2             V3  \\\n",
       "count  534315.000000  534315.000000  534315.000000  534315.000000   \n",
       "mean    88230.851324      -2.228427       1.692454      -3.283644   \n",
       "std     48156.961813       5.413778       3.652427       6.100457   \n",
       "min         0.000000     -56.407510     -72.715728     -48.325589   \n",
       "25%     46602.000000      -2.645946      -0.190562      -4.769752   \n",
       "50%     80643.000000      -0.714497       0.885198      -1.188498   \n",
       "75%    134855.000000       1.082146       2.632881       0.403161   \n",
       "max    172792.000000       2.454930      22.057729       9.382558   \n",
       "\n",
       "                  V4             V5             V6             V7  \\\n",
       "count  534315.000000  534315.000000  534315.000000  534315.000000   \n",
       "mean        2.120413      -1.469039      -0.653357      -2.596507   \n",
       "std         3.169544       4.124592       1.743534       5.724496   \n",
       "min        -5.683171    -113.743307     -26.160506     -43.557242   \n",
       "25%        -0.199033      -1.664818      -1.458897      -2.842994   \n",
       "50%         1.184526      -0.394748      -0.618898      -0.567844   \n",
       "75%         4.016731       0.492122       0.100492       0.298621   \n",
       "max        16.875344      34.801666      73.301626     120.589494   \n",
       "\n",
       "                  V8             V9  ...            V21            V22  \\\n",
       "count  534315.000000  534315.000000  ...  534315.000000  534315.000000   \n",
       "mean        0.267355      -1.204291  ...       0.333298       0.005543   \n",
       "std         4.736958       2.282599  ...       2.718875       1.150201   \n",
       "min       -73.216718     -13.434066  ...     -34.830382     -10.933144   \n",
       "25%        -0.204461      -2.133380  ...      -0.175273      -0.540395   \n",
       "50%         0.140486      -0.646203  ...       0.130749       0.028234   \n",
       "75%         0.818118       0.208494  ...       0.609508       0.574294   \n",
       "max        20.007208      15.594995  ...      27.202839      10.503090   \n",
       "\n",
       "                 V23            V24            V25            V26  \\\n",
       "count  534315.000000  534315.000000  534315.000000  534315.000000   \n",
       "mean       -0.018831      -0.048559       0.020198       0.024632   \n",
       "std         1.174688       0.567780       0.664592       0.477840   \n",
       "min       -44.807735      -2.836627     -10.295397      -2.604551   \n",
       "25%        -0.234735      -0.397079      -0.316093      -0.290306   \n",
       "50%        -0.031632       0.009210       0.049970      -0.016023   \n",
       "75%         0.190887       0.380442       0.389711       0.322188   \n",
       "max        22.528412       4.584549       7.519589       3.517346   \n",
       "\n",
       "                 V27            V28         Amount          Class  \n",
       "count  534315.000000  534315.000000  534315.000000  534315.000000  \n",
       "mean        0.079474       0.035532     104.042761       0.467889  \n",
       "std         0.989184       0.445994     253.210607       0.498968  \n",
       "min       -22.565679     -15.430084       0.000000       0.000000  \n",
       "25%        -0.064128      -0.058216       1.600000       0.000000  \n",
       "50%         0.043583       0.031878      18.980000       0.000000  \n",
       "75%         0.416546       0.204124      99.990000       1.000000  \n",
       "max        31.612198      33.847808   25691.160000       1.000000  \n",
       "\n",
       "[8 rows x 31 columns]"
      ]
     },
     "execution_count": 13,
     "metadata": {},
     "output_type": "execute_result"
    }
   ],
   "source": [
    "data1.describe()"
   ]
  },
  {
   "cell_type": "code",
   "execution_count": 14,
   "metadata": {},
   "outputs": [
    {
     "data": {
      "text/html": [
       "<div>\n",
       "<style scoped>\n",
       "    .dataframe tbody tr th:only-of-type {\n",
       "        vertical-align: middle;\n",
       "    }\n",
       "\n",
       "    .dataframe tbody tr th {\n",
       "        vertical-align: top;\n",
       "    }\n",
       "\n",
       "    .dataframe thead th {\n",
       "        text-align: right;\n",
       "    }\n",
       "</style>\n",
       "<table border=\"1\" class=\"dataframe\">\n",
       "  <thead>\n",
       "    <tr style=\"text-align: right;\">\n",
       "      <th></th>\n",
       "      <th>Time</th>\n",
       "      <th>V1</th>\n",
       "      <th>V2</th>\n",
       "      <th>V3</th>\n",
       "      <th>V4</th>\n",
       "      <th>V5</th>\n",
       "      <th>V6</th>\n",
       "      <th>V7</th>\n",
       "      <th>V8</th>\n",
       "      <th>V9</th>\n",
       "      <th>...</th>\n",
       "      <th>V21</th>\n",
       "      <th>V22</th>\n",
       "      <th>V23</th>\n",
       "      <th>V24</th>\n",
       "      <th>V25</th>\n",
       "      <th>V26</th>\n",
       "      <th>V27</th>\n",
       "      <th>V28</th>\n",
       "      <th>Amount</th>\n",
       "      <th>Class</th>\n",
       "    </tr>\n",
       "  </thead>\n",
       "  <tbody>\n",
       "    <tr>\n",
       "      <th>0</th>\n",
       "      <td>0.0</td>\n",
       "      <td>-1.359807</td>\n",
       "      <td>-0.072781</td>\n",
       "      <td>2.536347</td>\n",
       "      <td>1.378155</td>\n",
       "      <td>-0.338321</td>\n",
       "      <td>0.462388</td>\n",
       "      <td>0.239599</td>\n",
       "      <td>0.098698</td>\n",
       "      <td>0.363787</td>\n",
       "      <td>...</td>\n",
       "      <td>-0.018307</td>\n",
       "      <td>0.277838</td>\n",
       "      <td>-0.110474</td>\n",
       "      <td>0.066928</td>\n",
       "      <td>0.128539</td>\n",
       "      <td>-0.189115</td>\n",
       "      <td>0.133558</td>\n",
       "      <td>-0.021053</td>\n",
       "      <td>149.62</td>\n",
       "      <td>0</td>\n",
       "    </tr>\n",
       "    <tr>\n",
       "      <th>1</th>\n",
       "      <td>0.0</td>\n",
       "      <td>1.191857</td>\n",
       "      <td>0.266151</td>\n",
       "      <td>0.166480</td>\n",
       "      <td>0.448154</td>\n",
       "      <td>0.060018</td>\n",
       "      <td>-0.082361</td>\n",
       "      <td>-0.078803</td>\n",
       "      <td>0.085102</td>\n",
       "      <td>-0.255425</td>\n",
       "      <td>...</td>\n",
       "      <td>-0.225775</td>\n",
       "      <td>-0.638672</td>\n",
       "      <td>0.101288</td>\n",
       "      <td>-0.339846</td>\n",
       "      <td>0.167170</td>\n",
       "      <td>0.125895</td>\n",
       "      <td>-0.008983</td>\n",
       "      <td>0.014724</td>\n",
       "      <td>2.69</td>\n",
       "      <td>0</td>\n",
       "    </tr>\n",
       "    <tr>\n",
       "      <th>2</th>\n",
       "      <td>1.0</td>\n",
       "      <td>-1.358354</td>\n",
       "      <td>-1.340163</td>\n",
       "      <td>1.773209</td>\n",
       "      <td>0.379780</td>\n",
       "      <td>-0.503198</td>\n",
       "      <td>1.800499</td>\n",
       "      <td>0.791461</td>\n",
       "      <td>0.247676</td>\n",
       "      <td>-1.514654</td>\n",
       "      <td>...</td>\n",
       "      <td>0.247998</td>\n",
       "      <td>0.771679</td>\n",
       "      <td>0.909412</td>\n",
       "      <td>-0.689281</td>\n",
       "      <td>-0.327642</td>\n",
       "      <td>-0.139097</td>\n",
       "      <td>-0.055353</td>\n",
       "      <td>-0.059752</td>\n",
       "      <td>378.66</td>\n",
       "      <td>0</td>\n",
       "    </tr>\n",
       "    <tr>\n",
       "      <th>3</th>\n",
       "      <td>1.0</td>\n",
       "      <td>-0.966272</td>\n",
       "      <td>-0.185226</td>\n",
       "      <td>1.792993</td>\n",
       "      <td>-0.863291</td>\n",
       "      <td>-0.010309</td>\n",
       "      <td>1.247203</td>\n",
       "      <td>0.237609</td>\n",
       "      <td>0.377436</td>\n",
       "      <td>-1.387024</td>\n",
       "      <td>...</td>\n",
       "      <td>-0.108300</td>\n",
       "      <td>0.005274</td>\n",
       "      <td>-0.190321</td>\n",
       "      <td>-1.175575</td>\n",
       "      <td>0.647376</td>\n",
       "      <td>-0.221929</td>\n",
       "      <td>0.062723</td>\n",
       "      <td>0.061458</td>\n",
       "      <td>123.50</td>\n",
       "      <td>0</td>\n",
       "    </tr>\n",
       "    <tr>\n",
       "      <th>4</th>\n",
       "      <td>2.0</td>\n",
       "      <td>-1.158233</td>\n",
       "      <td>0.877737</td>\n",
       "      <td>1.548718</td>\n",
       "      <td>0.403034</td>\n",
       "      <td>-0.407193</td>\n",
       "      <td>0.095921</td>\n",
       "      <td>0.592941</td>\n",
       "      <td>-0.270533</td>\n",
       "      <td>0.817739</td>\n",
       "      <td>...</td>\n",
       "      <td>-0.009431</td>\n",
       "      <td>0.798278</td>\n",
       "      <td>-0.137458</td>\n",
       "      <td>0.141267</td>\n",
       "      <td>-0.206010</td>\n",
       "      <td>0.502292</td>\n",
       "      <td>0.219422</td>\n",
       "      <td>0.215153</td>\n",
       "      <td>69.99</td>\n",
       "      <td>0</td>\n",
       "    </tr>\n",
       "  </tbody>\n",
       "</table>\n",
       "<p>5 rows × 31 columns</p>\n",
       "</div>"
      ],
      "text/plain": [
       "   Time        V1        V2        V3        V4        V5        V6        V7  \\\n",
       "0   0.0 -1.359807 -0.072781  2.536347  1.378155 -0.338321  0.462388  0.239599   \n",
       "1   0.0  1.191857  0.266151  0.166480  0.448154  0.060018 -0.082361 -0.078803   \n",
       "2   1.0 -1.358354 -1.340163  1.773209  0.379780 -0.503198  1.800499  0.791461   \n",
       "3   1.0 -0.966272 -0.185226  1.792993 -0.863291 -0.010309  1.247203  0.237609   \n",
       "4   2.0 -1.158233  0.877737  1.548718  0.403034 -0.407193  0.095921  0.592941   \n",
       "\n",
       "         V8        V9  ...       V21       V22       V23       V24       V25  \\\n",
       "0  0.098698  0.363787  ... -0.018307  0.277838 -0.110474  0.066928  0.128539   \n",
       "1  0.085102 -0.255425  ... -0.225775 -0.638672  0.101288 -0.339846  0.167170   \n",
       "2  0.247676 -1.514654  ...  0.247998  0.771679  0.909412 -0.689281 -0.327642   \n",
       "3  0.377436 -1.387024  ... -0.108300  0.005274 -0.190321 -1.175575  0.647376   \n",
       "4 -0.270533  0.817739  ... -0.009431  0.798278 -0.137458  0.141267 -0.206010   \n",
       "\n",
       "        V26       V27       V28  Amount  Class  \n",
       "0 -0.189115  0.133558 -0.021053  149.62      0  \n",
       "1  0.125895 -0.008983  0.014724    2.69      0  \n",
       "2 -0.139097 -0.055353 -0.059752  378.66      0  \n",
       "3 -0.221929  0.062723  0.061458  123.50      0  \n",
       "4  0.502292  0.219422  0.215153   69.99      0  \n",
       "\n",
       "[5 rows x 31 columns]"
      ]
     },
     "execution_count": 14,
     "metadata": {},
     "output_type": "execute_result"
    }
   ],
   "source": [
    "data1.head()"
   ]
  },
  {
   "cell_type": "code",
   "execution_count": 15,
   "metadata": {},
   "outputs": [],
   "source": [
    "X = data1.values[:,:-1]\n",
    "Y = data1.values[:,-1]\n",
    "Y = Y.astype('int')"
   ]
  },
  {
   "cell_type": "code",
   "execution_count": 16,
   "metadata": {},
   "outputs": [],
   "source": [
    "sc.fit(X)\n",
    "X = sc.transform(X)"
   ]
  },
  {
   "cell_type": "code",
   "execution_count": 17,
   "metadata": {},
   "outputs": [],
   "source": [
    "X_train, X_test, Y_train, Y_test = train_test_split(X, Y, test_size = 0.3, random_state = 10)"
   ]
  },
  {
   "cell_type": "code",
   "execution_count": 18,
   "metadata": {},
   "outputs": [
    {
     "data": {
      "text/html": [
       "<div>\n",
       "<style scoped>\n",
       "    .dataframe tbody tr th:only-of-type {\n",
       "        vertical-align: middle;\n",
       "    }\n",
       "\n",
       "    .dataframe tbody tr th {\n",
       "        vertical-align: top;\n",
       "    }\n",
       "\n",
       "    .dataframe thead th {\n",
       "        text-align: right;\n",
       "    }\n",
       "</style>\n",
       "<table border=\"1\" class=\"dataframe\">\n",
       "  <thead>\n",
       "    <tr style=\"text-align: right;\">\n",
       "      <th></th>\n",
       "      <th>Class</th>\n",
       "    </tr>\n",
       "  </thead>\n",
       "  <tbody>\n",
       "    <tr>\n",
       "      <th>0</th>\n",
       "      <td>1</td>\n",
       "    </tr>\n",
       "    <tr>\n",
       "      <th>1</th>\n",
       "      <td>1</td>\n",
       "    </tr>\n",
       "    <tr>\n",
       "      <th>2</th>\n",
       "      <td>0</td>\n",
       "    </tr>\n",
       "    <tr>\n",
       "      <th>3</th>\n",
       "      <td>0</td>\n",
       "    </tr>\n",
       "    <tr>\n",
       "      <th>4</th>\n",
       "      <td>0</td>\n",
       "    </tr>\n",
       "  </tbody>\n",
       "</table>\n",
       "</div>"
      ],
      "text/plain": [
       "   Class\n",
       "0      1\n",
       "1      1\n",
       "2      0\n",
       "3      0\n",
       "4      0"
      ]
     },
     "execution_count": 18,
     "metadata": {},
     "output_type": "execute_result"
    }
   ],
   "source": [
    "test = pd. DataFrame()\n",
    "test['Class'] = Y_test\n",
    "test.head()"
   ]
  },
  {
   "cell_type": "code",
   "execution_count": null,
   "metadata": {},
   "outputs": [],
   "source": []
  },
  {
   "cell_type": "code",
   "execution_count": null,
   "metadata": {},
   "outputs": [],
   "source": []
  },
  {
   "cell_type": "markdown",
   "metadata": {},
   "source": [
    "# LOGISTIC REGRESSION"
   ]
  },
  {
   "cell_type": "code",
   "execution_count": 19,
   "metadata": {},
   "outputs": [],
   "source": [
    "lr = LogisticRegression(max_iter = 200)\n",
    "lr.fit(X_train, Y_train)\n",
    "Y_pred_lr = lr.predict(X_test)\n",
    "test['Logisitic Regression'] = Y_pred_lr"
   ]
  },
  {
   "cell_type": "code",
   "execution_count": 20,
   "metadata": {},
   "outputs": [
    {
     "name": "stdout",
     "output_type": "stream",
     "text": [
      "[[83552  1602]\n",
      " [ 6095 69046]]\n",
      "\n",
      "Classification report\n",
      "               precision    recall  f1-score   support\n",
      "\n",
      "    No Fraud       0.93      0.98      0.96     85154\n",
      "       Fraud       0.98      0.92      0.95     75141\n",
      "\n",
      "    accuracy                           0.95    160295\n",
      "   macro avg       0.95      0.95      0.95    160295\n",
      "weighted avg       0.95      0.95      0.95    160295\n",
      "\n",
      "\n",
      "Accuracy Score : 0.952\n"
     ]
    }
   ],
   "source": [
    "print(confusion_matrix(Y_test, Y_pred_lr))\n",
    "print('\\nClassification report\\n',classification_report(Y_test, Y_pred_lr, target_names = ['No Fraud', 'Fraud']))\n",
    "print('\\nAccuracy Score :',round(accuracy_score(Y_test, Y_pred_lr),4))"
   ]
  },
  {
   "cell_type": "code",
   "execution_count": null,
   "metadata": {},
   "outputs": [],
   "source": []
  },
  {
   "cell_type": "code",
   "execution_count": null,
   "metadata": {},
   "outputs": [],
   "source": []
  },
  {
   "cell_type": "markdown",
   "metadata": {},
   "source": [
    "# CROSS VALIDATION USING LOGISTIC REGRESSION"
   ]
  },
  {
   "cell_type": "code",
   "execution_count": 21,
   "metadata": {},
   "outputs": [
    {
     "name": "stdout",
     "output_type": "stream",
     "text": [
      "Result of each Iterations\n",
      "[0.95196781 0.95175392 0.95297043 0.95037699 0.95191434]\n",
      "\n",
      "Mean of results : 0.9518\n"
     ]
    }
   ],
   "source": [
    "from sklearn.model_selection import KFold, cross_val_score\n",
    "\n",
    "folds = KFold(n_splits = 5, random_state = 10, shuffle = True)\n",
    "lr_cv = LogisticRegression(max_iter = 200)\n",
    "result = cross_val_score(estimator = lr_cv, X = X_train, y = Y_train, cv = folds)\n",
    "\n",
    "print('Result of each Iterations')\n",
    "print(result)\n",
    "print('\\nMean of results :',round(result.mean(),4))"
   ]
  },
  {
   "cell_type": "code",
   "execution_count": 22,
   "metadata": {},
   "outputs": [],
   "source": [
    "for train_value, test_value in folds.split(X_train):\n",
    "    lr_cv.fit(X_train[train_value], Y_train[train_value]).predict(X_train[test_value])\n",
    "    \n",
    "Y_pred_lr_cv = lr_cv.predict(X_test)\n",
    "test['Logisitic Regression using CV'] = Y_pred_lr_cv"
   ]
  },
  {
   "cell_type": "code",
   "execution_count": 23,
   "metadata": {},
   "outputs": [
    {
     "name": "stdout",
     "output_type": "stream",
     "text": [
      "[[83550  1604]\n",
      " [ 6095 69046]]\n",
      "\n",
      "Classification report\n",
      "               precision    recall  f1-score   support\n",
      "\n",
      "    No Fraud       0.93      0.98      0.96     85154\n",
      "       Fraud       0.98      0.92      0.95     75141\n",
      "\n",
      "    accuracy                           0.95    160295\n",
      "   macro avg       0.95      0.95      0.95    160295\n",
      "weighted avg       0.95      0.95      0.95    160295\n",
      "\n",
      "\n",
      "Accuracy Score : 0.952\n"
     ]
    }
   ],
   "source": [
    "print(confusion_matrix(Y_test, Y_pred_lr_cv))\n",
    "print('\\nClassification report\\n',classification_report(Y_test, Y_pred_lr_cv, target_names = ['No Fraud', 'Fraud']))\n",
    "print('\\nAccuracy Score :',round(accuracy_score(Y_test, Y_pred_lr_cv),4))"
   ]
  },
  {
   "cell_type": "code",
   "execution_count": null,
   "metadata": {},
   "outputs": [],
   "source": []
  },
  {
   "cell_type": "code",
   "execution_count": null,
   "metadata": {},
   "outputs": [],
   "source": []
  },
  {
   "cell_type": "markdown",
   "metadata": {},
   "source": [
    "# DECISION TREE"
   ]
  },
  {
   "cell_type": "code",
   "execution_count": 24,
   "metadata": {},
   "outputs": [],
   "source": [
    "from sklearn.tree import DecisionTreeClassifier\n",
    "\n",
    "dt = DecisionTreeClassifier(criterion = 'gini', random_state = 10)\n",
    "dt.fit(X_train, Y_train)\n",
    "Y_pred_dt = dt.predict(X_test)\n",
    "test['Decision Tree'] = Y_pred_dt"
   ]
  },
  {
   "cell_type": "code",
   "execution_count": 25,
   "metadata": {},
   "outputs": [
    {
     "name": "stdout",
     "output_type": "stream",
     "text": [
      "[[85114    40]\n",
      " [    0 75141]]\n",
      "\n",
      "Classification report\n",
      "               precision    recall  f1-score   support\n",
      "\n",
      "    No Fraud       1.00      1.00      1.00     85154\n",
      "       Fraud       1.00      1.00      1.00     75141\n",
      "\n",
      "    accuracy                           1.00    160295\n",
      "   macro avg       1.00      1.00      1.00    160295\n",
      "weighted avg       1.00      1.00      1.00    160295\n",
      "\n",
      "\n",
      "Accuracy Score : 0.9998\n"
     ]
    }
   ],
   "source": [
    "print(confusion_matrix(Y_test, Y_pred_dt))\n",
    "print('\\nClassification report\\n',classification_report(Y_test, Y_pred_dt, target_names = ['No Fraud', 'Fraud']))\n",
    "print('\\nAccuracy Score :',round(accuracy_score(Y_test, Y_pred_dt),4))"
   ]
  },
  {
   "cell_type": "code",
   "execution_count": null,
   "metadata": {},
   "outputs": [],
   "source": []
  },
  {
   "cell_type": "code",
   "execution_count": null,
   "metadata": {},
   "outputs": [],
   "source": []
  },
  {
   "cell_type": "markdown",
   "metadata": {},
   "source": [
    "# BAGGING"
   ]
  },
  {
   "cell_type": "code",
   "execution_count": 26,
   "metadata": {},
   "outputs": [],
   "source": [
    "from sklearn.ensemble import ExtraTreesClassifier\n",
    "\n",
    "etc = ExtraTreesClassifier(n_estimators = 200, random_state = 10)\n",
    "etc.fit(X_train, Y_train)\n",
    "Y_pred_etc = etc.predict(X_test)\n",
    "test['Bagging'] = Y_pred_etc"
   ]
  },
  {
   "cell_type": "code",
   "execution_count": 27,
   "metadata": {},
   "outputs": [
    {
     "name": "stdout",
     "output_type": "stream",
     "text": [
      "[[85152     2]\n",
      " [    0 75141]]\n",
      "\n",
      "Classification report\n",
      "               precision    recall  f1-score   support\n",
      "\n",
      "    No Fraud       1.00      1.00      1.00     85154\n",
      "       Fraud       1.00      1.00      1.00     75141\n",
      "\n",
      "    accuracy                           1.00    160295\n",
      "   macro avg       1.00      1.00      1.00    160295\n",
      "weighted avg       1.00      1.00      1.00    160295\n",
      "\n",
      "\n",
      "Accuracy Score : 1.0\n"
     ]
    }
   ],
   "source": [
    "print(confusion_matrix(Y_test, Y_pred_etc))\n",
    "print('\\nClassification report\\n',classification_report(Y_test, Y_pred_etc, target_names = ['No Fraud', 'Fraud']))\n",
    "print('\\nAccuracy Score :',round(accuracy_score(Y_test, Y_pred_etc),4))"
   ]
  },
  {
   "cell_type": "code",
   "execution_count": null,
   "metadata": {},
   "outputs": [],
   "source": []
  },
  {
   "cell_type": "code",
   "execution_count": null,
   "metadata": {},
   "outputs": [],
   "source": []
  },
  {
   "cell_type": "markdown",
   "metadata": {},
   "source": [
    "# SVM"
   ]
  },
  {
   "cell_type": "code",
   "execution_count": 28,
   "metadata": {},
   "outputs": [],
   "source": [
    "from sklearn import svm\n",
    "\n",
    "sv = svm.SVC(kernel = 'rbf', C = 1.0, gamma = 0.1)\n",
    "sv.fit(X_train, Y_train)\n",
    "Y_pred_svm = sv.predict(X_test)\n",
    "test['SVM'] = Y_pred_svm"
   ]
  },
  {
   "cell_type": "code",
   "execution_count": 29,
   "metadata": {},
   "outputs": [
    {
     "name": "stdout",
     "output_type": "stream",
     "text": [
      "[[84970   184]\n",
      " [    0 75141]]\n",
      "\n",
      "Classification report\n",
      "               precision    recall  f1-score   support\n",
      "\n",
      "    No Fraud       1.00      1.00      1.00     85154\n",
      "       Fraud       1.00      1.00      1.00     75141\n",
      "\n",
      "    accuracy                           1.00    160295\n",
      "   macro avg       1.00      1.00      1.00    160295\n",
      "weighted avg       1.00      1.00      1.00    160295\n",
      "\n",
      "\n",
      "Accuracy Score : 0.9989\n"
     ]
    }
   ],
   "source": [
    "print(confusion_matrix(Y_test, Y_pred_svm))\n",
    "print('\\nClassification report\\n',classification_report(Y_test, Y_pred_svm, target_names = ['No Fraud', 'Fraud']))\n",
    "print('\\nAccuracy Score :',round(accuracy_score(Y_test, Y_pred_svm),4))"
   ]
  },
  {
   "cell_type": "code",
   "execution_count": null,
   "metadata": {},
   "outputs": [],
   "source": [
    "'''\n",
    "[[84970   184]\n",
    " [    0 75141]]\n",
    "\n",
    "Classification report\n",
    "               precision    recall  f1-score   support\n",
    "\n",
    "    No Fraud       1.00      1.00      1.00     85154\n",
    "       Fraud       1.00      1.00      1.00     75141\n",
    "\n",
    "    accuracy                           1.00    160295\n",
    "   macro avg       1.00      1.00      1.00    160295\n",
    "weighted avg       1.00      1.00      1.00    160295\n",
    "\n",
    "\n",
    "Accuracy Score : 0.9989\n",
    "'''\n"
   ]
  },
  {
   "cell_type": "code",
   "execution_count": null,
   "metadata": {},
   "outputs": [],
   "source": []
  },
  {
   "cell_type": "markdown",
   "metadata": {},
   "source": [
    "# KNN"
   ]
  },
  {
   "cell_type": "code",
   "execution_count": 30,
   "metadata": {},
   "outputs": [],
   "source": [
    "from sklearn.neighbors import KNeighborsClassifier\n",
    "\n",
    "knn = KNeighborsClassifier(23, metric = 'euclidean')\n",
    "knn.fit(X_train, Y_train)\n",
    "Y_pred_knn = knn.predict(X_test)\n",
    "test['KNN'] = Y_pred_knn"
   ]
  },
  {
   "cell_type": "code",
   "execution_count": 31,
   "metadata": {},
   "outputs": [
    {
     "name": "stdout",
     "output_type": "stream",
     "text": [
      "[[84902   252]\n",
      " [    0 75141]]\n",
      "\n",
      "Classification report\n",
      "               precision    recall  f1-score   support\n",
      "\n",
      "    No Fraud       1.00      1.00      1.00     85154\n",
      "       Fraud       1.00      1.00      1.00     75141\n",
      "\n",
      "    accuracy                           1.00    160295\n",
      "   macro avg       1.00      1.00      1.00    160295\n",
      "weighted avg       1.00      1.00      1.00    160295\n",
      "\n",
      "\n",
      "Accuracy Score : 0.9984\n"
     ]
    }
   ],
   "source": [
    "print(confusion_matrix(Y_test, Y_pred_knn))\n",
    "print('\\nClassification report\\n',classification_report(Y_test, Y_pred_knn, target_names = ['No Fraud', 'Fraud']))\n",
    "print('\\nAccuracy Score :',round(accuracy_score(Y_test, Y_pred_knn),4))"
   ]
  },
  {
   "cell_type": "code",
   "execution_count": null,
   "metadata": {},
   "outputs": [],
   "source": []
  },
  {
   "cell_type": "code",
   "execution_count": null,
   "metadata": {},
   "outputs": [],
   "source": []
  },
  {
   "cell_type": "markdown",
   "metadata": {},
   "source": [
    "# AUC-ROC CURVE"
   ]
  },
  {
   "cell_type": "code",
   "execution_count": 32,
   "metadata": {},
   "outputs": [],
   "source": [
    "from sklearn.metrics import roc_curve,auc\n",
    "\n",
    "fpr = []\n",
    "tpr = []\n",
    "auc1 = []\n",
    "\n",
    "for i in test.columns[1:]:\n",
    "    f,t,z = roc_curve(Y_test, test[i])\n",
    "    a = round(auc(f,t),6)\n",
    "    fpr.append(f)\n",
    "    tpr.append(t)\n",
    "    auc1.append(a)"
   ]
  },
  {
   "cell_type": "code",
   "execution_count": 35,
   "metadata": {},
   "outputs": [
    {
     "data": {
      "image/png": "[encoded data removed]",
      "text/plain": [
       "<Figure size 720x432 with 1 Axes>"
      ]
     },
     "metadata": {
      "needs_background": "light"
     },
     "output_type": "display_data"
    }
   ],
   "source": [
    "plt.figure(figsize = (10,6))\n",
    "plt.title('AUC-ROC CURVE', fontsize = 15)\n",
    "cl = list(test.columns[1:])\n",
    "\n",
    "#for i in range(6):\n",
    "#    if i%2 == 0:\n",
    "#        la = cl[i]+' '+str(auc1[i])\n",
    "#        plt.plot(fpr[i],tpr[i], label = la)\n",
    "\n",
    "\n",
    "plt.plot(fpr[0],tpr[0], label = str('Logistic Regression'+' '+str(auc1[0])))\n",
    "#plt.plot(fpr[1],tpr[1], label = str('Logistic Regression using CV'+' '+str(auc1[1])))\n",
    "plt.plot(fpr[2],tpr[2], label = str('Decision Tree'+' '+str(auc1[2])))\n",
    "#plt.plot(fpr[3],tpr[3], label = str('Bagging'+' '+str(auc1[3])))\n",
    "#plt.plot(fpr[4],tpr[4], label = str('SVM'+' '+str(auc1[4])))\n",
    "plt.plot(fpr[5],tpr[5], label = str('KNN'+' '+str(auc1[5])))\n",
    "\n",
    "plt.plot([0,1],[0,1],'r--')\n",
    "plt.legend(loc = 0, fontsize = 13)\n",
    "plt.xlabel('False Positive Rate', fontsize = 13)\n",
    "plt.ylabel('True Positive Rate', fontsize = 13)\n",
    "plt.show()"
   ]
  },
  {
   "cell_type": "code",
   "execution_count": null,
   "metadata": {},
   "outputs": [],
   "source": []
  },
  {
   "cell_type": "code",
   "execution_count": null,
   "metadata": {},
   "outputs": [],
   "source": []
  }
 ],
 "metadata": {
  "kernelspec": {
   "display_name": "Python 3",
   "language": "python",
   "name": "python3"
  },
  "language_info": {
   "codemirror_mode": {
    "name": "ipython",
    "version": 3
   },
   "file_extension": ".py",
   "mimetype": "text/x-python",
   "name": "python",
   "nbconvert_exporter": "python",
   "pygments_lexer": "ipython3",
   "version": "3.7.6"
  }
 },
 "nbformat": 4,
 "nbformat_minor": 4
}
