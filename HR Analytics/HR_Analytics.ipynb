{
 "cells": [
  {
   "cell_type": "code",
   "execution_count": 1,
   "metadata": {},
   "outputs": [],
   "source": [
    "# Importing the libraries\n",
    "\n",
    "import pandas as pd\n",
    "import numpy as np\n",
    "import seaborn as sns"
   ]
  },
  {
   "cell_type": "code",
   "execution_count": 2,
   "metadata": {},
   "outputs": [],
   "source": [
    "# Loading the data\n",
    "\n",
    "df_train = pd.read_csv('train_hr.csv', index_col = 0) "
   ]
  },
  {
   "cell_type": "code",
   "execution_count": 3,
   "metadata": {},
   "outputs": [
    {
     "data": {
      "text/html": [
       "<div>\n",
       "<style scoped>\n",
       "    .dataframe tbody tr th:only-of-type {\n",
       "        vertical-align: middle;\n",
       "    }\n",
       "\n",
       "    .dataframe tbody tr th {\n",
       "        vertical-align: top;\n",
       "    }\n",
       "\n",
       "    .dataframe thead th {\n",
       "        text-align: right;\n",
       "    }\n",
       "</style>\n",
       "<table border=\"1\" class=\"dataframe\">\n",
       "  <thead>\n",
       "    <tr style=\"text-align: right;\">\n",
       "      <th></th>\n",
       "      <th>department</th>\n",
       "      <th>region</th>\n",
       "      <th>education</th>\n",
       "      <th>gender</th>\n",
       "      <th>recruitment_channel</th>\n",
       "      <th>no_of_trainings</th>\n",
       "      <th>age</th>\n",
       "      <th>previous_year_rating</th>\n",
       "      <th>length_of_service</th>\n",
       "      <th>KPIs_met &gt;80%</th>\n",
       "      <th>awards_won?</th>\n",
       "      <th>avg_training_score</th>\n",
       "      <th>is_promoted</th>\n",
       "    </tr>\n",
       "    <tr>\n",
       "      <th>employee_id</th>\n",
       "      <th></th>\n",
       "      <th></th>\n",
       "      <th></th>\n",
       "      <th></th>\n",
       "      <th></th>\n",
       "      <th></th>\n",
       "      <th></th>\n",
       "      <th></th>\n",
       "      <th></th>\n",
       "      <th></th>\n",
       "      <th></th>\n",
       "      <th></th>\n",
       "      <th></th>\n",
       "    </tr>\n",
       "  </thead>\n",
       "  <tbody>\n",
       "    <tr>\n",
       "      <th>65438</th>\n",
       "      <td>Sales &amp; Marketing</td>\n",
       "      <td>region_7</td>\n",
       "      <td>Master's &amp; above</td>\n",
       "      <td>f</td>\n",
       "      <td>sourcing</td>\n",
       "      <td>1</td>\n",
       "      <td>35</td>\n",
       "      <td>5.0</td>\n",
       "      <td>8</td>\n",
       "      <td>1</td>\n",
       "      <td>0</td>\n",
       "      <td>49</td>\n",
       "      <td>0</td>\n",
       "    </tr>\n",
       "    <tr>\n",
       "      <th>65141</th>\n",
       "      <td>Operations</td>\n",
       "      <td>region_22</td>\n",
       "      <td>Bachelor's</td>\n",
       "      <td>m</td>\n",
       "      <td>other</td>\n",
       "      <td>1</td>\n",
       "      <td>30</td>\n",
       "      <td>5.0</td>\n",
       "      <td>4</td>\n",
       "      <td>0</td>\n",
       "      <td>0</td>\n",
       "      <td>60</td>\n",
       "      <td>0</td>\n",
       "    </tr>\n",
       "    <tr>\n",
       "      <th>7513</th>\n",
       "      <td>Sales &amp; Marketing</td>\n",
       "      <td>region_19</td>\n",
       "      <td>Bachelor's</td>\n",
       "      <td>m</td>\n",
       "      <td>sourcing</td>\n",
       "      <td>1</td>\n",
       "      <td>34</td>\n",
       "      <td>3.0</td>\n",
       "      <td>7</td>\n",
       "      <td>0</td>\n",
       "      <td>0</td>\n",
       "      <td>50</td>\n",
       "      <td>0</td>\n",
       "    </tr>\n",
       "    <tr>\n",
       "      <th>2542</th>\n",
       "      <td>Sales &amp; Marketing</td>\n",
       "      <td>region_23</td>\n",
       "      <td>Bachelor's</td>\n",
       "      <td>m</td>\n",
       "      <td>other</td>\n",
       "      <td>2</td>\n",
       "      <td>39</td>\n",
       "      <td>1.0</td>\n",
       "      <td>10</td>\n",
       "      <td>0</td>\n",
       "      <td>0</td>\n",
       "      <td>50</td>\n",
       "      <td>0</td>\n",
       "    </tr>\n",
       "    <tr>\n",
       "      <th>48945</th>\n",
       "      <td>Technology</td>\n",
       "      <td>region_26</td>\n",
       "      <td>Bachelor's</td>\n",
       "      <td>m</td>\n",
       "      <td>other</td>\n",
       "      <td>1</td>\n",
       "      <td>45</td>\n",
       "      <td>3.0</td>\n",
       "      <td>2</td>\n",
       "      <td>0</td>\n",
       "      <td>0</td>\n",
       "      <td>73</td>\n",
       "      <td>0</td>\n",
       "    </tr>\n",
       "  </tbody>\n",
       "</table>\n",
       "</div>"
      ],
      "text/plain": [
       "                    department     region         education gender  \\\n",
       "employee_id                                                          \n",
       "65438        Sales & Marketing   region_7  Master's & above      f   \n",
       "65141               Operations  region_22        Bachelor's      m   \n",
       "7513         Sales & Marketing  region_19        Bachelor's      m   \n",
       "2542         Sales & Marketing  region_23        Bachelor's      m   \n",
       "48945               Technology  region_26        Bachelor's      m   \n",
       "\n",
       "            recruitment_channel  no_of_trainings  age  previous_year_rating  \\\n",
       "employee_id                                                                   \n",
       "65438                  sourcing                1   35                   5.0   \n",
       "65141                     other                1   30                   5.0   \n",
       "7513                   sourcing                1   34                   3.0   \n",
       "2542                      other                2   39                   1.0   \n",
       "48945                     other                1   45                   3.0   \n",
       "\n",
       "             length_of_service  KPIs_met >80%  awards_won?  \\\n",
       "employee_id                                                  \n",
       "65438                        8              1            0   \n",
       "65141                        4              0            0   \n",
       "7513                         7              0            0   \n",
       "2542                        10              0            0   \n",
       "48945                        2              0            0   \n",
       "\n",
       "             avg_training_score  is_promoted  \n",
       "employee_id                                   \n",
       "65438                        49            0  \n",
       "65141                        60            0  \n",
       "7513                         50            0  \n",
       "2542                         50            0  \n",
       "48945                        73            0  "
      ]
     },
     "execution_count": 3,
     "metadata": {},
     "output_type": "execute_result"
    }
   ],
   "source": [
    "df_train.head()"
   ]
  },
  {
   "cell_type": "code",
   "execution_count": 4,
   "metadata": {},
   "outputs": [
    {
     "data": {
      "text/plain": [
       "(54808, 13)"
      ]
     },
     "execution_count": 4,
     "metadata": {},
     "output_type": "execute_result"
    }
   ],
   "source": [
    "df_train.shape"
   ]
  },
  {
   "cell_type": "code",
   "execution_count": 5,
   "metadata": {},
   "outputs": [],
   "source": [
    "# Dropping the gender variable as the promotion given will be on performance and not on gender basis\n",
    "\n",
    "df_train.drop('gender', axis = 1, inplace = True)"
   ]
  },
  {
   "cell_type": "code",
   "execution_count": 6,
   "metadata": {},
   "outputs": [],
   "source": [
    "# Creating the copy of original data \n",
    "\n",
    "df_train1 = df_train.copy()"
   ]
  },
  {
   "cell_type": "code",
   "execution_count": 7,
   "metadata": {},
   "outputs": [
    {
     "data": {
      "text/plain": [
       "department                 0\n",
       "region                     0\n",
       "education               2409\n",
       "recruitment_channel        0\n",
       "no_of_trainings            0\n",
       "age                        0\n",
       "previous_year_rating    4124\n",
       "length_of_service          0\n",
       "KPIs_met >80%              0\n",
       "awards_won?                0\n",
       "avg_training_score         0\n",
       "is_promoted                0\n",
       "dtype: int64"
      ]
     },
     "execution_count": 7,
     "metadata": {},
     "output_type": "execute_result"
    }
   ],
   "source": [
    "# Checking for Missing Values\n",
    "\n",
    "df_train1.isnull().sum()"
   ]
  },
  {
   "cell_type": "code",
   "execution_count": 8,
   "metadata": {},
   "outputs": [],
   "source": [
    "# Filling the Missing Values \n",
    "\n",
    "#print(df_train['education'].mode()[0])\n",
    "#print(df_train['previous_year_rating'].mean())\n",
    "#print(df_train['previous_year_rating'].median())\n",
    "#print(df_train['previous_year_rating'].mode()[0])\n",
    "\n",
    "# Filling the Missing values in education variable with mode \n",
    "df_train1['education'].fillna(df_train1['education'].mode()[0], inplace = True)\n",
    "\n",
    "\n",
    "# Filling the Missing values in previous_year_rating variable with zero \n",
    "# 0 -> they have only 1 year experience\n",
    "df_train1['previous_year_rating'].fillna(0,inplace = True)"
   ]
  },
  {
   "cell_type": "code",
   "execution_count": 9,
   "metadata": {},
   "outputs": [
    {
     "data": {
      "text/plain": [
       "department              0\n",
       "region                  0\n",
       "education               0\n",
       "recruitment_channel     0\n",
       "no_of_trainings         0\n",
       "age                     0\n",
       "previous_year_rating    0\n",
       "length_of_service       0\n",
       "KPIs_met >80%           0\n",
       "awards_won?             0\n",
       "avg_training_score      0\n",
       "is_promoted             0\n",
       "dtype: int64"
      ]
     },
     "execution_count": 9,
     "metadata": {},
     "output_type": "execute_result"
    }
   ],
   "source": [
    "# Checking for missing values\n",
    "\n",
    "df_train1.isnull().sum()"
   ]
  },
  {
   "cell_type": "code",
   "execution_count": 10,
   "metadata": {},
   "outputs": [
    {
     "data": {
      "text/plain": [
       "['department', 'region', 'education', 'recruitment_channel']"
      ]
     },
     "execution_count": 10,
     "metadata": {},
     "output_type": "execute_result"
    }
   ],
   "source": [
    "# Converting the categorical data to numeric data using Label Encoder\n",
    "\n",
    "# Creating a list of column names with categorical data\n",
    "\n",
    "colname = ['department', 'region', 'education', 'recruitment_channel']\n",
    "colname"
   ]
  },
  {
   "cell_type": "code",
   "execution_count": 11,
   "metadata": {},
   "outputs": [
    {
     "data": {
      "text/html": [
       "<div>\n",
       "<style scoped>\n",
       "    .dataframe tbody tr th:only-of-type {\n",
       "        vertical-align: middle;\n",
       "    }\n",
       "\n",
       "    .dataframe tbody tr th {\n",
       "        vertical-align: top;\n",
       "    }\n",
       "\n",
       "    .dataframe thead th {\n",
       "        text-align: right;\n",
       "    }\n",
       "</style>\n",
       "<table border=\"1\" class=\"dataframe\">\n",
       "  <thead>\n",
       "    <tr style=\"text-align: right;\">\n",
       "      <th></th>\n",
       "      <th>department</th>\n",
       "      <th>region</th>\n",
       "      <th>education</th>\n",
       "      <th>recruitment_channel</th>\n",
       "    </tr>\n",
       "    <tr>\n",
       "      <th>employee_id</th>\n",
       "      <th></th>\n",
       "      <th></th>\n",
       "      <th></th>\n",
       "      <th></th>\n",
       "    </tr>\n",
       "  </thead>\n",
       "  <tbody>\n",
       "    <tr>\n",
       "      <th>65438</th>\n",
       "      <td>Sales &amp; Marketing</td>\n",
       "      <td>region_7</td>\n",
       "      <td>Master's &amp; above</td>\n",
       "      <td>sourcing</td>\n",
       "    </tr>\n",
       "    <tr>\n",
       "      <th>65141</th>\n",
       "      <td>Operations</td>\n",
       "      <td>region_22</td>\n",
       "      <td>Bachelor's</td>\n",
       "      <td>other</td>\n",
       "    </tr>\n",
       "    <tr>\n",
       "      <th>7513</th>\n",
       "      <td>Sales &amp; Marketing</td>\n",
       "      <td>region_19</td>\n",
       "      <td>Bachelor's</td>\n",
       "      <td>sourcing</td>\n",
       "    </tr>\n",
       "    <tr>\n",
       "      <th>2542</th>\n",
       "      <td>Sales &amp; Marketing</td>\n",
       "      <td>region_23</td>\n",
       "      <td>Bachelor's</td>\n",
       "      <td>other</td>\n",
       "    </tr>\n",
       "    <tr>\n",
       "      <th>48945</th>\n",
       "      <td>Technology</td>\n",
       "      <td>region_26</td>\n",
       "      <td>Bachelor's</td>\n",
       "      <td>other</td>\n",
       "    </tr>\n",
       "  </tbody>\n",
       "</table>\n",
       "</div>"
      ],
      "text/plain": [
       "                    department     region         education  \\\n",
       "employee_id                                                   \n",
       "65438        Sales & Marketing   region_7  Master's & above   \n",
       "65141               Operations  region_22        Bachelor's   \n",
       "7513         Sales & Marketing  region_19        Bachelor's   \n",
       "2542         Sales & Marketing  region_23        Bachelor's   \n",
       "48945               Technology  region_26        Bachelor's   \n",
       "\n",
       "            recruitment_channel  \n",
       "employee_id                      \n",
       "65438                  sourcing  \n",
       "65141                     other  \n",
       "7513                   sourcing  \n",
       "2542                      other  \n",
       "48945                     other  "
      ]
     },
     "execution_count": 11,
     "metadata": {},
     "output_type": "execute_result"
    }
   ],
   "source": [
    "df_train1[colname].head()"
   ]
  },
  {
   "cell_type": "code",
   "execution_count": 12,
   "metadata": {},
   "outputs": [],
   "source": [
    "# Applying the Label Encoder Technique\n",
    "\n",
    "from sklearn.preprocessing import LabelEncoder\n",
    "\n",
    "le = LabelEncoder()\n",
    "\n",
    "for i in colname:\n",
    "    df_train1[i] = le.fit_transform(df_train1[i])"
   ]
  },
  {
   "cell_type": "code",
   "execution_count": 13,
   "metadata": {},
   "outputs": [
    {
     "data": {
      "text/html": [
       "<div>\n",
       "<style scoped>\n",
       "    .dataframe tbody tr th:only-of-type {\n",
       "        vertical-align: middle;\n",
       "    }\n",
       "\n",
       "    .dataframe tbody tr th {\n",
       "        vertical-align: top;\n",
       "    }\n",
       "\n",
       "    .dataframe thead th {\n",
       "        text-align: right;\n",
       "    }\n",
       "</style>\n",
       "<table border=\"1\" class=\"dataframe\">\n",
       "  <thead>\n",
       "    <tr style=\"text-align: right;\">\n",
       "      <th></th>\n",
       "      <th>department</th>\n",
       "      <th>region</th>\n",
       "      <th>education</th>\n",
       "      <th>recruitment_channel</th>\n",
       "    </tr>\n",
       "    <tr>\n",
       "      <th>employee_id</th>\n",
       "      <th></th>\n",
       "      <th></th>\n",
       "      <th></th>\n",
       "      <th></th>\n",
       "    </tr>\n",
       "  </thead>\n",
       "  <tbody>\n",
       "    <tr>\n",
       "      <th>65438</th>\n",
       "      <td>7</td>\n",
       "      <td>31</td>\n",
       "      <td>2</td>\n",
       "      <td>2</td>\n",
       "    </tr>\n",
       "    <tr>\n",
       "      <th>65141</th>\n",
       "      <td>4</td>\n",
       "      <td>14</td>\n",
       "      <td>0</td>\n",
       "      <td>0</td>\n",
       "    </tr>\n",
       "    <tr>\n",
       "      <th>7513</th>\n",
       "      <td>7</td>\n",
       "      <td>10</td>\n",
       "      <td>0</td>\n",
       "      <td>2</td>\n",
       "    </tr>\n",
       "    <tr>\n",
       "      <th>2542</th>\n",
       "      <td>7</td>\n",
       "      <td>15</td>\n",
       "      <td>0</td>\n",
       "      <td>0</td>\n",
       "    </tr>\n",
       "    <tr>\n",
       "      <th>48945</th>\n",
       "      <td>8</td>\n",
       "      <td>18</td>\n",
       "      <td>0</td>\n",
       "      <td>0</td>\n",
       "    </tr>\n",
       "  </tbody>\n",
       "</table>\n",
       "</div>"
      ],
      "text/plain": [
       "             department  region  education  recruitment_channel\n",
       "employee_id                                                    \n",
       "65438                 7      31          2                    2\n",
       "65141                 4      14          0                    0\n",
       "7513                  7      10          0                    2\n",
       "2542                  7      15          0                    0\n",
       "48945                 8      18          0                    0"
      ]
     },
     "execution_count": 13,
     "metadata": {},
     "output_type": "execute_result"
    }
   ],
   "source": [
    "df_train1[colname].head()"
   ]
  },
  {
   "cell_type": "code",
   "execution_count": 14,
   "metadata": {},
   "outputs": [],
   "source": [
    "# Splitting the data into X & Y\n",
    "\n",
    "X = df_train1.values[:,:-1]\n",
    "Y = df_train1.values[:,-1]\n",
    "Y = Y.astype('int')"
   ]
  },
  {
   "cell_type": "code",
   "execution_count": 15,
   "metadata": {},
   "outputs": [
    {
     "data": {
      "text/plain": [
       "array([[ 0.80893285,  1.77652645,  1.61975831, ...,  1.35687789,\n",
       "        -0.15401776, -1.07593145],\n",
       "       [-0.38818322, -0.16303375, -0.62883817, ..., -0.73698599,\n",
       "        -0.15401776, -0.25328242],\n",
       "       [ 0.80893285, -0.61940086, -0.62883817, ..., -0.73698599,\n",
       "        -0.15401776, -1.00114517],\n",
       "       ...,\n",
       "       [-1.98433798, -1.76031862, -0.62883817, ...,  1.35687789,\n",
       "        -0.15401776,  1.1676568 ],\n",
       "       [ 0.80893285,  2.00471   , -0.62883817, ..., -0.73698599,\n",
       "        -0.15401776, -1.37507655],\n",
       "       [-1.1862606 , -0.16303375, -0.62883817, ..., -0.73698599,\n",
       "        -0.15401776, -1.07593145]])"
      ]
     },
     "execution_count": 15,
     "metadata": {},
     "output_type": "execute_result"
    }
   ],
   "source": [
    "# Scaling the data using Standardization Technique\n",
    "\n",
    "from sklearn.preprocessing import StandardScaler\n",
    "\n",
    "sc = StandardScaler()\n",
    "\n",
    "sc.fit(X)\n",
    "X = sc.transform(X)\n",
    "X"
   ]
  },
  {
   "cell_type": "code",
   "execution_count": 16,
   "metadata": {},
   "outputs": [
    {
     "data": {
      "text/plain": [
       "department                int32\n",
       "region                    int32\n",
       "education                 int32\n",
       "recruitment_channel       int32\n",
       "no_of_trainings           int64\n",
       "age                       int64\n",
       "previous_year_rating    float64\n",
       "length_of_service         int64\n",
       "KPIs_met >80%             int64\n",
       "awards_won?               int64\n",
       "avg_training_score        int64\n",
       "is_promoted               int64\n",
       "dtype: object"
      ]
     },
     "execution_count": 16,
     "metadata": {},
     "output_type": "execute_result"
    }
   ],
   "source": [
    "# Checking the datatypes\n",
    "\n",
    "df_train1.dtypes"
   ]
  },
  {
   "cell_type": "code",
   "execution_count": 17,
   "metadata": {},
   "outputs": [],
   "source": [
    "# Splitting the data into Training and Testing\n",
    "\n",
    "from sklearn.model_selection import train_test_split\n",
    "\n",
    "X_train, X_test, Y_train, Y_test = train_test_split(X, Y, \n",
    "                                                    test_size = 0.3,\n",
    "                                                    random_state = 10)"
   ]
  },
  {
   "cell_type": "code",
   "execution_count": null,
   "metadata": {},
   "outputs": [],
   "source": []
  },
  {
   "cell_type": "markdown",
   "metadata": {},
   "source": [
    "### CREATING A FUNCTON TO EVALUATE THE MODELS "
   ]
  },
  {
   "cell_type": "code",
   "execution_count": 18,
   "metadata": {},
   "outputs": [],
   "source": [
    "from sklearn.metrics \\\n",
    "import confusion_matrix, classification_report, accuracy_score, recall_score, precision_score, f1_score, roc_curve, auc\n",
    "\n",
    "\n",
    "def metric(actual_values, predicted_values):\n",
    "    l = []\n",
    "    cfm = confusion_matrix(actual_values,predicted_values)\n",
    "    # print(cfm[0,1],cfm[1,0],cfm[0,1]+cfm[1,0],sep = ',')\n",
    "    print(cfm)\n",
    "    \n",
    "    print('\\nClassification Report\\n',classification_report(actual_values,predicted_values))\n",
    "    \n",
    "    acc = round(accuracy_score(actual_values,predicted_values),4)\n",
    "    l.append(acc)\n",
    "    print('\\nAccuracy of Model :',acc)\n",
    "    \n",
    "    \n",
    "    # Precision value of class 1\n",
    "    pr = round(precision_score(actual_values,predicted_values),4)\n",
    "    l.append(pr)\n",
    "    \n",
    "    # Recall value of class 1\n",
    "    re = round(recall_score(actual_values,predicted_values),4)\n",
    "    l.append(re)\n",
    "    \n",
    "    # F1-score value of class 1\n",
    "    f1 = round(f1_score(actual_values,predicted_values),4)\n",
    "    l.append(f1)\n",
    "    \n",
    "    # Type I error value\n",
    "    l.append(cfm[0,1])\n",
    "    \n",
    "    # Type II error value\n",
    "    l.append(cfm[1,0])\n",
    "    \n",
    "    # Total error value \n",
    "    l.append(cfm[0,1]+cfm[1,0])\n",
    "    # print(l)\n",
    "    return l"
   ]
  },
  {
   "cell_type": "code",
   "execution_count": 19,
   "metadata": {},
   "outputs": [],
   "source": [
    "# For the storing the results of the Models\n",
    "\n",
    "result = pd.DataFrame(columns = ['Algorithm','Overall Accuracy','Precision Value','Recall Value','F1-Score',\n",
    "                                 'Type I Error','Type II Error', 'Total Error'])\n",
    "\n",
    "result['Algorithm'] = ['Logistic Regression', 'KNN', 'SVM','Decision Tree','Random Forest']\n",
    "\n",
    "result.set_index('Algorithm', inplace = True)\n",
    "\n",
    "result_bal = result.copy()\n",
    "\n",
    "#result.head()"
   ]
  },
  {
   "cell_type": "code",
   "execution_count": null,
   "metadata": {},
   "outputs": [],
   "source": []
  },
  {
   "cell_type": "code",
   "execution_count": null,
   "metadata": {},
   "outputs": [],
   "source": []
  },
  {
   "cell_type": "markdown",
   "metadata": {},
   "source": [
    "## LOGISTIC REGRESSION"
   ]
  },
  {
   "cell_type": "code",
   "execution_count": 20,
   "metadata": {},
   "outputs": [],
   "source": [
    "from sklearn.linear_model import LogisticRegression\n",
    "classifier = LogisticRegression()\n",
    "\n",
    "\n",
    "def logistic(X_tr, Y_tr, X_te): \n",
    "    classifier.fit(X_tr, Y_tr)\n",
    "    return(classifier.predict(X_te))"
   ]
  },
  {
   "cell_type": "code",
   "execution_count": 21,
   "metadata": {},
   "outputs": [
    {
     "name": "stdout",
     "output_type": "stream",
     "text": [
      "[[14994    70]\n",
      " [ 1285    94]]\n",
      "\n",
      "Classification Report\n",
      "               precision    recall  f1-score   support\n",
      "\n",
      "           0       0.92      1.00      0.96     15064\n",
      "           1       0.57      0.07      0.12      1379\n",
      "\n",
      "    accuracy                           0.92     16443\n",
      "   macro avg       0.75      0.53      0.54     16443\n",
      "weighted avg       0.89      0.92      0.89     16443\n",
      "\n",
      "\n",
      "Accuracy of Model : 0.9176\n"
     ]
    }
   ],
   "source": [
    "Y_pred_lr = logistic(X_train, Y_train, X_test)\n",
    "l = metric(Y_test, Y_pred_lr)\n",
    "\n",
    "j = 0\n",
    "for i in result.columns:\n",
    "    result.loc['Logistic Regression',i] = l[j]\n",
    "    j += 1"
   ]
  },
  {
   "cell_type": "code",
   "execution_count": null,
   "metadata": {},
   "outputs": [],
   "source": []
  },
  {
   "cell_type": "code",
   "execution_count": null,
   "metadata": {},
   "outputs": [],
   "source": []
  },
  {
   "cell_type": "markdown",
   "metadata": {},
   "source": [
    "## KNEIGHBOURS CLASSIFIER (KNN)"
   ]
  },
  {
   "cell_type": "code",
   "execution_count": 22,
   "metadata": {},
   "outputs": [
    {
     "data": {
      "text/plain": [
       "'\\nfrom sklearn.neighbors import KNeighborsClassifier\\n\\nfor K in range(1,31):\\nmodel_KNN = KNeighborsClassifier(K, metric = \"euclidean\")\\nmodel_KNN.fit(X_train, Y_train)\\nY_pred = model_KNN.predict(X_test)\\nprint (\"Accuracy is \", accuracy_score(Y_test,Y_pred), \"for K-Value:\",K)\\n'"
      ]
     },
     "execution_count": 22,
     "metadata": {},
     "output_type": "execute_result"
    }
   ],
   "source": [
    "'''\n",
    "from sklearn.neighbors import KNeighborsClassifier\n",
    "\n",
    "for K in range(1,31):\n",
    "model_KNN = KNeighborsClassifier(K, metric = \"euclidean\")\n",
    "model_KNN.fit(X_train, Y_train)\n",
    "Y_pred = model_KNN.predict(X_test)\n",
    "print (\"Accuracy is \", accuracy_score(Y_test,Y_pred), \"for K-Value:\",K)\n",
    "'''"
   ]
  },
  {
   "cell_type": "code",
   "execution_count": 23,
   "metadata": {},
   "outputs": [],
   "source": [
    "# KNeighbors_Classifier\n",
    "\n",
    "from sklearn.neighbors import KNeighborsClassifier\n",
    "model_KNN = KNeighborsClassifier(n_neighbors = 19, metric = 'euclidean')\n",
    "\n",
    "def knncl(X_tr, Y_tr, X_te):\n",
    "\n",
    "    #fit the model on the data and predict the values\n",
    "    model_KNN.fit(X_tr, Y_tr)\n",
    "    return(model_KNN.predict(X_te))"
   ]
  },
  {
   "cell_type": "code",
   "execution_count": 24,
   "metadata": {},
   "outputs": [
    {
     "name": "stdout",
     "output_type": "stream",
     "text": [
      "[[15029    35]\n",
      " [ 1255   124]]\n",
      "\n",
      "Classification Report\n",
      "               precision    recall  f1-score   support\n",
      "\n",
      "           0       0.92      1.00      0.96     15064\n",
      "           1       0.78      0.09      0.16      1379\n",
      "\n",
      "    accuracy                           0.92     16443\n",
      "   macro avg       0.85      0.54      0.56     16443\n",
      "weighted avg       0.91      0.92      0.89     16443\n",
      "\n",
      "\n",
      "Accuracy of Model : 0.9215\n"
     ]
    }
   ],
   "source": [
    "Y_pred_knn = knncl(X_train, Y_train, X_test)\n",
    "l = metric(Y_test, Y_pred_knn)\n",
    "\n",
    "j = 0\n",
    "for i in result.columns:\n",
    "    result.loc['KNN',i] = l[j]\n",
    "    j += 1"
   ]
  },
  {
   "cell_type": "code",
   "execution_count": null,
   "metadata": {},
   "outputs": [],
   "source": []
  },
  {
   "cell_type": "code",
   "execution_count": null,
   "metadata": {},
   "outputs": [],
   "source": []
  },
  {
   "cell_type": "markdown",
   "metadata": {},
   "source": [
    "## SUPPORT VECTOR MACHINE (SVM)"
   ]
  },
  {
   "cell_type": "code",
   "execution_count": 25,
   "metadata": {},
   "outputs": [],
   "source": [
    "from sklearn import svm\n",
    "svc_model = svm.SVC(kernel = 'rbf', C = 1.0, gamma = 0.1)\n",
    "\n",
    "def svm_mod(X_tr, Y_tr, X_te):\n",
    "    svc_model.fit(X_tr, Y_tr)\n",
    "    return(svc_model.predict(X_te))"
   ]
  },
  {
   "cell_type": "code",
   "execution_count": 26,
   "metadata": {},
   "outputs": [
    {
     "name": "stdout",
     "output_type": "stream",
     "text": [
      "[[15044    20]\n",
      " [ 1240   139]]\n",
      "\n",
      "Classification Report\n",
      "               precision    recall  f1-score   support\n",
      "\n",
      "           0       0.92      1.00      0.96     15064\n",
      "           1       0.87      0.10      0.18      1379\n",
      "\n",
      "    accuracy                           0.92     16443\n",
      "   macro avg       0.90      0.55      0.57     16443\n",
      "weighted avg       0.92      0.92      0.89     16443\n",
      "\n",
      "\n",
      "Accuracy of Model : 0.9234\n"
     ]
    }
   ],
   "source": [
    "Y_pred_svm = svm_mod(X_train, Y_train, X_test)\n",
    "l = metric(Y_test, Y_pred_svm)\n",
    "\n",
    "\n",
    "j = 0\n",
    "for i in result.columns:\n",
    "    result.loc['SVM',i] = l[j]\n",
    "    j += 1"
   ]
  },
  {
   "cell_type": "code",
   "execution_count": null,
   "metadata": {},
   "outputs": [],
   "source": []
  },
  {
   "cell_type": "code",
   "execution_count": null,
   "metadata": {},
   "outputs": [],
   "source": []
  },
  {
   "cell_type": "markdown",
   "metadata": {},
   "source": [
    "## DECISION TREE"
   ]
  },
  {
   "cell_type": "code",
   "execution_count": 27,
   "metadata": {},
   "outputs": [],
   "source": [
    "#predicting using the Decision_Tree_Classifier\n",
    "\n",
    "from sklearn.tree import DecisionTreeClassifier\n",
    "model_DecisionTree = DecisionTreeClassifier(random_state = 10)\n",
    "\n",
    "def decisiontree(X_tr, Y_tr, X_te):\n",
    "\n",
    "    #fit the model on the data and predict the values\n",
    "    model_DecisionTree.fit(X_tr, Y_tr)\n",
    "    return(model_DecisionTree.predict(X_te))"
   ]
  },
  {
   "cell_type": "code",
   "execution_count": 28,
   "metadata": {},
   "outputs": [
    {
     "name": "stdout",
     "output_type": "stream",
     "text": [
      "[[14096   968]\n",
      " [  763   616]]\n",
      "\n",
      "Classification Report\n",
      "               precision    recall  f1-score   support\n",
      "\n",
      "           0       0.95      0.94      0.94     15064\n",
      "           1       0.39      0.45      0.42      1379\n",
      "\n",
      "    accuracy                           0.89     16443\n",
      "   macro avg       0.67      0.69      0.68     16443\n",
      "weighted avg       0.90      0.89      0.90     16443\n",
      "\n",
      "\n",
      "Accuracy of Model : 0.8947\n"
     ]
    }
   ],
   "source": [
    "Y_pred_dt = decisiontree(X_train, Y_train, X_test)\n",
    "l = metric(Y_test, Y_pred_dt)\n",
    "\n",
    "j = 0\n",
    "for i in result.columns:\n",
    "    result.loc['Decision Tree',i] = l[j]\n",
    "    j += 1"
   ]
  },
  {
   "cell_type": "code",
   "execution_count": null,
   "metadata": {},
   "outputs": [],
   "source": []
  },
  {
   "cell_type": "code",
   "execution_count": null,
   "metadata": {},
   "outputs": [],
   "source": []
  },
  {
   "cell_type": "markdown",
   "metadata": {},
   "source": [
    "## RANDOM FOREST"
   ]
  },
  {
   "cell_type": "code",
   "execution_count": 29,
   "metadata": {},
   "outputs": [],
   "source": [
    "#predicting using the Random_Forest_Classifier\n",
    "\n",
    "from sklearn.ensemble import RandomForestClassifier\n",
    "model_RandomForest = RandomForestClassifier(100, random_state = 10)\n",
    "\n",
    "def randomforest(X_tr, Y_tr, X_te):\n",
    "\n",
    "    #fit the model on the data and predict the values\n",
    "    model_RandomForest.fit(X_tr,Y_tr)\n",
    "    return(model_RandomForest.predict(X_te))"
   ]
  },
  {
   "cell_type": "code",
   "execution_count": 30,
   "metadata": {},
   "outputs": [
    {
     "name": "stdout",
     "output_type": "stream",
     "text": [
      "[[14958   106]\n",
      " [  962   417]]\n",
      "\n",
      "Classification Report\n",
      "               precision    recall  f1-score   support\n",
      "\n",
      "           0       0.94      0.99      0.97     15064\n",
      "           1       0.80      0.30      0.44      1379\n",
      "\n",
      "    accuracy                           0.94     16443\n",
      "   macro avg       0.87      0.65      0.70     16443\n",
      "weighted avg       0.93      0.94      0.92     16443\n",
      "\n",
      "\n",
      "Accuracy of Model : 0.935\n"
     ]
    }
   ],
   "source": [
    "Y_pred_rf = randomforest(X_train, Y_train, X_test)\n",
    "l = metric(Y_test, Y_pred_rf)\n",
    "\n",
    "j = 0\n",
    "for i in result.columns:\n",
    "    result.loc['Random Forest',i] = l[j]\n",
    "    j += 1"
   ]
  },
  {
   "cell_type": "code",
   "execution_count": null,
   "metadata": {},
   "outputs": [],
   "source": []
  },
  {
   "cell_type": "code",
   "execution_count": null,
   "metadata": {},
   "outputs": [],
   "source": []
  },
  {
   "cell_type": "code",
   "execution_count": 31,
   "metadata": {},
   "outputs": [
    {
     "data": {
      "text/plain": [
       "<matplotlib.axes._subplots.AxesSubplot at 0x152f929a520>"
      ]
     },
     "execution_count": 31,
     "metadata": {},
     "output_type": "execute_result"
    },
    {
     "data": {
      "image/png": "[encoded data removed]",
      "text/plain": [
       "<Figure size 432x288 with 1 Axes>"
      ]
     },
     "metadata": {
      "needs_background": "light"
     },
     "output_type": "display_data"
    }
   ],
   "source": [
    "sns.countplot(x = 'is_promoted', data = df_train1)"
   ]
  },
  {
   "cell_type": "code",
   "execution_count": null,
   "metadata": {},
   "outputs": [],
   "source": []
  },
  {
   "cell_type": "markdown",
   "metadata": {},
   "source": [
    "## MODEL EVALUATION ON UNBALANCED DATA"
   ]
  },
  {
   "cell_type": "code",
   "execution_count": 32,
   "metadata": {},
   "outputs": [
    {
     "data": {
      "text/html": [
       "<div>\n",
       "<style scoped>\n",
       "    .dataframe tbody tr th:only-of-type {\n",
       "        vertical-align: middle;\n",
       "    }\n",
       "\n",
       "    .dataframe tbody tr th {\n",
       "        vertical-align: top;\n",
       "    }\n",
       "\n",
       "    .dataframe thead th {\n",
       "        text-align: right;\n",
       "    }\n",
       "</style>\n",
       "<table border=\"1\" class=\"dataframe\">\n",
       "  <thead>\n",
       "    <tr style=\"text-align: right;\">\n",
       "      <th></th>\n",
       "      <th>Overall Accuracy</th>\n",
       "      <th>Precision Value</th>\n",
       "      <th>Recall Value</th>\n",
       "      <th>F1-Score</th>\n",
       "      <th>Type I Error</th>\n",
       "      <th>Type II Error</th>\n",
       "      <th>Total Error</th>\n",
       "    </tr>\n",
       "    <tr>\n",
       "      <th>Algorithm</th>\n",
       "      <th></th>\n",
       "      <th></th>\n",
       "      <th></th>\n",
       "      <th></th>\n",
       "      <th></th>\n",
       "      <th></th>\n",
       "      <th></th>\n",
       "    </tr>\n",
       "  </thead>\n",
       "  <tbody>\n",
       "    <tr>\n",
       "      <th>Logistic Regression</th>\n",
       "      <td>0.9176</td>\n",
       "      <td>0.5732</td>\n",
       "      <td>0.0682</td>\n",
       "      <td>0.1218</td>\n",
       "      <td>70</td>\n",
       "      <td>1285</td>\n",
       "      <td>1355</td>\n",
       "    </tr>\n",
       "    <tr>\n",
       "      <th>KNN</th>\n",
       "      <td>0.9215</td>\n",
       "      <td>0.7799</td>\n",
       "      <td>0.0899</td>\n",
       "      <td>0.1612</td>\n",
       "      <td>35</td>\n",
       "      <td>1255</td>\n",
       "      <td>1290</td>\n",
       "    </tr>\n",
       "    <tr>\n",
       "      <th>SVM</th>\n",
       "      <td>0.9234</td>\n",
       "      <td>0.8742</td>\n",
       "      <td>0.1008</td>\n",
       "      <td>0.1808</td>\n",
       "      <td>20</td>\n",
       "      <td>1240</td>\n",
       "      <td>1260</td>\n",
       "    </tr>\n",
       "    <tr>\n",
       "      <th>Decision Tree</th>\n",
       "      <td>0.8947</td>\n",
       "      <td>0.3889</td>\n",
       "      <td>0.4467</td>\n",
       "      <td>0.4158</td>\n",
       "      <td>968</td>\n",
       "      <td>763</td>\n",
       "      <td>1731</td>\n",
       "    </tr>\n",
       "    <tr>\n",
       "      <th>Random Forest</th>\n",
       "      <td>0.935</td>\n",
       "      <td>0.7973</td>\n",
       "      <td>0.3024</td>\n",
       "      <td>0.4385</td>\n",
       "      <td>106</td>\n",
       "      <td>962</td>\n",
       "      <td>1068</td>\n",
       "    </tr>\n",
       "  </tbody>\n",
       "</table>\n",
       "</div>"
      ],
      "text/plain": [
       "                    Overall Accuracy Precision Value Recall Value F1-Score  \\\n",
       "Algorithm                                                                    \n",
       "Logistic Regression           0.9176          0.5732       0.0682   0.1218   \n",
       "KNN                           0.9215          0.7799       0.0899   0.1612   \n",
       "SVM                           0.9234          0.8742       0.1008   0.1808   \n",
       "Decision Tree                 0.8947          0.3889       0.4467   0.4158   \n",
       "Random Forest                  0.935          0.7973       0.3024   0.4385   \n",
       "\n",
       "                    Type I Error Type II Error Total Error  \n",
       "Algorithm                                                   \n",
       "Logistic Regression           70          1285        1355  \n",
       "KNN                           35          1255        1290  \n",
       "SVM                           20          1240        1260  \n",
       "Decision Tree                968           763        1731  \n",
       "Random Forest                106           962        1068  "
      ]
     },
     "execution_count": 32,
     "metadata": {},
     "output_type": "execute_result"
    }
   ],
   "source": [
    "result.head()"
   ]
  },
  {
   "cell_type": "code",
   "execution_count": null,
   "metadata": {},
   "outputs": [],
   "source": []
  },
  {
   "cell_type": "code",
   "execution_count": null,
   "metadata": {},
   "outputs": [],
   "source": []
  },
  {
   "cell_type": "markdown",
   "metadata": {},
   "source": [
    "# OVERSAMPLING / UPSAMPLING "
   ]
  },
  {
   "cell_type": "code",
   "execution_count": 33,
   "metadata": {},
   "outputs": [
    {
     "data": {
      "text/plain": [
       "1    50140\n",
       "0    50140\n",
       "Name: is_promoted, dtype: int64"
      ]
     },
     "execution_count": 33,
     "metadata": {},
     "output_type": "execute_result"
    }
   ],
   "source": [
    "from sklearn.utils import resample\n",
    "\n",
    "# Separate majority and minority classes\n",
    "df_majority = df_train1[df_train1.is_promoted==0]\n",
    "df_minority = df_train1[df_train1.is_promoted==1]\n",
    "\n",
    "# Upsample minority class\n",
    "df_minority_upsampled = resample(df_minority,\n",
    "                                 replace = True, # sample with replacement\n",
    "                                 n_samples = 50140, # to match majority class\n",
    "                                 random_state = 10) # reproducible results\n",
    "\n",
    "# Combine majority class with upsampled minority class\n",
    "df_upsampled = pd.concat([df_majority, df_minority_upsampled])\n",
    "\n",
    "# Display new class counts\n",
    "df_upsampled.is_promoted.value_counts()"
   ]
  },
  {
   "cell_type": "code",
   "execution_count": 34,
   "metadata": {},
   "outputs": [
    {
     "data": {
      "text/plain": [
       "<matplotlib.axes._subplots.AxesSubplot at 0x152ff465610>"
      ]
     },
     "execution_count": 34,
     "metadata": {},
     "output_type": "execute_result"
    },
    {
     "data": {
      "image/png": "[encoded data removed]",
      "text/plain": [
       "<Figure size 432x288 with 1 Axes>"
      ]
     },
     "metadata": {
      "needs_background": "light"
     },
     "output_type": "display_data"
    }
   ],
   "source": [
    "sns.countplot(x = 'is_promoted', data = df_upsampled)"
   ]
  },
  {
   "cell_type": "code",
   "execution_count": 35,
   "metadata": {},
   "outputs": [],
   "source": [
    "X1 = df_upsampled.values[:,:-1]\n",
    "Y1 = df_upsampled.values[:,-1]\n",
    "Y1 = Y1.astype('int')"
   ]
  },
  {
   "cell_type": "code",
   "execution_count": 36,
   "metadata": {},
   "outputs": [
    {
     "name": "stdout",
     "output_type": "stream",
     "text": [
      "[[ 0.80095407  1.76473212  1.54534627 ...  0.98195379 -0.2672541\n",
      "  -1.23779348]\n",
      " [-0.38713063 -0.1773577  -0.65882154 ... -1.01837786 -0.2672541\n",
      "  -0.48025744]\n",
      " [ 0.80095407 -0.63432001 -0.65882154 ... -1.01837786 -0.2672541\n",
      "  -1.16892656]\n",
      " ...\n",
      " [ 1.19698231 -0.06311712  1.54534627 ...  0.98195379 -0.2672541\n",
      "   0.75934699]\n",
      " [ 0.40492584  0.39384519 -0.65882154 ...  0.98195379 -0.2672541\n",
      "   1.31028229]\n",
      " [-1.97124358 -0.1773577  -0.65882154 ... -1.01837786 -0.2672541\n",
      "   1.3791492 ]]\n"
     ]
    }
   ],
   "source": [
    "sc.fit(X1)\n",
    "X1 = sc.transform(X1)\n",
    "print(X1)"
   ]
  },
  {
   "cell_type": "code",
   "execution_count": 37,
   "metadata": {},
   "outputs": [],
   "source": [
    "X_train1, X_test1, Y_train1, Y_test1 = train_test_split(X1, Y1, test_size = 0.3,\n",
    "                                                    random_state = 10)"
   ]
  },
  {
   "cell_type": "code",
   "execution_count": null,
   "metadata": {},
   "outputs": [],
   "source": []
  },
  {
   "cell_type": "markdown",
   "metadata": {},
   "source": [
    "### PREDICTIONS ON BALANCED DATA\n",
    "### LOGISTIC REGRESSION"
   ]
  },
  {
   "cell_type": "code",
   "execution_count": 38,
   "metadata": {},
   "outputs": [
    {
     "name": "stdout",
     "output_type": "stream",
     "text": [
      "[[10677  4338]\n",
      " [ 3986 11083]]\n",
      "\n",
      "Classification Report\n",
      "               precision    recall  f1-score   support\n",
      "\n",
      "           0       0.73      0.71      0.72     15015\n",
      "           1       0.72      0.74      0.73     15069\n",
      "\n",
      "    accuracy                           0.72     30084\n",
      "   macro avg       0.72      0.72      0.72     30084\n",
      "weighted avg       0.72      0.72      0.72     30084\n",
      "\n",
      "\n",
      "Accuracy of Model : 0.7233\n"
     ]
    }
   ],
   "source": [
    "Y_pred_lr = logistic(X_train1, Y_train1, X_test1)\n",
    "l = metric(Y_test1, Y_pred_lr)\n",
    "\n",
    "j = 0\n",
    "for i in result_bal.columns:\n",
    "    result_bal.loc['Logistic Regression',i] = l[j]\n",
    "    j += 1"
   ]
  },
  {
   "cell_type": "code",
   "execution_count": null,
   "metadata": {},
   "outputs": [],
   "source": []
  },
  {
   "cell_type": "markdown",
   "metadata": {},
   "source": [
    "### KNN"
   ]
  },
  {
   "cell_type": "code",
   "execution_count": 39,
   "metadata": {},
   "outputs": [
    {
     "name": "stdout",
     "output_type": "stream",
     "text": [
      "[[11072  3943]\n",
      " [ 1555 13514]]\n",
      "\n",
      "Classification Report\n",
      "               precision    recall  f1-score   support\n",
      "\n",
      "           0       0.88      0.74      0.80     15015\n",
      "           1       0.77      0.90      0.83     15069\n",
      "\n",
      "    accuracy                           0.82     30084\n",
      "   macro avg       0.83      0.82      0.82     30084\n",
      "weighted avg       0.83      0.82      0.82     30084\n",
      "\n",
      "\n",
      "Accuracy of Model : 0.8172\n"
     ]
    }
   ],
   "source": [
    "Y_pred_knn = knncl(X_train1, Y_train1, X_test1)\n",
    "l = metric(Y_test1, Y_pred_knn)\n",
    "\n",
    "j = 0\n",
    "for i in result_bal.columns:\n",
    "    result_bal.loc['KNN',i] = l[j]\n",
    "    j += 1"
   ]
  },
  {
   "cell_type": "code",
   "execution_count": null,
   "metadata": {},
   "outputs": [],
   "source": []
  },
  {
   "cell_type": "markdown",
   "metadata": {},
   "source": [
    "### SVM"
   ]
  },
  {
   "cell_type": "code",
   "execution_count": 40,
   "metadata": {},
   "outputs": [
    {
     "name": "stdout",
     "output_type": "stream",
     "text": [
      "[[10231  4784]\n",
      " [ 1576 13493]]\n",
      "\n",
      "Classification Report\n",
      "               precision    recall  f1-score   support\n",
      "\n",
      "           0       0.87      0.68      0.76     15015\n",
      "           1       0.74      0.90      0.81     15069\n",
      "\n",
      "    accuracy                           0.79     30084\n",
      "   macro avg       0.80      0.79      0.79     30084\n",
      "weighted avg       0.80      0.79      0.79     30084\n",
      "\n",
      "\n",
      "Accuracy of Model : 0.7886\n"
     ]
    }
   ],
   "source": [
    "Y_pred_svm = svm_mod(X_train1, Y_train1, X_test1)\n",
    "l = metric(Y_test1, Y_pred_svm)\n",
    "\n",
    "j = 0\n",
    "for i in result_bal.columns:\n",
    "    result_bal.loc['SVM',i] = l[j]\n",
    "    j += 1"
   ]
  },
  {
   "cell_type": "code",
   "execution_count": null,
   "metadata": {},
   "outputs": [],
   "source": []
  },
  {
   "cell_type": "markdown",
   "metadata": {},
   "source": [
    "### DECISION TREE"
   ]
  },
  {
   "cell_type": "code",
   "execution_count": 41,
   "metadata": {},
   "outputs": [
    {
     "name": "stdout",
     "output_type": "stream",
     "text": [
      "[[13955  1060]\n",
      " [    0 15069]]\n",
      "\n",
      "Classification Report\n",
      "               precision    recall  f1-score   support\n",
      "\n",
      "           0       1.00      0.93      0.96     15015\n",
      "           1       0.93      1.00      0.97     15069\n",
      "\n",
      "    accuracy                           0.96     30084\n",
      "   macro avg       0.97      0.96      0.96     30084\n",
      "weighted avg       0.97      0.96      0.96     30084\n",
      "\n",
      "\n",
      "Accuracy of Model : 0.9648\n"
     ]
    }
   ],
   "source": [
    "Y_pred_dt = decisiontree(X_train1, Y_train1, X_test1)\n",
    "l = metric(Y_test1, Y_pred_dt)\n",
    "\n",
    "j = 0\n",
    "for i in result_bal.columns:\n",
    "    result_bal.loc['Decision Tree',i] = l[j]\n",
    "    j += 1"
   ]
  },
  {
   "cell_type": "code",
   "execution_count": null,
   "metadata": {},
   "outputs": [],
   "source": []
  },
  {
   "cell_type": "markdown",
   "metadata": {},
   "source": [
    "### RANDOM FOREST"
   ]
  },
  {
   "cell_type": "code",
   "execution_count": 42,
   "metadata": {},
   "outputs": [
    {
     "name": "stdout",
     "output_type": "stream",
     "text": [
      "[[14410   605]\n",
      " [    0 15069]]\n",
      "\n",
      "Classification Report\n",
      "               precision    recall  f1-score   support\n",
      "\n",
      "           0       1.00      0.96      0.98     15015\n",
      "           1       0.96      1.00      0.98     15069\n",
      "\n",
      "    accuracy                           0.98     30084\n",
      "   macro avg       0.98      0.98      0.98     30084\n",
      "weighted avg       0.98      0.98      0.98     30084\n",
      "\n",
      "\n",
      "Accuracy of Model : 0.9799\n"
     ]
    }
   ],
   "source": [
    "Y_pred_rf = randomforest(X_train1, Y_train1, X_test1)\n",
    "l = metric(Y_test1, Y_pred_rf)\n",
    "\n",
    "j = 0\n",
    "for i in result_bal.columns:\n",
    "    result_bal.loc['Random Forest',i] = l[j]\n",
    "    j += 1"
   ]
  },
  {
   "cell_type": "code",
   "execution_count": null,
   "metadata": {},
   "outputs": [],
   "source": []
  },
  {
   "cell_type": "markdown",
   "metadata": {},
   "source": [
    "## MODEL EVALUATION ON UNBALANCED DATA"
   ]
  },
  {
   "cell_type": "code",
   "execution_count": 43,
   "metadata": {},
   "outputs": [
    {
     "data": {
      "text/html": [
       "<div>\n",
       "<style scoped>\n",
       "    .dataframe tbody tr th:only-of-type {\n",
       "        vertical-align: middle;\n",
       "    }\n",
       "\n",
       "    .dataframe tbody tr th {\n",
       "        vertical-align: top;\n",
       "    }\n",
       "\n",
       "    .dataframe thead th {\n",
       "        text-align: right;\n",
       "    }\n",
       "</style>\n",
       "<table border=\"1\" class=\"dataframe\">\n",
       "  <thead>\n",
       "    <tr style=\"text-align: right;\">\n",
       "      <th></th>\n",
       "      <th>Overall Accuracy</th>\n",
       "      <th>Precision Value</th>\n",
       "      <th>Recall Value</th>\n",
       "      <th>F1-Score</th>\n",
       "      <th>Type I Error</th>\n",
       "      <th>Type II Error</th>\n",
       "      <th>Total Error</th>\n",
       "    </tr>\n",
       "    <tr>\n",
       "      <th>Algorithm</th>\n",
       "      <th></th>\n",
       "      <th></th>\n",
       "      <th></th>\n",
       "      <th></th>\n",
       "      <th></th>\n",
       "      <th></th>\n",
       "      <th></th>\n",
       "    </tr>\n",
       "  </thead>\n",
       "  <tbody>\n",
       "    <tr>\n",
       "      <th>Logistic Regression</th>\n",
       "      <td>0.9176</td>\n",
       "      <td>0.5732</td>\n",
       "      <td>0.0682</td>\n",
       "      <td>0.1218</td>\n",
       "      <td>70</td>\n",
       "      <td>1285</td>\n",
       "      <td>1355</td>\n",
       "    </tr>\n",
       "    <tr>\n",
       "      <th>KNN</th>\n",
       "      <td>0.9215</td>\n",
       "      <td>0.7799</td>\n",
       "      <td>0.0899</td>\n",
       "      <td>0.1612</td>\n",
       "      <td>35</td>\n",
       "      <td>1255</td>\n",
       "      <td>1290</td>\n",
       "    </tr>\n",
       "    <tr>\n",
       "      <th>SVM</th>\n",
       "      <td>0.9234</td>\n",
       "      <td>0.8742</td>\n",
       "      <td>0.1008</td>\n",
       "      <td>0.1808</td>\n",
       "      <td>20</td>\n",
       "      <td>1240</td>\n",
       "      <td>1260</td>\n",
       "    </tr>\n",
       "    <tr>\n",
       "      <th>Decision Tree</th>\n",
       "      <td>0.8947</td>\n",
       "      <td>0.3889</td>\n",
       "      <td>0.4467</td>\n",
       "      <td>0.4158</td>\n",
       "      <td>968</td>\n",
       "      <td>763</td>\n",
       "      <td>1731</td>\n",
       "    </tr>\n",
       "    <tr>\n",
       "      <th>Random Forest</th>\n",
       "      <td>0.935</td>\n",
       "      <td>0.7973</td>\n",
       "      <td>0.3024</td>\n",
       "      <td>0.4385</td>\n",
       "      <td>106</td>\n",
       "      <td>962</td>\n",
       "      <td>1068</td>\n",
       "    </tr>\n",
       "  </tbody>\n",
       "</table>\n",
       "</div>"
      ],
      "text/plain": [
       "                    Overall Accuracy Precision Value Recall Value F1-Score  \\\n",
       "Algorithm                                                                    \n",
       "Logistic Regression           0.9176          0.5732       0.0682   0.1218   \n",
       "KNN                           0.9215          0.7799       0.0899   0.1612   \n",
       "SVM                           0.9234          0.8742       0.1008   0.1808   \n",
       "Decision Tree                 0.8947          0.3889       0.4467   0.4158   \n",
       "Random Forest                  0.935          0.7973       0.3024   0.4385   \n",
       "\n",
       "                    Type I Error Type II Error Total Error  \n",
       "Algorithm                                                   \n",
       "Logistic Regression           70          1285        1355  \n",
       "KNN                           35          1255        1290  \n",
       "SVM                           20          1240        1260  \n",
       "Decision Tree                968           763        1731  \n",
       "Random Forest                106           962        1068  "
      ]
     },
     "execution_count": 43,
     "metadata": {},
     "output_type": "execute_result"
    }
   ],
   "source": [
    "result.head()"
   ]
  },
  {
   "cell_type": "code",
   "execution_count": null,
   "metadata": {},
   "outputs": [],
   "source": []
  },
  {
   "cell_type": "markdown",
   "metadata": {},
   "source": [
    "## MODEL EVALUATION ON BALANCED DATA"
   ]
  },
  {
   "cell_type": "code",
   "execution_count": 44,
   "metadata": {},
   "outputs": [
    {
     "data": {
      "text/html": [
       "<div>\n",
       "<style scoped>\n",
       "    .dataframe tbody tr th:only-of-type {\n",
       "        vertical-align: middle;\n",
       "    }\n",
       "\n",
       "    .dataframe tbody tr th {\n",
       "        vertical-align: top;\n",
       "    }\n",
       "\n",
       "    .dataframe thead th {\n",
       "        text-align: right;\n",
       "    }\n",
       "</style>\n",
       "<table border=\"1\" class=\"dataframe\">\n",
       "  <thead>\n",
       "    <tr style=\"text-align: right;\">\n",
       "      <th></th>\n",
       "      <th>Overall Accuracy</th>\n",
       "      <th>Precision Value</th>\n",
       "      <th>Recall Value</th>\n",
       "      <th>F1-Score</th>\n",
       "      <th>Type I Error</th>\n",
       "      <th>Type II Error</th>\n",
       "      <th>Total Error</th>\n",
       "    </tr>\n",
       "    <tr>\n",
       "      <th>Algorithm</th>\n",
       "      <th></th>\n",
       "      <th></th>\n",
       "      <th></th>\n",
       "      <th></th>\n",
       "      <th></th>\n",
       "      <th></th>\n",
       "      <th></th>\n",
       "    </tr>\n",
       "  </thead>\n",
       "  <tbody>\n",
       "    <tr>\n",
       "      <th>Logistic Regression</th>\n",
       "      <td>0.7233</td>\n",
       "      <td>0.7187</td>\n",
       "      <td>0.7355</td>\n",
       "      <td>0.727</td>\n",
       "      <td>4338</td>\n",
       "      <td>3986</td>\n",
       "      <td>8324</td>\n",
       "    </tr>\n",
       "    <tr>\n",
       "      <th>KNN</th>\n",
       "      <td>0.8172</td>\n",
       "      <td>0.7741</td>\n",
       "      <td>0.8968</td>\n",
       "      <td>0.831</td>\n",
       "      <td>3943</td>\n",
       "      <td>1555</td>\n",
       "      <td>5498</td>\n",
       "    </tr>\n",
       "    <tr>\n",
       "      <th>SVM</th>\n",
       "      <td>0.7886</td>\n",
       "      <td>0.7383</td>\n",
       "      <td>0.8954</td>\n",
       "      <td>0.8093</td>\n",
       "      <td>4784</td>\n",
       "      <td>1576</td>\n",
       "      <td>6360</td>\n",
       "    </tr>\n",
       "    <tr>\n",
       "      <th>Decision Tree</th>\n",
       "      <td>0.9648</td>\n",
       "      <td>0.9343</td>\n",
       "      <td>1</td>\n",
       "      <td>0.966</td>\n",
       "      <td>1060</td>\n",
       "      <td>0</td>\n",
       "      <td>1060</td>\n",
       "    </tr>\n",
       "    <tr>\n",
       "      <th>Random Forest</th>\n",
       "      <td>0.9799</td>\n",
       "      <td>0.9614</td>\n",
       "      <td>1</td>\n",
       "      <td>0.9803</td>\n",
       "      <td>605</td>\n",
       "      <td>0</td>\n",
       "      <td>605</td>\n",
       "    </tr>\n",
       "  </tbody>\n",
       "</table>\n",
       "</div>"
      ],
      "text/plain": [
       "                    Overall Accuracy Precision Value Recall Value F1-Score  \\\n",
       "Algorithm                                                                    \n",
       "Logistic Regression           0.7233          0.7187       0.7355    0.727   \n",
       "KNN                           0.8172          0.7741       0.8968    0.831   \n",
       "SVM                           0.7886          0.7383       0.8954   0.8093   \n",
       "Decision Tree                 0.9648          0.9343            1    0.966   \n",
       "Random Forest                 0.9799          0.9614            1   0.9803   \n",
       "\n",
       "                    Type I Error Type II Error Total Error  \n",
       "Algorithm                                                   \n",
       "Logistic Regression         4338          3986        8324  \n",
       "KNN                         3943          1555        5498  \n",
       "SVM                         4784          1576        6360  \n",
       "Decision Tree               1060             0        1060  \n",
       "Random Forest                605             0         605  "
      ]
     },
     "execution_count": 44,
     "metadata": {},
     "output_type": "execute_result"
    }
   ],
   "source": [
    "result_bal.head()"
   ]
  },
  {
   "cell_type": "code",
   "execution_count": null,
   "metadata": {},
   "outputs": [],
   "source": []
  },
  {
   "cell_type": "code",
   "execution_count": null,
   "metadata": {},
   "outputs": [],
   "source": []
  },
  {
   "cell_type": "markdown",
   "metadata": {},
   "source": [
    "## ACTUAL TEST DATA\n",
    "\n",
    "### Performing all the EDA steps performed on Training data"
   ]
  },
  {
   "cell_type": "code",
   "execution_count": 45,
   "metadata": {},
   "outputs": [],
   "source": [
    "df_test = pd.read_csv('test_hr.csv', index_col = 0)"
   ]
  },
  {
   "cell_type": "code",
   "execution_count": 46,
   "metadata": {},
   "outputs": [
    {
     "data": {
      "text/html": [
       "<div>\n",
       "<style scoped>\n",
       "    .dataframe tbody tr th:only-of-type {\n",
       "        vertical-align: middle;\n",
       "    }\n",
       "\n",
       "    .dataframe tbody tr th {\n",
       "        vertical-align: top;\n",
       "    }\n",
       "\n",
       "    .dataframe thead th {\n",
       "        text-align: right;\n",
       "    }\n",
       "</style>\n",
       "<table border=\"1\" class=\"dataframe\">\n",
       "  <thead>\n",
       "    <tr style=\"text-align: right;\">\n",
       "      <th></th>\n",
       "      <th>department</th>\n",
       "      <th>region</th>\n",
       "      <th>education</th>\n",
       "      <th>gender</th>\n",
       "      <th>recruitment_channel</th>\n",
       "      <th>no_of_trainings</th>\n",
       "      <th>age</th>\n",
       "      <th>previous_year_rating</th>\n",
       "      <th>length_of_service</th>\n",
       "      <th>KPIs_met &gt;80%</th>\n",
       "      <th>awards_won?</th>\n",
       "      <th>avg_training_score</th>\n",
       "    </tr>\n",
       "    <tr>\n",
       "      <th>employee_id</th>\n",
       "      <th></th>\n",
       "      <th></th>\n",
       "      <th></th>\n",
       "      <th></th>\n",
       "      <th></th>\n",
       "      <th></th>\n",
       "      <th></th>\n",
       "      <th></th>\n",
       "      <th></th>\n",
       "      <th></th>\n",
       "      <th></th>\n",
       "      <th></th>\n",
       "    </tr>\n",
       "  </thead>\n",
       "  <tbody>\n",
       "    <tr>\n",
       "      <th>8724</th>\n",
       "      <td>Technology</td>\n",
       "      <td>region_26</td>\n",
       "      <td>Bachelor's</td>\n",
       "      <td>m</td>\n",
       "      <td>sourcing</td>\n",
       "      <td>1</td>\n",
       "      <td>24</td>\n",
       "      <td>NaN</td>\n",
       "      <td>1</td>\n",
       "      <td>1</td>\n",
       "      <td>0</td>\n",
       "      <td>77</td>\n",
       "    </tr>\n",
       "    <tr>\n",
       "      <th>74430</th>\n",
       "      <td>HR</td>\n",
       "      <td>region_4</td>\n",
       "      <td>Bachelor's</td>\n",
       "      <td>f</td>\n",
       "      <td>other</td>\n",
       "      <td>1</td>\n",
       "      <td>31</td>\n",
       "      <td>3.0</td>\n",
       "      <td>5</td>\n",
       "      <td>0</td>\n",
       "      <td>0</td>\n",
       "      <td>51</td>\n",
       "    </tr>\n",
       "    <tr>\n",
       "      <th>72255</th>\n",
       "      <td>Sales &amp; Marketing</td>\n",
       "      <td>region_13</td>\n",
       "      <td>Bachelor's</td>\n",
       "      <td>m</td>\n",
       "      <td>other</td>\n",
       "      <td>1</td>\n",
       "      <td>31</td>\n",
       "      <td>1.0</td>\n",
       "      <td>4</td>\n",
       "      <td>0</td>\n",
       "      <td>0</td>\n",
       "      <td>47</td>\n",
       "    </tr>\n",
       "    <tr>\n",
       "      <th>38562</th>\n",
       "      <td>Procurement</td>\n",
       "      <td>region_2</td>\n",
       "      <td>Bachelor's</td>\n",
       "      <td>f</td>\n",
       "      <td>other</td>\n",
       "      <td>3</td>\n",
       "      <td>31</td>\n",
       "      <td>2.0</td>\n",
       "      <td>9</td>\n",
       "      <td>0</td>\n",
       "      <td>0</td>\n",
       "      <td>65</td>\n",
       "    </tr>\n",
       "    <tr>\n",
       "      <th>64486</th>\n",
       "      <td>Finance</td>\n",
       "      <td>region_29</td>\n",
       "      <td>Bachelor's</td>\n",
       "      <td>m</td>\n",
       "      <td>sourcing</td>\n",
       "      <td>1</td>\n",
       "      <td>30</td>\n",
       "      <td>4.0</td>\n",
       "      <td>7</td>\n",
       "      <td>0</td>\n",
       "      <td>0</td>\n",
       "      <td>61</td>\n",
       "    </tr>\n",
       "  </tbody>\n",
       "</table>\n",
       "</div>"
      ],
      "text/plain": [
       "                    department     region   education gender  \\\n",
       "employee_id                                                    \n",
       "8724                Technology  region_26  Bachelor's      m   \n",
       "74430                       HR   region_4  Bachelor's      f   \n",
       "72255        Sales & Marketing  region_13  Bachelor's      m   \n",
       "38562              Procurement   region_2  Bachelor's      f   \n",
       "64486                  Finance  region_29  Bachelor's      m   \n",
       "\n",
       "            recruitment_channel  no_of_trainings  age  previous_year_rating  \\\n",
       "employee_id                                                                   \n",
       "8724                   sourcing                1   24                   NaN   \n",
       "74430                     other                1   31                   3.0   \n",
       "72255                     other                1   31                   1.0   \n",
       "38562                     other                3   31                   2.0   \n",
       "64486                  sourcing                1   30                   4.0   \n",
       "\n",
       "             length_of_service  KPIs_met >80%  awards_won?  avg_training_score  \n",
       "employee_id                                                                     \n",
       "8724                         1              1            0                  77  \n",
       "74430                        5              0            0                  51  \n",
       "72255                        4              0            0                  47  \n",
       "38562                        9              0            0                  65  \n",
       "64486                        7              0            0                  61  "
      ]
     },
     "execution_count": 46,
     "metadata": {},
     "output_type": "execute_result"
    }
   ],
   "source": [
    "df_test.head()"
   ]
  },
  {
   "cell_type": "code",
   "execution_count": 47,
   "metadata": {},
   "outputs": [],
   "source": [
    "df_test1 = df_test.copy()"
   ]
  },
  {
   "cell_type": "code",
   "execution_count": 48,
   "metadata": {},
   "outputs": [],
   "source": [
    "df_test1.drop('gender', axis = 1, inplace = True)"
   ]
  },
  {
   "cell_type": "code",
   "execution_count": 49,
   "metadata": {},
   "outputs": [
    {
     "data": {
      "text/plain": [
       "(23490, 11)"
      ]
     },
     "execution_count": 49,
     "metadata": {},
     "output_type": "execute_result"
    }
   ],
   "source": [
    "df_test1.shape"
   ]
  },
  {
   "cell_type": "code",
   "execution_count": 50,
   "metadata": {},
   "outputs": [
    {
     "data": {
      "text/plain": [
       "department                 0\n",
       "region                     0\n",
       "education               1034\n",
       "recruitment_channel        0\n",
       "no_of_trainings            0\n",
       "age                        0\n",
       "previous_year_rating    1812\n",
       "length_of_service          0\n",
       "KPIs_met >80%              0\n",
       "awards_won?                0\n",
       "avg_training_score         0\n",
       "dtype: int64"
      ]
     },
     "execution_count": 50,
     "metadata": {},
     "output_type": "execute_result"
    }
   ],
   "source": [
    "df_test1.isnull().sum()"
   ]
  },
  {
   "cell_type": "code",
   "execution_count": 51,
   "metadata": {},
   "outputs": [
    {
     "name": "stdout",
     "output_type": "stream",
     "text": [
      "Bachelor's\n"
     ]
    }
   ],
   "source": [
    "print(df_test1['education'].mode()[0])\n",
    "\n",
    "\n",
    "df_test1['education'].fillna(df_test1['education'].mode()[0], inplace = True)\n",
    "df_test1['previous_year_rating'].fillna(0, inplace = True)"
   ]
  },
  {
   "cell_type": "code",
   "execution_count": 52,
   "metadata": {},
   "outputs": [
    {
     "data": {
      "text/plain": [
       "department              0\n",
       "region                  0\n",
       "education               0\n",
       "recruitment_channel     0\n",
       "no_of_trainings         0\n",
       "age                     0\n",
       "previous_year_rating    0\n",
       "length_of_service       0\n",
       "KPIs_met >80%           0\n",
       "awards_won?             0\n",
       "avg_training_score      0\n",
       "dtype: int64"
      ]
     },
     "execution_count": 52,
     "metadata": {},
     "output_type": "execute_result"
    }
   ],
   "source": [
    "df_test1.isnull().sum()"
   ]
  },
  {
   "cell_type": "code",
   "execution_count": 53,
   "metadata": {},
   "outputs": [
    {
     "data": {
      "text/html": [
       "<div>\n",
       "<style scoped>\n",
       "    .dataframe tbody tr th:only-of-type {\n",
       "        vertical-align: middle;\n",
       "    }\n",
       "\n",
       "    .dataframe tbody tr th {\n",
       "        vertical-align: top;\n",
       "    }\n",
       "\n",
       "    .dataframe thead th {\n",
       "        text-align: right;\n",
       "    }\n",
       "</style>\n",
       "<table border=\"1\" class=\"dataframe\">\n",
       "  <thead>\n",
       "    <tr style=\"text-align: right;\">\n",
       "      <th></th>\n",
       "      <th>department</th>\n",
       "      <th>region</th>\n",
       "      <th>education</th>\n",
       "      <th>recruitment_channel</th>\n",
       "    </tr>\n",
       "    <tr>\n",
       "      <th>employee_id</th>\n",
       "      <th></th>\n",
       "      <th></th>\n",
       "      <th></th>\n",
       "      <th></th>\n",
       "    </tr>\n",
       "  </thead>\n",
       "  <tbody>\n",
       "    <tr>\n",
       "      <th>8724</th>\n",
       "      <td>Technology</td>\n",
       "      <td>region_26</td>\n",
       "      <td>Bachelor's</td>\n",
       "      <td>sourcing</td>\n",
       "    </tr>\n",
       "    <tr>\n",
       "      <th>74430</th>\n",
       "      <td>HR</td>\n",
       "      <td>region_4</td>\n",
       "      <td>Bachelor's</td>\n",
       "      <td>other</td>\n",
       "    </tr>\n",
       "    <tr>\n",
       "      <th>72255</th>\n",
       "      <td>Sales &amp; Marketing</td>\n",
       "      <td>region_13</td>\n",
       "      <td>Bachelor's</td>\n",
       "      <td>other</td>\n",
       "    </tr>\n",
       "    <tr>\n",
       "      <th>38562</th>\n",
       "      <td>Procurement</td>\n",
       "      <td>region_2</td>\n",
       "      <td>Bachelor's</td>\n",
       "      <td>other</td>\n",
       "    </tr>\n",
       "    <tr>\n",
       "      <th>64486</th>\n",
       "      <td>Finance</td>\n",
       "      <td>region_29</td>\n",
       "      <td>Bachelor's</td>\n",
       "      <td>sourcing</td>\n",
       "    </tr>\n",
       "  </tbody>\n",
       "</table>\n",
       "</div>"
      ],
      "text/plain": [
       "                    department     region   education recruitment_channel\n",
       "employee_id                                                              \n",
       "8724                Technology  region_26  Bachelor's            sourcing\n",
       "74430                       HR   region_4  Bachelor's               other\n",
       "72255        Sales & Marketing  region_13  Bachelor's               other\n",
       "38562              Procurement   region_2  Bachelor's               other\n",
       "64486                  Finance  region_29  Bachelor's            sourcing"
      ]
     },
     "execution_count": 53,
     "metadata": {},
     "output_type": "execute_result"
    }
   ],
   "source": [
    "df_test1[colname].head()"
   ]
  },
  {
   "cell_type": "code",
   "execution_count": 54,
   "metadata": {},
   "outputs": [],
   "source": [
    "for i in colname:\n",
    "    df_test1[i] = le.fit_transform(df_test1[i])"
   ]
  },
  {
   "cell_type": "code",
   "execution_count": 55,
   "metadata": {},
   "outputs": [
    {
     "data": {
      "text/html": [
       "<div>\n",
       "<style scoped>\n",
       "    .dataframe tbody tr th:only-of-type {\n",
       "        vertical-align: middle;\n",
       "    }\n",
       "\n",
       "    .dataframe tbody tr th {\n",
       "        vertical-align: top;\n",
       "    }\n",
       "\n",
       "    .dataframe thead th {\n",
       "        text-align: right;\n",
       "    }\n",
       "</style>\n",
       "<table border=\"1\" class=\"dataframe\">\n",
       "  <thead>\n",
       "    <tr style=\"text-align: right;\">\n",
       "      <th></th>\n",
       "      <th>department</th>\n",
       "      <th>region</th>\n",
       "      <th>education</th>\n",
       "      <th>recruitment_channel</th>\n",
       "    </tr>\n",
       "    <tr>\n",
       "      <th>employee_id</th>\n",
       "      <th></th>\n",
       "      <th></th>\n",
       "      <th></th>\n",
       "      <th></th>\n",
       "    </tr>\n",
       "  </thead>\n",
       "  <tbody>\n",
       "    <tr>\n",
       "      <th>8724</th>\n",
       "      <td>8</td>\n",
       "      <td>18</td>\n",
       "      <td>0</td>\n",
       "      <td>2</td>\n",
       "    </tr>\n",
       "    <tr>\n",
       "      <th>74430</th>\n",
       "      <td>2</td>\n",
       "      <td>28</td>\n",
       "      <td>0</td>\n",
       "      <td>0</td>\n",
       "    </tr>\n",
       "    <tr>\n",
       "      <th>72255</th>\n",
       "      <td>7</td>\n",
       "      <td>4</td>\n",
       "      <td>0</td>\n",
       "      <td>0</td>\n",
       "    </tr>\n",
       "    <tr>\n",
       "      <th>38562</th>\n",
       "      <td>5</td>\n",
       "      <td>11</td>\n",
       "      <td>0</td>\n",
       "      <td>0</td>\n",
       "    </tr>\n",
       "    <tr>\n",
       "      <th>64486</th>\n",
       "      <td>1</td>\n",
       "      <td>21</td>\n",
       "      <td>0</td>\n",
       "      <td>2</td>\n",
       "    </tr>\n",
       "  </tbody>\n",
       "</table>\n",
       "</div>"
      ],
      "text/plain": [
       "             department  region  education  recruitment_channel\n",
       "employee_id                                                    \n",
       "8724                  8      18          0                    2\n",
       "74430                 2      28          0                    0\n",
       "72255                 7       4          0                    0\n",
       "38562                 5      11          0                    0\n",
       "64486                 1      21          0                    2"
      ]
     },
     "execution_count": 55,
     "metadata": {},
     "output_type": "execute_result"
    }
   ],
   "source": [
    "df_test1[colname].head()"
   ]
  },
  {
   "cell_type": "code",
   "execution_count": 56,
   "metadata": {},
   "outputs": [
    {
     "data": {
      "text/plain": [
       "array([[ 8., 18.,  0., ...,  1.,  0., 77.],\n",
       "       [ 2., 28.,  0., ...,  0.,  0., 51.],\n",
       "       [ 7.,  4.,  0., ...,  0.,  0., 47.],\n",
       "       ...,\n",
       "       [ 2.,  7.,  0., ...,  0.,  0., 50.],\n",
       "       [ 5., 24.,  0., ...,  0.,  0., 70.],\n",
       "       [ 8.,  8.,  2., ...,  1.,  0., 89.]])"
      ]
     },
     "execution_count": 56,
     "metadata": {},
     "output_type": "execute_result"
    }
   ],
   "source": [
    "X_Test = df_test1.values[:,:]\n",
    "X_Test"
   ]
  },
  {
   "cell_type": "code",
   "execution_count": 57,
   "metadata": {
    "scrolled": true
   },
   "outputs": [],
   "source": [
    "X_Test = sc.transform(X_Test)\n",
    "# print(X_Test)"
   ]
  },
  {
   "cell_type": "code",
   "execution_count": 58,
   "metadata": {},
   "outputs": [],
   "source": [
    "Y_pred_rdf = model_RandomForest.predict(X_Test)"
   ]
  },
  {
   "cell_type": "code",
   "execution_count": 59,
   "metadata": {},
   "outputs": [],
   "source": [
    "df_test['Promoted'] = Y_pred_rdf.astype(int)"
   ]
  },
  {
   "cell_type": "code",
   "execution_count": 60,
   "metadata": {},
   "outputs": [
    {
     "data": {
      "text/html": [
       "<div>\n",
       "<style scoped>\n",
       "    .dataframe tbody tr th:only-of-type {\n",
       "        vertical-align: middle;\n",
       "    }\n",
       "\n",
       "    .dataframe tbody tr th {\n",
       "        vertical-align: top;\n",
       "    }\n",
       "\n",
       "    .dataframe thead th {\n",
       "        text-align: right;\n",
       "    }\n",
       "</style>\n",
       "<table border=\"1\" class=\"dataframe\">\n",
       "  <thead>\n",
       "    <tr style=\"text-align: right;\">\n",
       "      <th></th>\n",
       "      <th>department</th>\n",
       "      <th>region</th>\n",
       "      <th>education</th>\n",
       "      <th>gender</th>\n",
       "      <th>recruitment_channel</th>\n",
       "      <th>no_of_trainings</th>\n",
       "      <th>age</th>\n",
       "      <th>previous_year_rating</th>\n",
       "      <th>length_of_service</th>\n",
       "      <th>KPIs_met &gt;80%</th>\n",
       "      <th>awards_won?</th>\n",
       "      <th>avg_training_score</th>\n",
       "      <th>Promoted</th>\n",
       "    </tr>\n",
       "    <tr>\n",
       "      <th>employee_id</th>\n",
       "      <th></th>\n",
       "      <th></th>\n",
       "      <th></th>\n",
       "      <th></th>\n",
       "      <th></th>\n",
       "      <th></th>\n",
       "      <th></th>\n",
       "      <th></th>\n",
       "      <th></th>\n",
       "      <th></th>\n",
       "      <th></th>\n",
       "      <th></th>\n",
       "      <th></th>\n",
       "    </tr>\n",
       "  </thead>\n",
       "  <tbody>\n",
       "    <tr>\n",
       "      <th>8724</th>\n",
       "      <td>Technology</td>\n",
       "      <td>region_26</td>\n",
       "      <td>Bachelor's</td>\n",
       "      <td>m</td>\n",
       "      <td>sourcing</td>\n",
       "      <td>1</td>\n",
       "      <td>24</td>\n",
       "      <td>NaN</td>\n",
       "      <td>1</td>\n",
       "      <td>1</td>\n",
       "      <td>0</td>\n",
       "      <td>77</td>\n",
       "      <td>0</td>\n",
       "    </tr>\n",
       "    <tr>\n",
       "      <th>74430</th>\n",
       "      <td>HR</td>\n",
       "      <td>region_4</td>\n",
       "      <td>Bachelor's</td>\n",
       "      <td>f</td>\n",
       "      <td>other</td>\n",
       "      <td>1</td>\n",
       "      <td>31</td>\n",
       "      <td>3.0</td>\n",
       "      <td>5</td>\n",
       "      <td>0</td>\n",
       "      <td>0</td>\n",
       "      <td>51</td>\n",
       "      <td>0</td>\n",
       "    </tr>\n",
       "    <tr>\n",
       "      <th>72255</th>\n",
       "      <td>Sales &amp; Marketing</td>\n",
       "      <td>region_13</td>\n",
       "      <td>Bachelor's</td>\n",
       "      <td>m</td>\n",
       "      <td>other</td>\n",
       "      <td>1</td>\n",
       "      <td>31</td>\n",
       "      <td>1.0</td>\n",
       "      <td>4</td>\n",
       "      <td>0</td>\n",
       "      <td>0</td>\n",
       "      <td>47</td>\n",
       "      <td>0</td>\n",
       "    </tr>\n",
       "    <tr>\n",
       "      <th>38562</th>\n",
       "      <td>Procurement</td>\n",
       "      <td>region_2</td>\n",
       "      <td>Bachelor's</td>\n",
       "      <td>f</td>\n",
       "      <td>other</td>\n",
       "      <td>3</td>\n",
       "      <td>31</td>\n",
       "      <td>2.0</td>\n",
       "      <td>9</td>\n",
       "      <td>0</td>\n",
       "      <td>0</td>\n",
       "      <td>65</td>\n",
       "      <td>0</td>\n",
       "    </tr>\n",
       "    <tr>\n",
       "      <th>64486</th>\n",
       "      <td>Finance</td>\n",
       "      <td>region_29</td>\n",
       "      <td>Bachelor's</td>\n",
       "      <td>m</td>\n",
       "      <td>sourcing</td>\n",
       "      <td>1</td>\n",
       "      <td>30</td>\n",
       "      <td>4.0</td>\n",
       "      <td>7</td>\n",
       "      <td>0</td>\n",
       "      <td>0</td>\n",
       "      <td>61</td>\n",
       "      <td>0</td>\n",
       "    </tr>\n",
       "  </tbody>\n",
       "</table>\n",
       "</div>"
      ],
      "text/plain": [
       "                    department     region   education gender  \\\n",
       "employee_id                                                    \n",
       "8724                Technology  region_26  Bachelor's      m   \n",
       "74430                       HR   region_4  Bachelor's      f   \n",
       "72255        Sales & Marketing  region_13  Bachelor's      m   \n",
       "38562              Procurement   region_2  Bachelor's      f   \n",
       "64486                  Finance  region_29  Bachelor's      m   \n",
       "\n",
       "            recruitment_channel  no_of_trainings  age  previous_year_rating  \\\n",
       "employee_id                                                                   \n",
       "8724                   sourcing                1   24                   NaN   \n",
       "74430                     other                1   31                   3.0   \n",
       "72255                     other                1   31                   1.0   \n",
       "38562                     other                3   31                   2.0   \n",
       "64486                  sourcing                1   30                   4.0   \n",
       "\n",
       "             length_of_service  KPIs_met >80%  awards_won?  \\\n",
       "employee_id                                                  \n",
       "8724                         1              1            0   \n",
       "74430                        5              0            0   \n",
       "72255                        4              0            0   \n",
       "38562                        9              0            0   \n",
       "64486                        7              0            0   \n",
       "\n",
       "             avg_training_score  Promoted  \n",
       "employee_id                                \n",
       "8724                         77         0  \n",
       "74430                        51         0  \n",
       "72255                        47         0  \n",
       "38562                        65         0  \n",
       "64486                        61         0  "
      ]
     },
     "execution_count": 60,
     "metadata": {},
     "output_type": "execute_result"
    }
   ],
   "source": [
    "df_test.head()"
   ]
  },
  {
   "cell_type": "code",
   "execution_count": 61,
   "metadata": {},
   "outputs": [],
   "source": [
    "df_test['Promoted'] = df_test['Promoted'].map({1 : 'Yes', 0 : 'No'})\n",
    "#print(df_test['Random_Forest'])\n",
    "df_test.to_csv('Final_Predictions.csv')"
   ]
  },
  {
   "cell_type": "code",
   "execution_count": 62,
   "metadata": {},
   "outputs": [
    {
     "data": {
      "text/plain": [
       "(23490, 13)"
      ]
     },
     "execution_count": 62,
     "metadata": {},
     "output_type": "execute_result"
    }
   ],
   "source": [
    "df_test.shape"
   ]
  },
  {
   "cell_type": "code",
   "execution_count": 63,
   "metadata": {},
   "outputs": [
    {
     "data": {
      "text/plain": [
       "<matplotlib.axes._subplots.AxesSubplot at 0x15289364a00>"
      ]
     },
     "execution_count": 63,
     "metadata": {},
     "output_type": "execute_result"
    },
    {
     "data": {
      "image/png": "[encoded data removed]",
      "text/plain": [
       "<Figure size 432x288 with 1 Axes>"
      ]
     },
     "metadata": {
      "needs_background": "light"
     },
     "output_type": "display_data"
    }
   ],
   "source": [
    "sns.countplot(x = 'Promoted', data = df_test)"
   ]
  },
  {
   "cell_type": "code",
   "execution_count": 64,
   "metadata": {},
   "outputs": [
    {
     "data": {
      "text/plain": [
       "No     21849\n",
       "Yes     1641\n",
       "Name: Promoted, dtype: int64"
      ]
     },
     "execution_count": 64,
     "metadata": {},
     "output_type": "execute_result"
    }
   ],
   "source": [
    "df_test['Promoted'].value_counts()"
   ]
  },
  {
   "cell_type": "code",
   "execution_count": null,
   "metadata": {},
   "outputs": [],
   "source": []
  },
  {
   "cell_type": "code",
   "execution_count": null,
   "metadata": {},
   "outputs": [],
   "source": []
  },
  {
   "cell_type": "markdown",
   "metadata": {},
   "source": [
    "# ANN - MLP CLASSIFIER"
   ]
  },
  {
   "cell_type": "code",
   "execution_count": 65,
   "metadata": {},
   "outputs": [],
   "source": [
    "from sklearn.neural_network import MLPClassifier"
   ]
  },
  {
   "cell_type": "code",
   "execution_count": 66,
   "metadata": {},
   "outputs": [
    {
     "name": "stdout",
     "output_type": "stream",
     "text": [
      "Iteration 1, loss = 0.49353556\n",
      "Validation score: 0.759687\n",
      "Iteration 2, loss = 0.44496514\n",
      "Validation score: 0.787892\n",
      "Iteration 3, loss = 0.41774846\n",
      "Validation score: 0.799288\n",
      "Iteration 4, loss = 0.39958101\n",
      "Validation score: 0.796724\n",
      "Iteration 5, loss = 0.38543961\n",
      "Validation score: 0.811538\n",
      "Iteration 6, loss = 0.37606174\n",
      "Validation score: 0.818091\n",
      "Iteration 7, loss = 0.36970200\n",
      "Validation score: 0.811254\n",
      "Iteration 8, loss = 0.36471271\n",
      "Validation score: 0.817664\n",
      "Iteration 9, loss = 0.36296416\n",
      "Validation score: 0.803561\n",
      "Iteration 10, loss = 0.36004489\n",
      "Validation score: 0.813960\n",
      "Iteration 11, loss = 0.35759419\n",
      "Validation score: 0.813675\n",
      "Iteration 12, loss = 0.35636087\n",
      "Validation score: 0.818234\n",
      "Iteration 13, loss = 0.35492332\n",
      "Validation score: 0.820228\n",
      "Iteration 14, loss = 0.35287140\n",
      "Validation score: 0.820228\n",
      "Iteration 15, loss = 0.35227568\n",
      "Validation score: 0.822222\n",
      "Iteration 16, loss = 0.35042860\n",
      "Validation score: 0.818661\n",
      "Iteration 17, loss = 0.34996458\n",
      "Validation score: 0.811681\n",
      "Iteration 18, loss = 0.34948839\n",
      "Validation score: 0.824074\n",
      "Iteration 19, loss = 0.34726354\n",
      "Validation score: 0.818661\n",
      "Iteration 20, loss = 0.34726963\n",
      "Validation score: 0.820228\n",
      "Iteration 21, loss = 0.34618613\n",
      "Validation score: 0.821937\n",
      "Iteration 22, loss = 0.34667518\n",
      "Validation score: 0.821937\n",
      "Iteration 23, loss = 0.34453053\n",
      "Validation score: 0.825214\n",
      "Iteration 24, loss = 0.34490533\n",
      "Validation score: 0.822507\n",
      "Iteration 25, loss = 0.34370016\n",
      "Validation score: 0.822222\n",
      "Iteration 26, loss = 0.34177956\n",
      "Validation score: 0.827208\n",
      "Iteration 27, loss = 0.34119231\n",
      "Validation score: 0.827635\n",
      "Iteration 28, loss = 0.34043037\n",
      "Validation score: 0.813105\n",
      "Iteration 29, loss = 0.33936479\n",
      "Validation score: 0.825499\n",
      "Iteration 30, loss = 0.34083214\n",
      "Validation score: 0.808547\n",
      "Iteration 31, loss = 0.33983457\n",
      "Validation score: 0.820370\n",
      "Iteration 32, loss = 0.33780043\n",
      "Validation score: 0.807692\n",
      "Iteration 33, loss = 0.33683694\n",
      "Validation score: 0.824929\n",
      "Validation score did not improve more than tol=0.000100 for 5 consecutive epochs. Stopping.\n"
     ]
    }
   ],
   "source": [
    "mlp = MLPClassifier(hidden_layer_sizes = (100),\n",
    "                    max_iter = 100,\n",
    "                    early_stopping = True,\n",
    "                    random_state = 10,\n",
    "                    activation = \"relu\",\n",
    "                    solver = \"adam\",\n",
    "                    learning_rate = \"constant\",\n",
    "                    learning_rate_init = 0.01, \n",
    "                    verbose = True,\n",
    "                    n_iter_no_change = 5)\n",
    "\n",
    "mlp.fit(X_train1, Y_train1)\n",
    "Y_pred = mlp.predict(X_test1)\n",
    "#print(list(zip(Y_test,Y_pred)))"
   ]
  },
  {
   "cell_type": "code",
   "execution_count": 67,
   "metadata": {},
   "outputs": [
    {
     "data": {
      "text/plain": [
       "33"
      ]
     },
     "execution_count": 67,
     "metadata": {},
     "output_type": "execute_result"
    }
   ],
   "source": [
    "# No. of epochs model required\n",
    "mlp.n_iter_"
   ]
  },
  {
   "cell_type": "code",
   "execution_count": 68,
   "metadata": {},
   "outputs": [
    {
     "name": "stdout",
     "output_type": "stream",
     "text": [
      "[[10788  4227]\n",
      " [  910 14159]] \n",
      "\n",
      "Classification Report \n",
      "\n",
      "               precision    recall  f1-score   support\n",
      "\n",
      "           0       0.92      0.72      0.81     15015\n",
      "           1       0.77      0.94      0.85     15069\n",
      "\n",
      "    accuracy                           0.83     30084\n",
      "   macro avg       0.85      0.83      0.83     30084\n",
      "weighted avg       0.85      0.83      0.83     30084\n",
      " \n",
      "\n",
      "Accuracy of model : 0.8292\n"
     ]
    }
   ],
   "source": [
    "print(confusion_matrix(Y_test1, Y_pred),'\\n')\n",
    "print('Classification Report \\n\\n',classification_report(Y_test1, Y_pred),'\\n')\n",
    "print('Accuracy of model :',round(accuracy_score(Y_test1, Y_pred),4))"
   ]
  },
  {
   "cell_type": "code",
   "execution_count": null,
   "metadata": {},
   "outputs": [],
   "source": []
  },
  {
   "cell_type": "code",
   "execution_count": null,
   "metadata": {},
   "outputs": [],
   "source": []
  },
  {
   "cell_type": "markdown",
   "metadata": {},
   "source": [
    "#  GRID SEARCH CV"
   ]
  },
  {
   "cell_type": "code",
   "execution_count": 69,
   "metadata": {},
   "outputs": [],
   "source": [
    "mlp_gs = MLPClassifier(max_iter = 100,\n",
    "                       early_stopping = True,\n",
    "                       n_iter_no_change = 5,\n",
    "                       random_state = 10,\n",
    "                       learning_rate_init = 0.01,\n",
    "                       verbose = True)\n",
    "\n",
    "# Creating dictionary of Hyper Parameters\n",
    "\n",
    "parameter_space = {\n",
    "'hidden_layer_sizes': [(12,12,12),(10,10),(100,100)],\n",
    "'activation': ['tanh', 'relu'],\n",
    "'solver': ['sgd', 'adam'],\n",
    "'alpha': [0.0001, 0.01],\n",
    "'learning_rate': ['constant']\n",
    "}"
   ]
  },
  {
   "cell_type": "code",
   "execution_count": 70,
   "metadata": {},
   "outputs": [],
   "source": [
    "from sklearn.model_selection import GridSearchCV\n",
    "\n",
    "# n_jobs -> -1 -> use all cores to perform grid search\n",
    "# cv -> no. of folds\n",
    "clf = GridSearchCV(mlp_gs, parameter_space, n_jobs = -1, cv = 5)"
   ]
  },
  {
   "cell_type": "code",
   "execution_count": 71,
   "metadata": {},
   "outputs": [
    {
     "name": "stdout",
     "output_type": "stream",
     "text": [
      "Iteration 1, loss = 0.47804602\n",
      "Validation score: 0.784473\n",
      "Iteration 2, loss = 0.38661351\n",
      "Validation score: 0.798148\n",
      "Iteration 3, loss = 0.37063901\n",
      "Validation score: 0.804558\n",
      "Iteration 4, loss = 0.36252745\n",
      "Validation score: 0.815812\n",
      "Iteration 5, loss = 0.35683263\n",
      "Validation score: 0.812108\n",
      "Iteration 6, loss = 0.34863322\n",
      "Validation score: 0.817379\n",
      "Iteration 7, loss = 0.34226981\n",
      "Validation score: 0.826068\n",
      "Iteration 8, loss = 0.33604686\n",
      "Validation score: 0.825071\n",
      "Iteration 9, loss = 0.33337069\n",
      "Validation score: 0.830484\n",
      "Iteration 10, loss = 0.32566363\n",
      "Validation score: 0.827920\n",
      "Iteration 11, loss = 0.31982137\n",
      "Validation score: 0.836467\n",
      "Iteration 12, loss = 0.31364287\n",
      "Validation score: 0.832764\n",
      "Iteration 13, loss = 0.30699618\n",
      "Validation score: 0.836467\n",
      "Iteration 14, loss = 0.30381065\n",
      "Validation score: 0.845014\n",
      "Iteration 15, loss = 0.29403165\n",
      "Validation score: 0.848718\n",
      "Iteration 16, loss = 0.28987232\n",
      "Validation score: 0.846724\n",
      "Iteration 17, loss = 0.28559823\n",
      "Validation score: 0.851282\n",
      "Iteration 18, loss = 0.27765618\n",
      "Validation score: 0.849003\n",
      "Iteration 19, loss = 0.27070217\n",
      "Validation score: 0.856838\n",
      "Iteration 20, loss = 0.26411821\n",
      "Validation score: 0.861681\n",
      "Iteration 21, loss = 0.25766780\n",
      "Validation score: 0.861966\n",
      "Iteration 22, loss = 0.25149078\n",
      "Validation score: 0.861111\n",
      "Iteration 23, loss = 0.24929995\n",
      "Validation score: 0.856268\n",
      "Iteration 24, loss = 0.24312993\n",
      "Validation score: 0.864245\n",
      "Iteration 25, loss = 0.23609167\n",
      "Validation score: 0.871368\n",
      "Iteration 26, loss = 0.22960235\n",
      "Validation score: 0.868803\n",
      "Iteration 27, loss = 0.22470978\n",
      "Validation score: 0.877493\n",
      "Iteration 28, loss = 0.21943823\n",
      "Validation score: 0.878205\n",
      "Iteration 29, loss = 0.21680636\n",
      "Validation score: 0.883761\n",
      "Iteration 30, loss = 0.21270004\n",
      "Validation score: 0.882764\n",
      "Iteration 31, loss = 0.20922870\n",
      "Validation score: 0.885185\n",
      "Iteration 32, loss = 0.20583252\n",
      "Validation score: 0.878632\n",
      "Iteration 33, loss = 0.19982296\n",
      "Validation score: 0.887464\n",
      "Iteration 34, loss = 0.19964060\n",
      "Validation score: 0.890028\n",
      "Iteration 35, loss = 0.19067956\n",
      "Validation score: 0.889459\n",
      "Iteration 36, loss = 0.18868120\n",
      "Validation score: 0.896439\n",
      "Iteration 37, loss = 0.18714221\n",
      "Validation score: 0.893305\n",
      "Iteration 38, loss = 0.18235334\n",
      "Validation score: 0.894587\n",
      "Iteration 39, loss = 0.18634647\n",
      "Validation score: 0.901140\n",
      "Iteration 40, loss = 0.17729655\n",
      "Validation score: 0.891026\n",
      "Iteration 41, loss = 0.17977628\n",
      "Validation score: 0.897578\n",
      "Iteration 42, loss = 0.17401385\n",
      "Validation score: 0.897293\n",
      "Iteration 43, loss = 0.17112919\n",
      "Validation score: 0.896296\n",
      "Iteration 44, loss = 0.17154104\n",
      "Validation score: 0.903276\n",
      "Iteration 45, loss = 0.16460257\n",
      "Validation score: 0.899573\n",
      "Iteration 46, loss = 0.16068288\n",
      "Validation score: 0.900855\n",
      "Iteration 47, loss = 0.16436668\n",
      "Validation score: 0.904131\n",
      "Iteration 48, loss = 0.15962694\n",
      "Validation score: 0.904416\n",
      "Iteration 49, loss = 0.15896070\n",
      "Validation score: 0.909972\n",
      "Iteration 50, loss = 0.15692463\n",
      "Validation score: 0.909544\n",
      "Iteration 51, loss = 0.15623708\n",
      "Validation score: 0.909687\n",
      "Iteration 52, loss = 0.15231903\n",
      "Validation score: 0.900142\n",
      "Iteration 53, loss = 0.15350475\n",
      "Validation score: 0.898433\n",
      "Iteration 54, loss = 0.15297358\n",
      "Validation score: 0.907407\n",
      "Iteration 55, loss = 0.15461748\n",
      "Validation score: 0.908689\n",
      "Validation score did not improve more than tol=0.000100 for 5 consecutive epochs. Stopping.\n"
     ]
    },
    {
     "data": {
      "text/plain": [
       "GridSearchCV(cv=5,\n",
       "             estimator=MLPClassifier(early_stopping=True,\n",
       "                                     learning_rate_init=0.01, max_iter=100,\n",
       "                                     n_iter_no_change=5, random_state=10,\n",
       "                                     verbose=True),\n",
       "             n_jobs=-1,\n",
       "             param_grid={'activation': ['tanh', 'relu'],\n",
       "                         'alpha': [0.0001, 0.01],\n",
       "                         'hidden_layer_sizes': [(12, 12, 12), (10, 10),\n",
       "                                                (100, 100)],\n",
       "                         'learning_rate': ['constant'],\n",
       "                         'solver': ['sgd', 'adam']})"
      ]
     },
     "execution_count": 71,
     "metadata": {},
     "output_type": "execute_result"
    }
   ],
   "source": [
    "clf.fit(X_train1, Y_train1)"
   ]
  },
  {
   "cell_type": "code",
   "execution_count": 72,
   "metadata": {},
   "outputs": [
    {
     "data": {
      "text/plain": [
       "{'activation': 'tanh',\n",
       " 'alpha': 0.0001,\n",
       " 'hidden_layer_sizes': (100, 100),\n",
       " 'learning_rate': 'constant',\n",
       " 'solver': 'adam'}"
      ]
     },
     "execution_count": 72,
     "metadata": {},
     "output_type": "execute_result"
    }
   ],
   "source": [
    "# print the best parameters\n",
    "clf.best_params_"
   ]
  },
  {
   "cell_type": "code",
   "execution_count": 73,
   "metadata": {},
   "outputs": [],
   "source": [
    "Y_pred = clf.predict(X_test1)"
   ]
  },
  {
   "cell_type": "code",
   "execution_count": 74,
   "metadata": {},
   "outputs": [
    {
     "name": "stdout",
     "output_type": "stream",
     "text": [
      "[[13041  1974]\n",
      " [  667 14402]] \n",
      "\n",
      "Classification Report \n",
      "\n",
      "               precision    recall  f1-score   support\n",
      "\n",
      "           0       0.95      0.87      0.91     15015\n",
      "           1       0.88      0.96      0.92     15069\n",
      "\n",
      "    accuracy                           0.91     30084\n",
      "   macro avg       0.92      0.91      0.91     30084\n",
      "weighted avg       0.92      0.91      0.91     30084\n",
      " \n",
      "\n",
      "Accuracy of model : 0.9122\n"
     ]
    }
   ],
   "source": [
    "print(confusion_matrix(Y_test1, Y_pred),'\\n')\n",
    "print('Classification Report \\n\\n',classification_report(Y_test1, Y_pred),'\\n')\n",
    "print('Accuracy of model :',round(accuracy_score(Y_test1, Y_pred),4))"
   ]
  },
  {
   "cell_type": "code",
   "execution_count": null,
   "metadata": {},
   "outputs": [],
   "source": []
  }
 ],
 "metadata": {
  "kernelspec": {
   "display_name": "Python 3",
   "language": "python",
   "name": "python3"
  },
  "language_info": {
   "codemirror_mode": {
    "name": "ipython",
    "version": 3
   },
   "file_extension": ".py",
   "mimetype": "text/x-python",
   "name": "python",
   "nbconvert_exporter": "python",
   "pygments_lexer": "ipython3",
   "version": "3.8.3"
  }
 },
 "nbformat": 4,
 "nbformat_minor": 4
}
