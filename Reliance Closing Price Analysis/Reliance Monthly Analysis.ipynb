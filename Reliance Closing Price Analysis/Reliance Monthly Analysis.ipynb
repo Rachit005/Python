{
 "cells": [
  {
   "cell_type": "markdown",
   "metadata": {},
   "source": [
    "# RELIANCE CLOSING PRICE ANALYSIS\n",
    "\n",
    "### Script By\n",
    "Rachit Agarwal https://www.linkedin.com/in/racag"
   ]
  },
  {
   "cell_type": "code",
   "execution_count": null,
   "metadata": {},
   "outputs": [],
   "source": []
  },
  {
   "cell_type": "code",
   "execution_count": 1,
   "metadata": {},
   "outputs": [],
   "source": [
    "# Library used for loading the data and Preprocessing\n",
    "import pandas as pd\n",
    "import matplotlib.pyplot as plt\n",
    "import warnings\n",
    "warnings.filterwarnings('ignore')\n",
    "\n",
    "# Library used for checking Trend, Seasonality, Cyclic and Random Variation \n",
    "import statsmodels.api as ap    \n",
    "\n",
    "# Libraries for Building the Models\n",
    "from statsmodels.tsa.api import SimpleExpSmoothing as ses   # Simple / Single Exponential Smoothing \n",
    "from statsmodels.tsa.api import Holt                        # Holt's Linear Trend / Double Exponential Smoothing \n",
    "from statsmodels.tsa.api import ExponentialSmoothing as es  # Holt's Winter / Tripple Exponential Smoothing\n",
    "import pmdarima as pm                                       # ARIMA\n",
    "\n",
    "# Library used for checking Stationarity \n",
    "from statsmodels.tsa.stattools import adfuller\n",
    "\n",
    "# Libraries for Evaluation Metrics\n",
    "from sklearn.metrics import mean_squared_error\n",
    "from math import sqrt"
   ]
  },
  {
   "cell_type": "code",
   "execution_count": 2,
   "metadata": {},
   "outputs": [
    {
     "data": {
      "text/plain": [
       "(6282, 7)"
      ]
     },
     "execution_count": 2,
     "metadata": {},
     "output_type": "execute_result"
    }
   ],
   "source": [
    "# Loading the data\n",
    "\n",
    "data = pd.read_csv('RELIANCE_NS.csv')\n",
    "data.shape"
   ]
  },
  {
   "cell_type": "code",
   "execution_count": 3,
   "metadata": {},
   "outputs": [
    {
     "data": {
      "text/html": [
       "<div>\n",
       "<style scoped>\n",
       "    .dataframe tbody tr th:only-of-type {\n",
       "        vertical-align: middle;\n",
       "    }\n",
       "\n",
       "    .dataframe tbody tr th {\n",
       "        vertical-align: top;\n",
       "    }\n",
       "\n",
       "    .dataframe thead th {\n",
       "        text-align: right;\n",
       "    }\n",
       "</style>\n",
       "<table border=\"1\" class=\"dataframe\">\n",
       "  <thead>\n",
       "    <tr style=\"text-align: right;\">\n",
       "      <th></th>\n",
       "      <th>Date</th>\n",
       "      <th>Open</th>\n",
       "      <th>High</th>\n",
       "      <th>Low</th>\n",
       "      <th>Close</th>\n",
       "      <th>Adj Close</th>\n",
       "      <th>Volume</th>\n",
       "    </tr>\n",
       "  </thead>\n",
       "  <tbody>\n",
       "    <tr>\n",
       "      <th>0</th>\n",
       "      <td>1996-01-01</td>\n",
       "      <td>16.009800</td>\n",
       "      <td>16.095699</td>\n",
       "      <td>15.904300</td>\n",
       "      <td>16.0683</td>\n",
       "      <td>2.422041</td>\n",
       "      <td>47600787.0</td>\n",
       "    </tr>\n",
       "    <tr>\n",
       "      <th>1</th>\n",
       "      <td>1996-01-02</td>\n",
       "      <td>16.029301</td>\n",
       "      <td>16.107401</td>\n",
       "      <td>15.826200</td>\n",
       "      <td>15.9434</td>\n",
       "      <td>2.403215</td>\n",
       "      <td>77143764.0</td>\n",
       "    </tr>\n",
       "    <tr>\n",
       "      <th>2</th>\n",
       "      <td>1996-01-03</td>\n",
       "      <td>16.205000</td>\n",
       "      <td>16.943001</td>\n",
       "      <td>16.029301</td>\n",
       "      <td>16.0644</td>\n",
       "      <td>2.421453</td>\n",
       "      <td>95695836.0</td>\n",
       "    </tr>\n",
       "    <tr>\n",
       "      <th>3</th>\n",
       "      <td>1996-01-04</td>\n",
       "      <td>15.912100</td>\n",
       "      <td>15.962900</td>\n",
       "      <td>15.701300</td>\n",
       "      <td>15.9160</td>\n",
       "      <td>2.399085</td>\n",
       "      <td>99159504.0</td>\n",
       "    </tr>\n",
       "    <tr>\n",
       "      <th>4</th>\n",
       "      <td>1996-01-05</td>\n",
       "      <td>15.853600</td>\n",
       "      <td>15.853600</td>\n",
       "      <td>15.670000</td>\n",
       "      <td>15.8067</td>\n",
       "      <td>2.382609</td>\n",
       "      <td>76213503.0</td>\n",
       "    </tr>\n",
       "  </tbody>\n",
       "</table>\n",
       "</div>"
      ],
      "text/plain": [
       "         Date       Open       High        Low    Close  Adj Close      Volume\n",
       "0  1996-01-01  16.009800  16.095699  15.904300  16.0683   2.422041  47600787.0\n",
       "1  1996-01-02  16.029301  16.107401  15.826200  15.9434   2.403215  77143764.0\n",
       "2  1996-01-03  16.205000  16.943001  16.029301  16.0644   2.421453  95695836.0\n",
       "3  1996-01-04  15.912100  15.962900  15.701300  15.9160   2.399085  99159504.0\n",
       "4  1996-01-05  15.853600  15.853600  15.670000  15.8067   2.382609  76213503.0"
      ]
     },
     "execution_count": 3,
     "metadata": {},
     "output_type": "execute_result"
    }
   ],
   "source": [
    "data.head()"
   ]
  },
  {
   "cell_type": "code",
   "execution_count": 4,
   "metadata": {},
   "outputs": [
    {
     "data": {
      "text/html": [
       "<div>\n",
       "<style scoped>\n",
       "    .dataframe tbody tr th:only-of-type {\n",
       "        vertical-align: middle;\n",
       "    }\n",
       "\n",
       "    .dataframe tbody tr th {\n",
       "        vertical-align: top;\n",
       "    }\n",
       "\n",
       "    .dataframe thead th {\n",
       "        text-align: right;\n",
       "    }\n",
       "</style>\n",
       "<table border=\"1\" class=\"dataframe\">\n",
       "  <thead>\n",
       "    <tr style=\"text-align: right;\">\n",
       "      <th></th>\n",
       "      <th>Date</th>\n",
       "      <th>Close</th>\n",
       "    </tr>\n",
       "  </thead>\n",
       "  <tbody>\n",
       "    <tr>\n",
       "      <th>0</th>\n",
       "      <td>1996-01-01</td>\n",
       "      <td>16.0683</td>\n",
       "    </tr>\n",
       "    <tr>\n",
       "      <th>1</th>\n",
       "      <td>1996-01-02</td>\n",
       "      <td>15.9434</td>\n",
       "    </tr>\n",
       "    <tr>\n",
       "      <th>2</th>\n",
       "      <td>1996-01-03</td>\n",
       "      <td>16.0644</td>\n",
       "    </tr>\n",
       "    <tr>\n",
       "      <th>3</th>\n",
       "      <td>1996-01-04</td>\n",
       "      <td>15.9160</td>\n",
       "    </tr>\n",
       "    <tr>\n",
       "      <th>4</th>\n",
       "      <td>1996-01-05</td>\n",
       "      <td>15.8067</td>\n",
       "    </tr>\n",
       "  </tbody>\n",
       "</table>\n",
       "</div>"
      ],
      "text/plain": [
       "         Date    Close\n",
       "0  1996-01-01  16.0683\n",
       "1  1996-01-02  15.9434\n",
       "2  1996-01-03  16.0644\n",
       "3  1996-01-04  15.9160\n",
       "4  1996-01-05  15.8067"
      ]
     },
     "execution_count": 4,
     "metadata": {},
     "output_type": "execute_result"
    }
   ],
   "source": [
    "# Keeping the Date and Closing Price Variable\n",
    "\n",
    "data1 = data[['Date','Close']]\n",
    "data1.head()"
   ]
  },
  {
   "cell_type": "code",
   "execution_count": 5,
   "metadata": {},
   "outputs": [
    {
     "data": {
      "text/plain": [
       "('1996-01-01', '2020-11-27')"
      ]
     },
     "execution_count": 5,
     "metadata": {},
     "output_type": "execute_result"
    }
   ],
   "source": [
    "# Checking the Range of Date variable\n",
    "\n",
    "data1['Date'].min(), data1['Date'].max() "
   ]
  },
  {
   "cell_type": "code",
   "execution_count": 6,
   "metadata": {},
   "outputs": [
    {
     "data": {
      "text/plain": [
       "Date       0\n",
       "Close    127\n",
       "dtype: int64"
      ]
     },
     "execution_count": 6,
     "metadata": {},
     "output_type": "execute_result"
    }
   ],
   "source": [
    "# Checking for Null Values\n",
    "\n",
    "data1.isnull().sum()"
   ]
  },
  {
   "cell_type": "code",
   "execution_count": 7,
   "metadata": {},
   "outputs": [
    {
     "data": {
      "text/html": [
       "<div>\n",
       "<style scoped>\n",
       "    .dataframe tbody tr th:only-of-type {\n",
       "        vertical-align: middle;\n",
       "    }\n",
       "\n",
       "    .dataframe tbody tr th {\n",
       "        vertical-align: top;\n",
       "    }\n",
       "\n",
       "    .dataframe thead th {\n",
       "        text-align: right;\n",
       "    }\n",
       "</style>\n",
       "<table border=\"1\" class=\"dataframe\">\n",
       "  <thead>\n",
       "    <tr style=\"text-align: right;\">\n",
       "      <th></th>\n",
       "      <th>Date</th>\n",
       "      <th>Close</th>\n",
       "    </tr>\n",
       "  </thead>\n",
       "  <tbody>\n",
       "    <tr>\n",
       "      <th>19</th>\n",
       "      <td>1996-01-26</td>\n",
       "      <td>NaN</td>\n",
       "    </tr>\n",
       "    <tr>\n",
       "      <th>37</th>\n",
       "      <td>1996-02-21</td>\n",
       "      <td>NaN</td>\n",
       "    </tr>\n",
       "    <tr>\n",
       "      <th>46</th>\n",
       "      <td>1996-03-05</td>\n",
       "      <td>NaN</td>\n",
       "    </tr>\n",
       "    <tr>\n",
       "      <th>57</th>\n",
       "      <td>1996-03-20</td>\n",
       "      <td>NaN</td>\n",
       "    </tr>\n",
       "    <tr>\n",
       "      <th>69</th>\n",
       "      <td>1996-04-05</td>\n",
       "      <td>NaN</td>\n",
       "    </tr>\n",
       "    <tr>\n",
       "      <th>...</th>\n",
       "      <td>...</td>\n",
       "      <td>...</td>\n",
       "    </tr>\n",
       "    <tr>\n",
       "      <th>4297</th>\n",
       "      <td>2012-11-11</td>\n",
       "      <td>NaN</td>\n",
       "    </tr>\n",
       "    <tr>\n",
       "      <th>4634</th>\n",
       "      <td>2014-03-22</td>\n",
       "      <td>NaN</td>\n",
       "    </tr>\n",
       "    <tr>\n",
       "      <th>4863</th>\n",
       "      <td>2015-02-28</td>\n",
       "      <td>NaN</td>\n",
       "    </tr>\n",
       "    <tr>\n",
       "      <th>6008</th>\n",
       "      <td>2019-10-27</td>\n",
       "      <td>NaN</td>\n",
       "    </tr>\n",
       "    <tr>\n",
       "      <th>6272</th>\n",
       "      <td>2020-11-14</td>\n",
       "      <td>NaN</td>\n",
       "    </tr>\n",
       "  </tbody>\n",
       "</table>\n",
       "<p>127 rows × 2 columns</p>\n",
       "</div>"
      ],
      "text/plain": [
       "            Date  Close\n",
       "19    1996-01-26    NaN\n",
       "37    1996-02-21    NaN\n",
       "46    1996-03-05    NaN\n",
       "57    1996-03-20    NaN\n",
       "69    1996-04-05    NaN\n",
       "...          ...    ...\n",
       "4297  2012-11-11    NaN\n",
       "4634  2014-03-22    NaN\n",
       "4863  2015-02-28    NaN\n",
       "6008  2019-10-27    NaN\n",
       "6272  2020-11-14    NaN\n",
       "\n",
       "[127 rows x 2 columns]"
      ]
     },
     "execution_count": 7,
     "metadata": {},
     "output_type": "execute_result"
    }
   ],
   "source": [
    "data1[data1['Close'].isnull()]"
   ]
  },
  {
   "cell_type": "code",
   "execution_count": 8,
   "metadata": {},
   "outputs": [
    {
     "data": {
      "text/plain": [
       "(6282,)"
      ]
     },
     "execution_count": 8,
     "metadata": {},
     "output_type": "execute_result"
    }
   ],
   "source": [
    "# Grouping the data by Date\n",
    "# so that if two values are present for same date then the closing price is added\n",
    "\n",
    "data2 = data1.groupby('Date')['Close'].sum()\n",
    "data2.shape"
   ]
  },
  {
   "cell_type": "markdown",
   "metadata": {},
   "source": [
    "### Now you can see that the shape remains as it after grouping the data\n",
    "### So there is no difference if you do not perform the above step"
   ]
  },
  {
   "cell_type": "code",
   "execution_count": null,
   "metadata": {},
   "outputs": [],
   "source": []
  },
  {
   "cell_type": "markdown",
   "metadata": {},
   "source": [
    "### CHECKING DATATYPES"
   ]
  },
  {
   "cell_type": "code",
   "execution_count": 9,
   "metadata": {},
   "outputs": [
    {
     "name": "stdout",
     "output_type": "stream",
     "text": [
      "<class 'pandas.core.frame.DataFrame'>\n",
      "RangeIndex: 6282 entries, 0 to 6281\n",
      "Data columns (total 2 columns):\n",
      " #   Column  Non-Null Count  Dtype  \n",
      "---  ------  --------------  -----  \n",
      " 0   Date    6282 non-null   object \n",
      " 1   Close   6155 non-null   float64\n",
      "dtypes: float64(1), object(1)\n",
      "memory usage: 98.3+ KB\n"
     ]
    }
   ],
   "source": [
    "data1.info()"
   ]
  },
  {
   "cell_type": "code",
   "execution_count": 10,
   "metadata": {},
   "outputs": [
    {
     "name": "stdout",
     "output_type": "stream",
     "text": [
      "<class 'pandas.core.frame.DataFrame'>\n",
      "RangeIndex: 6282 entries, 0 to 6281\n",
      "Data columns (total 2 columns):\n",
      " #   Column  Non-Null Count  Dtype         \n",
      "---  ------  --------------  -----         \n",
      " 0   Date    6282 non-null   datetime64[ns]\n",
      " 1   Close   6155 non-null   float64       \n",
      "dtypes: datetime64[ns](1), float64(1)\n",
      "memory usage: 98.3 KB\n"
     ]
    }
   ],
   "source": [
    "# Converting the Date variable to 'date' datatype\n",
    "\n",
    "data1['Date'] = data1['Date'].astype('datetime64')\n",
    "data1.info()"
   ]
  },
  {
   "cell_type": "code",
   "execution_count": 11,
   "metadata": {},
   "outputs": [
    {
     "data": {
      "text/html": [
       "<div>\n",
       "<style scoped>\n",
       "    .dataframe tbody tr th:only-of-type {\n",
       "        vertical-align: middle;\n",
       "    }\n",
       "\n",
       "    .dataframe tbody tr th {\n",
       "        vertical-align: top;\n",
       "    }\n",
       "\n",
       "    .dataframe thead th {\n",
       "        text-align: right;\n",
       "    }\n",
       "</style>\n",
       "<table border=\"1\" class=\"dataframe\">\n",
       "  <thead>\n",
       "    <tr style=\"text-align: right;\">\n",
       "      <th></th>\n",
       "      <th>Close</th>\n",
       "    </tr>\n",
       "    <tr>\n",
       "      <th>Date</th>\n",
       "      <th></th>\n",
       "    </tr>\n",
       "  </thead>\n",
       "  <tbody>\n",
       "    <tr>\n",
       "      <th>1996-01-01</th>\n",
       "      <td>16.0683</td>\n",
       "    </tr>\n",
       "    <tr>\n",
       "      <th>1996-01-02</th>\n",
       "      <td>15.9434</td>\n",
       "    </tr>\n",
       "    <tr>\n",
       "      <th>1996-01-03</th>\n",
       "      <td>16.0644</td>\n",
       "    </tr>\n",
       "    <tr>\n",
       "      <th>1996-01-04</th>\n",
       "      <td>15.9160</td>\n",
       "    </tr>\n",
       "    <tr>\n",
       "      <th>1996-01-05</th>\n",
       "      <td>15.8067</td>\n",
       "    </tr>\n",
       "  </tbody>\n",
       "</table>\n",
       "</div>"
      ],
      "text/plain": [
       "              Close\n",
       "Date               \n",
       "1996-01-01  16.0683\n",
       "1996-01-02  15.9434\n",
       "1996-01-03  16.0644\n",
       "1996-01-04  15.9160\n",
       "1996-01-05  15.8067"
      ]
     },
     "execution_count": 11,
     "metadata": {},
     "output_type": "execute_result"
    }
   ],
   "source": [
    "# Setting the Date variable as Index\n",
    "\n",
    "data1.set_index('Date', inplace = True)\n",
    "data1.head()"
   ]
  },
  {
   "cell_type": "code",
   "execution_count": 12,
   "metadata": {},
   "outputs": [
    {
     "data": {
      "text/plain": [
       "(299,)"
      ]
     },
     "execution_count": 12,
     "metadata": {},
     "output_type": "execute_result"
    }
   ],
   "source": [
    "# Resampling the data to Monthly data by taking Average\n",
    "\n",
    "y = data1['Close'].resample('M').mean()\n",
    "y.shape"
   ]
  },
  {
   "cell_type": "code",
   "execution_count": 13,
   "metadata": {},
   "outputs": [
    {
     "data": {
      "text/plain": [
       "0"
      ]
     },
     "execution_count": 13,
     "metadata": {},
     "output_type": "execute_result"
    }
   ],
   "source": [
    "# Checking for Null's\n",
    "\n",
    "y.isnull().sum()"
   ]
  },
  {
   "cell_type": "code",
   "execution_count": 14,
   "metadata": {},
   "outputs": [
    {
     "data": {
      "image/png": "[encoded data removed]",
      "text/plain": [
       "<Figure size 576x288 with 1 Axes>"
      ]
     },
     "metadata": {
      "needs_background": "light"
     },
     "output_type": "display_data"
    }
   ],
   "source": [
    "# Plotting the resampled data\n",
    "\n",
    "y.plot(figsize = (8,4))\n",
    "plt.show()"
   ]
  },
  {
   "cell_type": "code",
   "execution_count": null,
   "metadata": {},
   "outputs": [],
   "source": []
  },
  {
   "cell_type": "markdown",
   "metadata": {},
   "source": [
    "### TRAIN TEST SPLIT"
   ]
  },
  {
   "cell_type": "code",
   "execution_count": 15,
   "metadata": {},
   "outputs": [
    {
     "data": {
      "text/plain": [
       "Date\n",
       "2014-08-31    496.230262\n",
       "2014-09-30    497.222727\n",
       "2014-10-31    474.208335\n",
       "2014-11-30    491.937500\n",
       "2014-12-31    455.624997\n",
       "Freq: M, Name: Close, dtype: float64"
      ]
     },
     "execution_count": 15,
     "metadata": {},
     "output_type": "execute_result"
    }
   ],
   "source": [
    "# Training part consist of data from Jan 1996 to Dec 2014\n",
    "\n",
    "train = y.loc[:'2014-12-31']\n",
    "train.tail()"
   ]
  },
  {
   "cell_type": "code",
   "execution_count": null,
   "metadata": {},
   "outputs": [],
   "source": []
  },
  {
   "cell_type": "code",
   "execution_count": 16,
   "metadata": {},
   "outputs": [
    {
     "data": {
      "text/plain": [
       "Date\n",
       "2020-07-31    1939.930436\n",
       "2020-08-31    2110.792899\n",
       "2020-09-30    2214.381836\n",
       "2020-10-31    2161.842855\n",
       "2020-11-30    1964.847367\n",
       "Freq: M, Name: Close, dtype: float64"
      ]
     },
     "execution_count": 16,
     "metadata": {},
     "output_type": "execute_result"
    }
   ],
   "source": [
    "# Testing part consist of data from Jan 2015 to Nov 2020\n",
    "\n",
    "test = y.loc['2015-01-31':]\n",
    "test.tail()"
   ]
  },
  {
   "cell_type": "code",
   "execution_count": 17,
   "metadata": {},
   "outputs": [
    {
     "data": {
      "text/plain": [
       "((228,), (71,))"
      ]
     },
     "execution_count": 17,
     "metadata": {},
     "output_type": "execute_result"
    }
   ],
   "source": [
    "# Shape of Training and Testing data\n",
    "\n",
    "train.shape, test.shape"
   ]
  },
  {
   "cell_type": "code",
   "execution_count": 18,
   "metadata": {},
   "outputs": [
    {
     "data": {
      "image/png": "[encoded data removed]",
      "text/plain": [
       "<Figure size 720x432 with 1 Axes>"
      ]
     },
     "metadata": {
      "needs_background": "light"
     },
     "output_type": "display_data"
    }
   ],
   "source": [
    "# Plotting the Training and Testing data\n",
    "\n",
    "plt.figure(figsize = (10,6))\n",
    "train.plot()\n",
    "test.plot()\n",
    "\n",
    "plt.title('Monthly Average Closing Price', fontsize = 16)\n",
    "plt.xlabel('Year', fontsize = 14)\n",
    "plt.ylabel('Closing Price', fontsize = 14)\n",
    "\n",
    "plt.legend(['Training Data','Testing Data'], loc = 0, fontsize = 14)\n",
    "plt.show()"
   ]
  },
  {
   "cell_type": "code",
   "execution_count": null,
   "metadata": {},
   "outputs": [],
   "source": []
  },
  {
   "cell_type": "markdown",
   "metadata": {},
   "source": [
    "### Decomposing the data into Trend & Seasonality"
   ]
  },
  {
   "cell_type": "code",
   "execution_count": 19,
   "metadata": {},
   "outputs": [
    {
     "data": {
      "image/png": "[encoded data removed]",
      "text/plain": [
       "<Figure size 432x288 with 4 Axes>"
      ]
     },
     "metadata": {
      "needs_background": "light"
     },
     "output_type": "display_data"
    }
   ],
   "source": [
    "# 1st graph -> observed values\n",
    "# 2nd graph -> trend component\n",
    "# 3rd graph -> seasonality component\n",
    "# 4th graph -> Residual\n",
    "\n",
    "# if only trend then use double exponential / HOLT LINEAR TREND \n",
    "# trend and seasonality then use triple exponential / HOLT WINTER METHOD\n",
    "\n",
    "\n",
    "dc = ap.tsa.seasonal_decompose(y)\n",
    "dc.plot()\n",
    "plt.show()"
   ]
  },
  {
   "cell_type": "code",
   "execution_count": null,
   "metadata": {},
   "outputs": [],
   "source": []
  },
  {
   "cell_type": "markdown",
   "metadata": {},
   "source": [
    "## MODEL BUILDING & EVALUATION"
   ]
  },
  {
   "cell_type": "code",
   "execution_count": 20,
   "metadata": {},
   "outputs": [],
   "source": [
    "# Creating a dataframe to store the RMSE and AIC values of each Model\n",
    "\n",
    "result = pd.DataFrame(columns = ['Algorithm','RMSE','AIC'])\n",
    "\n",
    "result['Algorithm'] = ['Single Exponential', 'Double Exponential', 'Triple Exponential','ARIMA']\n",
    "\n",
    "result.set_index('Algorithm', inplace = True)\n",
    "\n",
    "# result.head()"
   ]
  },
  {
   "cell_type": "code",
   "execution_count": 21,
   "metadata": {},
   "outputs": [],
   "source": [
    "# Creating a dataframe to store the Predicted values of each Model\n",
    "\n",
    "prediction = pd.DataFrame(columns = ['Actual Values'])\n",
    "prediction['Actual Values'] = test.copy()\n",
    "\n",
    "# prediction.head()"
   ]
  },
  {
   "cell_type": "code",
   "execution_count": 22,
   "metadata": {},
   "outputs": [],
   "source": [
    "# User Defined Function to Calclulate the RMSE & AIC\n",
    "\n",
    "def metric(model, actual_value, predicted_value):\n",
    "    rmse = round(sqrt(mean_squared_error(actual_value, predicted_value)),4)\n",
    "    aic = round(model.aic,4)\n",
    "    return rmse,aic"
   ]
  },
  {
   "cell_type": "code",
   "execution_count": null,
   "metadata": {},
   "outputs": [],
   "source": []
  },
  {
   "cell_type": "markdown",
   "metadata": {},
   "source": [
    "### SIMPLE / SINGLE EXPONENTIAL SMOOTHING"
   ]
  },
  {
   "cell_type": "code",
   "execution_count": 23,
   "metadata": {},
   "outputs": [],
   "source": [
    "# smoothing_level = alpha\n",
    "# range is 0 to 1\n",
    "# close to 0 -> older values are less important compared to recent values\n",
    "# close to 1 -> older values are equally important\n",
    "\n",
    "\n",
    "model_Single = ses(train).fit(smoothing_level = 0.26)\n",
    "prediction['Single'] = model_Single.forecast(len(test))"
   ]
  },
  {
   "cell_type": "code",
   "execution_count": 24,
   "metadata": {},
   "outputs": [
    {
     "data": {
      "image/png": "[encoded data removed]",
      "text/plain": [
       "<Figure size 720x432 with 1 Axes>"
      ]
     },
     "metadata": {
      "needs_background": "light"
     },
     "output_type": "display_data"
    }
   ],
   "source": [
    "plt.figure(figsize = (10,6))\n",
    "\n",
    "train.plot()\n",
    "test.plot()\n",
    "prediction['Single'].plot()\n",
    "\n",
    "plt.title('Monthly Average Closing Price', fontsize = 16)\n",
    "plt.xlabel('Year', fontsize = 14)\n",
    "plt.ylabel('Closing Price', fontsize = 14)\n",
    "\n",
    "plt.legend(['Training Data','Testing Data','Single Exponential Method'], fontsize = 13)\n",
    "plt.show()"
   ]
  },
  {
   "cell_type": "code",
   "execution_count": 25,
   "metadata": {},
   "outputs": [
    {
     "name": "stdout",
     "output_type": "stream",
     "text": [
      "RMSE : 669.426 \n",
      "AIC : 1735.49\n"
     ]
    }
   ],
   "source": [
    "rmse,aic = metric(model_Single,prediction['Actual Values'],prediction['Single'])\n",
    "print('RMSE :',rmse,'\\nAIC :',aic)\n",
    "\n",
    "result.loc['Single Exponential','RMSE'] = rmse\n",
    "result.loc['Single Exponential','AIC'] = aic"
   ]
  },
  {
   "cell_type": "code",
   "execution_count": null,
   "metadata": {},
   "outputs": [],
   "source": []
  },
  {
   "cell_type": "code",
   "execution_count": null,
   "metadata": {},
   "outputs": [],
   "source": []
  },
  {
   "cell_type": "markdown",
   "metadata": {},
   "source": [
    "### HOLT's LINEAR TREND / DOUBLE EXPONENTIAL SMOOTHING"
   ]
  },
  {
   "cell_type": "code",
   "execution_count": 26,
   "metadata": {},
   "outputs": [],
   "source": [
    "# smoothing_level = alpha\n",
    "# range is 0 to 1\n",
    "# close to 0 -> older values are less important compared to recent values\n",
    "# close to 1 -> older values are equally important\n",
    "\n",
    "\n",
    "# smoothing_slope -> beta\n",
    "# Angle at which trend occurs\n",
    "# range 0 to 1\n",
    "\n",
    "\n",
    "model_Double = Holt(train).fit(smoothing_level = 0.26, smoothing_slope = 0.099)\n",
    "prediction['Double'] = model_Double.forecast(len(test))"
   ]
  },
  {
   "cell_type": "code",
   "execution_count": 27,
   "metadata": {},
   "outputs": [
    {
     "data": {
      "image/png": "[encoded data removed]",
      "text/plain": [
       "<Figure size 720x432 with 1 Axes>"
      ]
     },
     "metadata": {
      "needs_background": "light"
     },
     "output_type": "display_data"
    }
   ],
   "source": [
    "plt.figure(figsize = (10,6))\n",
    "\n",
    "train.plot()\n",
    "test.plot()\n",
    "prediction['Single'].plot()\n",
    "prediction['Double'].plot()\n",
    "\n",
    "plt.title('Monthly Average Closing Price', fontsize = 16)\n",
    "plt.xlabel('Year', fontsize = 14)\n",
    "plt.ylabel('Closing Price', fontsize = 14)\n",
    "\n",
    "plt.legend(['Training Data','Testing Data','Single Exponential Method',\n",
    "            'Double Exponential Method'], fontsize = 13)\n",
    "plt.show()"
   ]
  },
  {
   "cell_type": "code",
   "execution_count": 28,
   "metadata": {},
   "outputs": [
    {
     "name": "stdout",
     "output_type": "stream",
     "text": [
      "RMSE : 531.5136 \n",
      "AIC : 1756.5778\n"
     ]
    }
   ],
   "source": [
    "rmse,aic = metric(model_Double,prediction['Actual Values'],prediction['Double'])\n",
    "print('RMSE :',rmse,'\\nAIC :',aic)\n",
    "\n",
    "result.loc['Double Exponential','RMSE'] = rmse\n",
    "result.loc['Double Exponential','AIC'] = aic"
   ]
  },
  {
   "cell_type": "code",
   "execution_count": null,
   "metadata": {},
   "outputs": [],
   "source": []
  },
  {
   "cell_type": "code",
   "execution_count": null,
   "metadata": {},
   "outputs": [],
   "source": []
  },
  {
   "cell_type": "markdown",
   "metadata": {},
   "source": [
    "### HOLT's WINTER / TRIPLE EXPONENTIAL SMOOTHING"
   ]
  },
  {
   "cell_type": "code",
   "execution_count": 29,
   "metadata": {},
   "outputs": [],
   "source": [
    "# seasonal_periods = 12 -> 12 months the pattern is repeating\n",
    "# trend = 'add' -> type of model to be build -> additive model\n",
    "# trend = 'mul' -> type of model to be build -> multiplicative model\n",
    "\n",
    "\n",
    "model_Triple = es(train, trend = 'mul', seasonal = 'mul', seasonal_periods = 12).fit()\n",
    "prediction['Triple'] = model_Triple.forecast(len(test))"
   ]
  },
  {
   "cell_type": "code",
   "execution_count": 30,
   "metadata": {},
   "outputs": [
    {
     "data": {
      "image/png": "[encoded data removed]",
      "text/plain": [
       "<Figure size 720x432 with 1 Axes>"
      ]
     },
     "metadata": {
      "needs_background": "light"
     },
     "output_type": "display_data"
    }
   ],
   "source": [
    "plt.figure(figsize = (10,6))\n",
    "\n",
    "train.plot()\n",
    "test.plot()\n",
    "prediction['Single'].plot()\n",
    "prediction['Double'].plot()\n",
    "prediction['Triple'].plot()\n",
    "\n",
    "plt.title('Monthly Average Closing Price', fontsize = 16)\n",
    "plt.xlabel('Year', fontsize = 14)\n",
    "plt.ylabel('Closing Price', fontsize = 14)\n",
    "\n",
    "plt.legend(['Training Data','Testing Data','Single Exponential Method',\n",
    "            'Double Exponential Method','Triple Exponential Method'], fontsize = 13)\n",
    "plt.show()"
   ]
  },
  {
   "cell_type": "code",
   "execution_count": 31,
   "metadata": {},
   "outputs": [
    {
     "name": "stdout",
     "output_type": "stream",
     "text": [
      "RMSE : 486.1228 \n",
      "AIC : 1578.0206\n"
     ]
    }
   ],
   "source": [
    "rmse,aic = metric(model_Triple,prediction['Actual Values'],prediction['Triple'])\n",
    "print('RMSE :',rmse,'\\nAIC :',aic)\n",
    "\n",
    "result.loc['Triple Exponential','RMSE'] = rmse\n",
    "result.loc['Triple Exponential','AIC'] = aic"
   ]
  },
  {
   "cell_type": "code",
   "execution_count": null,
   "metadata": {},
   "outputs": [],
   "source": []
  },
  {
   "cell_type": "code",
   "execution_count": null,
   "metadata": {},
   "outputs": [],
   "source": []
  },
  {
   "cell_type": "markdown",
   "metadata": {},
   "source": [
    "### Checking for Stationarity of data\n",
    "\n",
    "#### H0 : Data is non-stationary              <- Null Hypothesis\n",
    "#### H1 : Data is stationary                      <- Alternate Hypothesis"
   ]
  },
  {
   "cell_type": "code",
   "execution_count": 32,
   "metadata": {},
   "outputs": [
    {
     "name": "stdout",
     "output_type": "stream",
     "text": [
      "P-value : 1.0\n"
     ]
    }
   ],
   "source": [
    "ad = adfuller(y)\n",
    "print('P-value :',ad[1])"
   ]
  },
  {
   "cell_type": "markdown",
   "metadata": {},
   "source": [
    "#### Since P-value is greater than 5% we reject the Null Hypothesis\n",
    "#### So the data is stationary"
   ]
  },
  {
   "cell_type": "code",
   "execution_count": null,
   "metadata": {},
   "outputs": [],
   "source": []
  },
  {
   "cell_type": "code",
   "execution_count": null,
   "metadata": {},
   "outputs": [],
   "source": []
  },
  {
   "cell_type": "markdown",
   "metadata": {},
   "source": [
    "### ARIMA MODEL"
   ]
  },
  {
   "cell_type": "code",
   "execution_count": 33,
   "metadata": {},
   "outputs": [],
   "source": [
    "# y -> data\n",
    "\n",
    "# start_p -> starting p value\n",
    "# max_p -> maximum p value\n",
    "\n",
    "# d = None -> no differencing\n",
    "# max_d = 2 -> if required then upto 2nd order differencing\n",
    "\n",
    "# start_q -> starting q value\n",
    "# max_q -> maximum q value\n",
    "\n",
    "# similar for P,D,Q\n",
    "\n",
    "# max_order = 10 -> to set restriction\n",
    "# sumation of p,q and P,Q should be less then equal to 10\n",
    "# p+q + P+Q <= 10 \n",
    "# p+q <= 3\n",
    "\n",
    "# seasonality m = 12 -> yearly pattern\n",
    "# seasonal = True -> use SARIMA\n",
    "\n",
    "# information_criterion = 'aic' -> model evaluation parameter\n",
    "\n",
    "# test = adf -> if data is non stationary\n",
    "\n",
    "# trace = True -> for displaying all combinations "
   ]
  },
  {
   "cell_type": "code",
   "execution_count": 34,
   "metadata": {
    "scrolled": true
   },
   "outputs": [
    {
     "name": "stdout",
     "output_type": "stream",
     "text": [
      " ARIMA(0,1,0)(0,0,0)[12] intercept   : AIC=3153.045, Time=0.52 sec\n",
      " ARIMA(0,1,0)(0,0,1)[12] intercept   : AIC=3138.795, Time=0.41 sec\n",
      " ARIMA(0,1,0)(0,0,2)[12] intercept   : AIC=3129.131, Time=1.08 sec\n",
      " ARIMA(0,1,0)(0,0,3)[12] intercept   : AIC=3127.597, Time=2.83 sec\n",
      " ARIMA(0,1,0)(1,0,0)[12] intercept   : AIC=3130.059, Time=0.41 sec\n",
      " ARIMA(0,1,0)(1,0,1)[12] intercept   : AIC=3126.786, Time=0.68 sec\n",
      " ARIMA(0,1,0)(1,0,2)[12] intercept   : AIC=3126.623, Time=2.12 sec\n",
      " ARIMA(0,1,0)(1,0,3)[12] intercept   : AIC=3128.605, Time=7.75 sec\n",
      " ARIMA(0,1,0)(2,0,0)[12] intercept   : AIC=3125.010, Time=1.46 sec\n",
      " ARIMA(0,1,0)(2,0,1)[12] intercept   : AIC=3126.991, Time=2.45 sec\n",
      " ARIMA(0,1,0)(2,0,2)[12] intercept   : AIC=3128.605, Time=3.08 sec\n",
      " ARIMA(0,1,0)(2,0,3)[12] intercept   : AIC=3130.603, Time=6.84 sec\n",
      " ARIMA(0,1,0)(3,0,0)[12] intercept   : AIC=3126.982, Time=4.45 sec\n",
      " ARIMA(0,1,0)(3,0,1)[12] intercept   : AIC=3128.857, Time=9.18 sec\n",
      " ARIMA(0,1,0)(3,0,2)[12] intercept   : AIC=3130.577, Time=10.22 sec\n",
      " ARIMA(0,1,0)(3,0,3)[12] intercept   : AIC=3132.602, Time=10.34 sec\n",
      " ARIMA(0,1,1)(0,0,0)[12] intercept   : AIC=3100.767, Time=0.30 sec\n",
      " ARIMA(0,1,1)(0,0,1)[12] intercept   : AIC=3092.823, Time=0.67 sec\n",
      " ARIMA(0,1,1)(0,0,2)[12] intercept   : AIC=3091.919, Time=2.03 sec\n",
      " ARIMA(0,1,1)(0,0,3)[12] intercept   : AIC=3091.907, Time=4.71 sec\n",
      " ARIMA(0,1,1)(1,0,0)[12] intercept   : AIC=3090.151, Time=0.57 sec\n",
      " ARIMA(0,1,1)(1,0,1)[12] intercept   : AIC=3090.426, Time=1.30 sec\n",
      " ARIMA(0,1,1)(1,0,2)[12] intercept   : AIC=3092.197, Time=4.20 sec\n",
      " ARIMA(0,1,1)(1,0,3)[12] intercept   : AIC=3093.782, Time=11.99 sec\n",
      " ARIMA(0,1,1)(2,0,0)[12] intercept   : AIC=3090.355, Time=2.22 sec\n",
      " ARIMA(0,1,1)(2,0,1)[12] intercept   : AIC=3092.273, Time=4.34 sec\n",
      " ARIMA(0,1,1)(2,0,2)[12] intercept   : AIC=3094.409, Time=2.77 sec\n",
      " ARIMA(0,1,1)(2,0,3)[12] intercept   : AIC=3095.781, Time=14.25 sec\n",
      " ARIMA(0,1,1)(3,0,0)[12] intercept   : AIC=3092.185, Time=5.54 sec\n",
      " ARIMA(0,1,1)(3,0,1)[12] intercept   : AIC=3094.043, Time=9.40 sec\n",
      " ARIMA(0,1,1)(3,0,2)[12] intercept   : AIC=3095.473, Time=11.51 sec\n",
      " ARIMA(0,1,1)(3,0,3)[12] intercept   : AIC=3097.460, Time=13.65 sec\n",
      " ARIMA(0,1,2)(0,0,0)[12] intercept   : AIC=3102.353, Time=0.46 sec\n",
      " ARIMA(0,1,2)(0,0,1)[12] intercept   : AIC=3094.666, Time=1.08 sec\n",
      " ARIMA(0,1,2)(0,0,2)[12] intercept   : AIC=3093.911, Time=2.85 sec\n",
      " ARIMA(0,1,2)(0,0,3)[12] intercept   : AIC=3093.886, Time=6.28 sec\n",
      " ARIMA(0,1,2)(1,0,0)[12] intercept   : AIC=3092.106, Time=0.79 sec\n",
      " ARIMA(0,1,2)(1,0,1)[12] intercept   : AIC=3092.396, Time=1.95 sec\n",
      " ARIMA(0,1,2)(1,0,2)[12] intercept   : AIC=3094.186, Time=4.03 sec\n",
      " ARIMA(0,1,2)(1,0,3)[12] intercept   : AIC=3095.757, Time=11.76 sec\n",
      " ARIMA(0,1,2)(2,0,0)[12] intercept   : AIC=3092.347, Time=2.78 sec\n",
      " ARIMA(0,1,2)(2,0,1)[12] intercept   : AIC=3094.257, Time=4.19 sec\n",
      " ARIMA(0,1,2)(2,0,2)[12] intercept   : AIC=3096.390, Time=3.43 sec\n",
      " ARIMA(0,1,2)(2,0,3)[12] intercept   : AIC=3097.756, Time=14.22 sec\n",
      " ARIMA(0,1,2)(3,0,0)[12] intercept   : AIC=3094.157, Time=7.29 sec\n",
      " ARIMA(0,1,2)(3,0,1)[12] intercept   : AIC=3096.017, Time=7.27 sec\n",
      " ARIMA(0,1,2)(3,0,2)[12] intercept   : AIC=3097.322, Time=15.16 sec\n",
      " ARIMA(0,1,2)(3,0,3)[12] intercept   : AIC=3099.632, Time=18.22 sec\n",
      " ARIMA(0,1,3)(0,0,0)[12] intercept   : AIC=3102.064, Time=0.53 sec\n",
      " ARIMA(0,1,3)(0,0,1)[12] intercept   : AIC=3094.345, Time=1.29 sec\n",
      " ARIMA(0,1,3)(0,0,2)[12] intercept   : AIC=3093.892, Time=3.59 sec\n",
      " ARIMA(0,1,3)(0,0,3)[12] intercept   : AIC=3093.029, Time=9.96 sec\n",
      " ARIMA(0,1,3)(1,0,0)[12] intercept   : AIC=3091.784, Time=1.14 sec\n",
      " ARIMA(0,1,3)(1,0,1)[12] intercept   : AIC=3091.701, Time=1.76 sec\n",
      " ARIMA(0,1,3)(1,0,2)[12] intercept   : AIC=3093.591, Time=6.11 sec\n",
      " ARIMA(0,1,3)(1,0,3)[12] intercept   : AIC=3094.872, Time=12.68 sec\n",
      " ARIMA(0,1,3)(2,0,0)[12] intercept   : AIC=3091.907, Time=2.91 sec\n",
      " ARIMA(0,1,3)(2,0,1)[12] intercept   : AIC=3093.630, Time=5.09 sec\n",
      " ARIMA(0,1,3)(2,0,2)[12] intercept   : AIC=3095.667, Time=4.14 sec\n",
      " ARIMA(0,1,3)(2,0,3)[12] intercept   : AIC=3096.854, Time=17.32 sec\n",
      " ARIMA(0,1,3)(3,0,0)[12] intercept   : AIC=3093.292, Time=9.36 sec\n",
      " ARIMA(0,1,3)(3,0,1)[12] intercept   : AIC=3095.033, Time=13.90 sec\n",
      " ARIMA(0,1,3)(3,0,2)[12] intercept   : AIC=3096.951, Time=16.39 sec\n",
      " ARIMA(0,1,3)(3,0,3)[12] intercept   : AIC=3099.560, Time=19.55 sec\n",
      " ARIMA(1,1,0)(0,0,0)[12] intercept   : AIC=3105.642, Time=0.16 sec\n",
      " ARIMA(1,1,0)(0,0,1)[12] intercept   : AIC=3096.598, Time=0.41 sec\n",
      " ARIMA(1,1,0)(0,0,2)[12] intercept   : AIC=3095.687, Time=1.84 sec\n",
      " ARIMA(1,1,0)(0,0,3)[12] intercept   : AIC=3094.733, Time=3.50 sec\n",
      " ARIMA(1,1,0)(1,0,0)[12] intercept   : AIC=3093.536, Time=0.56 sec\n",
      " ARIMA(1,1,0)(1,0,1)[12] intercept   : AIC=3093.118, Time=0.99 sec\n",
      " ARIMA(1,1,0)(1,0,2)[12] intercept   : AIC=3094.993, Time=3.04 sec\n",
      " ARIMA(1,1,0)(1,0,3)[12] intercept   : AIC=3096.395, Time=8.27 sec\n",
      " ARIMA(1,1,0)(2,0,0)[12] intercept   : AIC=3093.341, Time=2.03 sec\n",
      " ARIMA(1,1,0)(2,0,1)[12] intercept   : AIC=3095.034, Time=2.83 sec\n",
      " ARIMA(1,1,0)(2,0,2)[12] intercept   : AIC=3097.117, Time=3.11 sec\n",
      " ARIMA(1,1,0)(2,0,3)[12] intercept   : AIC=3098.395, Time=12.55 sec\n",
      " ARIMA(1,1,0)(3,0,0)[12] intercept   : AIC=3094.737, Time=6.37 sec\n",
      " ARIMA(1,1,0)(3,0,1)[12] intercept   : AIC=3096.598, Time=9.60 sec\n",
      " ARIMA(1,1,0)(3,0,2)[12] intercept   : AIC=3097.907, Time=13.82 sec\n",
      " ARIMA(1,1,0)(3,0,3)[12] intercept   : AIC=3100.356, Time=16.15 sec\n",
      " ARIMA(1,1,1)(0,0,0)[12] intercept   : AIC=3102.240, Time=0.40 sec\n",
      " ARIMA(1,1,1)(0,0,1)[12] intercept   : AIC=3094.592, Time=0.98 sec\n",
      " ARIMA(1,1,1)(0,0,2)[12] intercept   : AIC=3093.906, Time=3.05 sec\n",
      " ARIMA(1,1,1)(0,0,3)[12] intercept   : AIC=3093.868, Time=8.23 sec\n",
      " ARIMA(1,1,1)(1,0,0)[12] intercept   : AIC=3092.077, Time=1.02 sec\n",
      " ARIMA(1,1,1)(1,0,1)[12] intercept   : AIC=3092.371, Time=1.31 sec\n",
      " ARIMA(1,1,1)(1,0,2)[12] intercept   : AIC=3094.176, Time=5.01 sec\n",
      " ARIMA(1,1,1)(1,0,3)[12] intercept   : AIC=3095.735, Time=13.14 sec\n",
      " ARIMA(1,1,1)(2,0,0)[12] intercept   : AIC=3092.340, Time=2.92 sec\n",
      " ARIMA(1,1,1)(2,0,1)[12] intercept   : AIC=3094.243, Time=4.59 sec\n",
      " ARIMA(1,1,1)(2,0,2)[12] intercept   : AIC=3096.366, Time=3.87 sec\n",
      " ARIMA(1,1,1)(2,0,3)[12] intercept   : AIC=3097.812, Time=14.55 sec\n",
      " ARIMA(1,1,1)(3,0,0)[12] intercept   : AIC=3094.131, Time=8.66 sec\n",
      " ARIMA(1,1,1)(3,0,1)[12] intercept   : AIC=3095.996, Time=8.15 sec\n",
      " ARIMA(1,1,1)(3,0,2)[12] intercept   : AIC=3097.637, Time=16.06 sec\n",
      " ARIMA(1,1,1)(3,0,3)[12] intercept   : AIC=3099.591, Time=17.58 sec\n",
      " ARIMA(1,1,2)(0,0,0)[12] intercept   : AIC=3104.231, Time=0.68 sec\n",
      " ARIMA(1,1,2)(0,0,1)[12] intercept   : AIC=3096.539, Time=1.01 sec\n",
      " ARIMA(1,1,2)(0,0,2)[12] intercept   : AIC=3095.879, Time=2.73 sec\n",
      " ARIMA(1,1,2)(0,0,3)[12] intercept   : AIC=3095.799, Time=7.54 sec\n",
      " ARIMA(1,1,2)(1,0,0)[12] intercept   : AIC=3094.014, Time=1.42 sec\n",
      " ARIMA(1,1,2)(1,0,1)[12] intercept   : AIC=3094.098, Time=2.00 sec\n",
      " ARIMA(1,1,2)(1,0,2)[12] intercept   : AIC=3095.736, Time=7.63 sec\n",
      " ARIMA(1,1,2)(1,0,3)[12] intercept   : AIC=3097.660, Time=15.05 sec\n",
      " ARIMA(1,1,2)(2,0,0)[12] intercept   : AIC=3094.290, Time=4.25 sec\n",
      " ARIMA(1,1,2)(2,0,1)[12] intercept   : AIC=3095.849, Time=6.18 sec\n",
      " ARIMA(1,1,2)(2,0,2)[12] intercept   : AIC=3097.221, Time=5.25 sec\n",
      " ARIMA(1,1,2)(2,0,3)[12] intercept   : AIC=3098.966, Time=13.76 sec\n",
      " ARIMA(1,1,2)(3,0,0)[12] intercept   : AIC=3096.058, Time=10.78 sec\n",
      " ARIMA(1,1,2)(3,0,1)[12] intercept   : AIC=3097.885, Time=11.88 sec\n",
      " ARIMA(1,1,2)(3,0,2)[12] intercept   : AIC=3098.897, Time=16.79 sec\n",
      " ARIMA(1,1,2)(3,0,3)[12] intercept   : AIC=3100.839, Time=18.80 sec\n",
      " ARIMA(1,1,3)(0,0,0)[12] intercept   : AIC=3102.225, Time=0.73 sec\n",
      " ARIMA(1,1,3)(0,0,1)[12] intercept   : AIC=3095.878, Time=2.32 sec\n",
      " ARIMA(1,1,3)(0,0,2)[12] intercept   : AIC=3095.258, Time=6.26 sec\n",
      " ARIMA(1,1,3)(0,0,3)[12] intercept   : AIC=3094.426, Time=16.51 sec\n",
      " ARIMA(1,1,3)(1,0,0)[12] intercept   : AIC=3093.273, Time=1.82 sec\n",
      " ARIMA(1,1,3)(1,0,1)[12] intercept   : AIC=3095.657, Time=2.29 sec\n",
      " ARIMA(1,1,3)(1,0,2)[12] intercept   : AIC=3097.322, Time=7.17 sec\n",
      " ARIMA(1,1,3)(1,0,3)[12] intercept   : AIC=3096.330, Time=18.71 sec\n",
      " ARIMA(1,1,3)(2,0,0)[12] intercept   : AIC=3093.248, Time=6.16 sec\n",
      " ARIMA(1,1,3)(2,0,1)[12] intercept   : AIC=3097.424, Time=6.34 sec\n"
     ]
    },
    {
     "name": "stdout",
     "output_type": "stream",
     "text": [
      " ARIMA(1,1,3)(2,0,2)[12] intercept   : AIC=3098.836, Time=7.99 sec\n",
      " ARIMA(1,1,3)(2,0,3)[12] intercept   : AIC=3100.578, Time=21.38 sec\n",
      " ARIMA(1,1,3)(3,0,0)[12] intercept   : AIC=3094.658, Time=14.24 sec\n",
      " ARIMA(1,1,3)(3,0,1)[12] intercept   : AIC=3099.468, Time=14.32 sec\n",
      " ARIMA(1,1,3)(3,0,2)[12] intercept   : AIC=3100.564, Time=18.42 sec\n",
      " ARIMA(1,1,3)(3,0,3)[12] intercept   : AIC=3102.546, Time=22.96 sec\n",
      " ARIMA(2,1,0)(0,0,0)[12] intercept   : AIC=3101.300, Time=0.26 sec\n",
      " ARIMA(2,1,0)(0,0,1)[12] intercept   : AIC=3094.611, Time=0.55 sec\n",
      " ARIMA(2,1,0)(0,0,2)[12] intercept   : AIC=3094.180, Time=1.40 sec\n",
      " ARIMA(2,1,0)(0,0,3)[12] intercept   : AIC=3094.191, Time=3.58 sec\n",
      " ARIMA(2,1,0)(1,0,0)[12] intercept   : AIC=3092.377, Time=0.89 sec\n",
      " ARIMA(2,1,0)(1,0,1)[12] intercept   : AIC=3092.657, Time=1.14 sec\n",
      " ARIMA(2,1,0)(1,0,2)[12] intercept   : AIC=3094.505, Time=3.63 sec\n",
      " ARIMA(2,1,0)(1,0,3)[12] intercept   : AIC=3096.048, Time=10.77 sec\n",
      " ARIMA(2,1,0)(2,0,0)[12] intercept   : AIC=3092.695, Time=2.54 sec\n",
      " ARIMA(2,1,0)(2,0,1)[12] intercept   : AIC=3094.555, Time=5.46 sec\n",
      " ARIMA(2,1,0)(2,0,2)[12] intercept   : AIC=3096.635, Time=3.86 sec\n",
      " ARIMA(2,1,0)(2,0,3)[12] intercept   : AIC=3098.060, Time=14.93 sec\n",
      " ARIMA(2,1,0)(3,0,0)[12] intercept   : AIC=3094.403, Time=9.19 sec\n",
      " ARIMA(2,1,0)(3,0,1)[12] intercept   : AIC=3096.281, Time=12.52 sec\n",
      " ARIMA(2,1,0)(3,0,2)[12] intercept   : AIC=3097.374, Time=14.62 sec\n",
      " ARIMA(2,1,0)(3,0,3)[12] intercept   : AIC=3099.832, Time=18.33 sec\n",
      " ARIMA(2,1,1)(0,0,0)[12] intercept   : AIC=3091.106, Time=0.56 sec\n",
      " ARIMA(2,1,1)(0,0,1)[12] intercept   : AIC=3089.629, Time=1.20 sec\n",
      " ARIMA(2,1,1)(0,0,2)[12] intercept   : AIC=3089.599, Time=3.54 sec\n",
      " ARIMA(2,1,1)(0,0,3)[12] intercept   : AIC=3090.693, Time=9.20 sec\n",
      " ARIMA(2,1,1)(1,0,0)[12] intercept   : AIC=3088.702, Time=1.00 sec\n",
      " ARIMA(2,1,1)(1,0,1)[12] intercept   : AIC=3089.297, Time=1.36 sec\n",
      " ARIMA(2,1,1)(1,0,2)[12] intercept   : AIC=3090.960, Time=5.06 sec\n",
      " ARIMA(2,1,1)(1,0,3)[12] intercept   : AIC=3093.081, Time=15.07 sec\n",
      " ARIMA(2,1,1)(2,0,0)[12] intercept   : AIC=3089.104, Time=3.42 sec\n",
      " ARIMA(2,1,1)(2,0,1)[12] intercept   : AIC=3091.044, Time=4.99 sec\n",
      " ARIMA(2,1,1)(2,0,2)[12] intercept   : AIC=3092.537, Time=5.54 sec\n",
      " ARIMA(2,1,1)(2,0,3)[12] intercept   : AIC=3094.384, Time=17.59 sec\n",
      " ARIMA(2,1,1)(3,0,0)[12] intercept   : AIC=3090.984, Time=9.42 sec\n",
      " ARIMA(2,1,1)(3,0,1)[12] intercept   : AIC=3092.874, Time=15.66 sec\n",
      " ARIMA(2,1,1)(3,0,2)[12] intercept   : AIC=3094.517, Time=17.95 sec\n",
      " ARIMA(2,1,1)(3,0,3)[12] intercept   : AIC=3096.429, Time=18.91 sec\n",
      " ARIMA(2,1,2)(0,0,0)[12] intercept   : AIC=3055.732, Time=0.95 sec\n",
      " ARIMA(2,1,2)(0,0,1)[12] intercept   : AIC=3057.622, Time=2.06 sec\n",
      " ARIMA(2,1,2)(0,0,2)[12] intercept   : AIC=3059.266, Time=5.60 sec\n",
      " ARIMA(2,1,2)(0,0,3)[12] intercept   : AIC=3060.995, Time=16.71 sec\n",
      " ARIMA(2,1,2)(1,0,0)[12] intercept   : AIC=3057.646, Time=2.44 sec\n",
      " ARIMA(2,1,2)(1,0,1)[12] intercept   : AIC=3059.173, Time=3.16 sec\n",
      " ARIMA(2,1,2)(1,0,2)[12] intercept   : AIC=3061.148, Time=6.70 sec\n",
      " ARIMA(2,1,2)(1,0,3)[12] intercept   : AIC=3063.148, Time=18.88 sec\n",
      " ARIMA(2,1,2)(2,0,0)[12] intercept   : AIC=3059.407, Time=7.90 sec\n",
      " ARIMA(2,1,2)(2,0,1)[12] intercept   : AIC=3061.201, Time=9.11 sec\n",
      " ARIMA(2,1,2)(2,0,2)[12] intercept   : AIC=3063.049, Time=10.27 sec\n",
      " ARIMA(2,1,2)(2,0,3)[12] intercept   : AIC=3064.823, Time=21.28 sec\n",
      " ARIMA(2,1,2)(3,0,0)[12] intercept   : AIC=3061.142, Time=16.15 sec\n",
      " ARIMA(2,1,2)(3,0,1)[12] intercept   : AIC=3063.145, Time=18.86 sec\n",
      " ARIMA(2,1,2)(3,0,2)[12] intercept   : AIC=3065.804, Time=17.86 sec\n",
      " ARIMA(2,1,2)(3,0,3)[12] intercept   : AIC=3067.839, Time=19.41 sec\n",
      " ARIMA(2,1,3)(0,0,0)[12] intercept   : AIC=3051.450, Time=1.23 sec\n",
      " ARIMA(2,1,3)(0,0,1)[12] intercept   : AIC=3055.870, Time=3.94 sec\n",
      " ARIMA(2,1,3)(0,0,2)[12] intercept   : AIC=3087.207, Time=8.63 sec\n",
      " ARIMA(2,1,3)(0,0,3)[12] intercept   : AIC=3089.718, Time=21.27 sec\n",
      " ARIMA(2,1,3)(1,0,0)[12] intercept   : AIC=3086.396, Time=2.75 sec\n",
      " ARIMA(2,1,3)(1,0,1)[12] intercept   : AIC=3088.291, Time=3.48 sec\n",
      " ARIMA(2,1,3)(1,0,2)[12] intercept   : AIC=3089.992, Time=9.33 sec\n",
      " ARIMA(2,1,3)(1,0,3)[12] intercept   : AIC=3091.767, Time=21.64 sec\n",
      " ARIMA(2,1,3)(2,0,0)[12] intercept   : AIC=3088.154, Time=6.97 sec\n",
      " ARIMA(2,1,3)(2,0,1)[12] intercept   : AIC=3059.347, Time=8.42 sec\n",
      " ARIMA(2,1,3)(2,0,2)[12] intercept   : AIC=3091.308, Time=10.68 sec\n",
      " ARIMA(2,1,3)(2,0,3)[12] intercept   : AIC=3093.415, Time=23.18 sec\n",
      " ARIMA(2,1,3)(3,0,0)[12] intercept   : AIC=3089.400, Time=20.29 sec\n",
      " ARIMA(2,1,3)(3,0,1)[12] intercept   : AIC=3088.958, Time=23.05 sec\n",
      " ARIMA(2,1,3)(3,0,2)[12] intercept   : AIC=3093.477, Time=24.13 sec\n",
      " ARIMA(2,1,3)(3,0,3)[12] intercept   : AIC=3094.869, Time=28.13 sec\n",
      " ARIMA(3,1,0)(0,0,0)[12] intercept   : AIC=3100.434, Time=0.32 sec\n",
      " ARIMA(3,1,0)(0,0,1)[12] intercept   : AIC=3095.653, Time=0.83 sec\n",
      " ARIMA(3,1,0)(0,0,2)[12] intercept   : AIC=3095.446, Time=1.71 sec\n",
      " ARIMA(3,1,0)(0,0,3)[12] intercept   : AIC=3095.713, Time=7.62 sec\n",
      " ARIMA(3,1,0)(1,0,0)[12] intercept   : AIC=3093.848, Time=1.31 sec\n",
      " ARIMA(3,1,0)(1,0,1)[12] intercept   : AIC=3094.181, Time=1.37 sec\n",
      " ARIMA(3,1,0)(1,0,2)[12] intercept   : AIC=3096.027, Time=3.84 sec\n",
      " ARIMA(3,1,0)(1,0,3)[12] intercept   : AIC=3097.620, Time=15.11 sec\n",
      " ARIMA(3,1,0)(2,0,0)[12] intercept   : AIC=3094.217, Time=2.43 sec\n",
      " ARIMA(3,1,0)(2,0,1)[12] intercept   : AIC=3096.075, Time=4.91 sec\n",
      " ARIMA(3,1,0)(2,0,2)[12] intercept   : AIC=3097.710, Time=7.04 sec\n",
      " ARIMA(3,1,0)(2,0,3)[12] intercept   : AIC=3099.630, Time=11.09 sec\n",
      " ARIMA(3,1,0)(3,0,0)[12] intercept   : AIC=3095.927, Time=9.26 sec\n",
      " ARIMA(3,1,0)(3,0,1)[12] intercept   : AIC=3097.822, Time=15.60 sec\n",
      " ARIMA(3,1,0)(3,0,2)[12] intercept   : AIC=3098.960, Time=17.50 sec\n",
      " ARIMA(3,1,0)(3,0,3)[12] intercept   : AIC=3101.413, Time=19.44 sec\n",
      " ARIMA(3,1,1)(0,0,0)[12] intercept   : AIC=3090.461, Time=0.65 sec\n",
      " ARIMA(3,1,1)(0,0,1)[12] intercept   : AIC=3089.783, Time=1.71 sec\n",
      " ARIMA(3,1,1)(0,0,2)[12] intercept   : AIC=3089.810, Time=4.86 sec\n",
      " ARIMA(3,1,1)(0,0,3)[12] intercept   : AIC=3096.502, Time=13.29 sec\n",
      " ARIMA(3,1,1)(1,0,0)[12] intercept   : AIC=3089.085, Time=2.22 sec\n",
      " ARIMA(3,1,1)(1,0,1)[12] intercept   : AIC=3089.592, Time=2.87 sec\n",
      " ARIMA(3,1,1)(1,0,2)[12] intercept   : AIC=3091.233, Time=6.18 sec\n",
      " ARIMA(3,1,1)(1,0,3)[12] intercept   : AIC=3093.225, Time=17.22 sec\n",
      " ARIMA(3,1,1)(2,0,0)[12] intercept   : AIC=3095.048, Time=4.11 sec\n",
      " ARIMA(3,1,1)(2,0,1)[12] intercept   : AIC=3097.019, Time=6.45 sec\n",
      " ARIMA(3,1,1)(2,0,2)[12] intercept   : AIC=3099.032, Time=6.55 sec\n",
      " ARIMA(3,1,1)(2,0,3)[12] intercept   : AIC=3100.405, Time=18.31 sec\n",
      " ARIMA(3,1,1)(3,0,0)[12] intercept   : AIC=3096.754, Time=14.04 sec\n",
      " ARIMA(3,1,1)(3,0,1)[12] intercept   : AIC=3093.346, Time=18.30 sec\n",
      " ARIMA(3,1,1)(3,0,2)[12] intercept   : AIC=3099.737, Time=19.35 sec\n",
      " ARIMA(3,1,1)(3,0,3)[12] intercept   : AIC=3102.239, Time=20.15 sec\n",
      " ARIMA(3,1,2)(0,0,0)[12] intercept   : AIC=3053.979, Time=1.11 sec\n",
      " ARIMA(3,1,2)(0,0,1)[12] intercept   : AIC=3058.704, Time=2.21 sec\n",
      " ARIMA(3,1,2)(0,0,2)[12] intercept   : AIC=3060.483, Time=6.92 sec\n",
      " ARIMA(3,1,2)(0,0,3)[12] intercept   : AIC=3064.643, Time=19.10 sec\n",
      " ARIMA(3,1,2)(1,0,0)[12] intercept   : AIC=3055.256, Time=2.71 sec\n",
      " ARIMA(3,1,2)(1,0,1)[12] intercept   : AIC=3060.534, Time=2.81 sec\n",
      " ARIMA(3,1,2)(1,0,2)[12] intercept   : AIC=3062.965, Time=6.78 sec\n",
      " ARIMA(3,1,2)(1,0,3)[12] intercept   : AIC=3066.043, Time=20.21 sec\n",
      " ARIMA(3,1,2)(2,0,0)[12] intercept   : AIC=3057.160, Time=6.29 sec\n",
      " ARIMA(3,1,2)(2,0,1)[12] intercept   : AIC=3059.226, Time=7.32 sec\n",
      " ARIMA(3,1,2)(2,0,2)[12] intercept   : AIC=3061.264, Time=7.75 sec\n",
      " ARIMA(3,1,2)(2,0,3)[12] intercept   : AIC=3066.963, Time=24.74 sec\n",
      " ARIMA(3,1,2)(3,0,0)[12] intercept   : AIC=3058.797, Time=16.57 sec\n",
      " ARIMA(3,1,2)(3,0,1)[12] intercept   : AIC=3066.264, Time=21.34 sec\n",
      " ARIMA(3,1,2)(3,0,2)[12] intercept   : AIC=3067.590, Time=21.54 sec\n",
      " ARIMA(3,1,2)(3,0,3)[12] intercept   : AIC=3065.366, Time=22.36 sec\n",
      " ARIMA(3,1,3)(0,0,0)[12] intercept   : AIC=3047.453, Time=1.47 sec\n",
      " ARIMA(3,1,3)(0,0,1)[12] intercept   : AIC=3056.624, Time=3.14 sec\n",
      " ARIMA(3,1,3)(0,0,2)[12] intercept   : AIC=3053.122, Time=8.24 sec\n",
      " ARIMA(3,1,3)(0,0,3)[12] intercept   : AIC=3056.121, Time=22.38 sec\n"
     ]
    },
    {
     "name": "stdout",
     "output_type": "stream",
     "text": [
      " ARIMA(3,1,3)(1,0,0)[12] intercept   : AIC=3056.163, Time=3.06 sec\n",
      " ARIMA(3,1,3)(1,0,1)[12] intercept   : AIC=3056.868, Time=5.16 sec\n",
      " ARIMA(3,1,3)(1,0,2)[12] intercept   : AIC=3061.564, Time=12.78 sec\n",
      " ARIMA(3,1,3)(1,0,3)[12] intercept   : AIC=3061.085, Time=26.15 sec\n",
      " ARIMA(3,1,3)(2,0,0)[12] intercept   : AIC=3058.393, Time=8.24 sec\n",
      " ARIMA(3,1,3)(2,0,1)[12] intercept   : AIC=3054.166, Time=11.51 sec\n",
      " ARIMA(3,1,3)(2,0,2)[12] intercept   : AIC=3055.498, Time=12.63 sec\n",
      " ARIMA(3,1,3)(2,0,3)[12] intercept   : AIC=3057.537, Time=26.90 sec\n",
      " ARIMA(3,1,3)(3,0,0)[12] intercept   : AIC=3053.271, Time=20.70 sec\n",
      " ARIMA(3,1,3)(3,0,1)[12] intercept   : AIC=3057.717, Time=26.46 sec\n",
      " ARIMA(3,1,3)(3,0,2)[12] intercept   : AIC=3057.823, Time=26.01 sec\n",
      " ARIMA(3,1,3)(3,0,3)[12] intercept   : AIC=3060.536, Time=29.90 sec\n",
      "Total fit time: 2208.068 seconds\n"
     ]
    }
   ],
   "source": [
    "model_arima = pm.auto_arima(y, start_p = 0, max_p = 3, \n",
    "                      d = None, max_d = 2,\n",
    "                      start_q = 0, max_q = 3,\n",
    "                      start_P = 0, max_P = 3, \n",
    "                      D = None, max_D = 1, \n",
    "                      start_Q = 0, max_Q = 3,\n",
    "                      max_order = 15,\n",
    "                      m = 12, seasonal = True,\n",
    "                      information_criterion = 'aic',\n",
    "                      stepwise = False,\n",
    "                      suppress_warnings = True,\n",
    "                      test = 'adf',\n",
    "                      trace = True,\n",
    "                      random_state = 10)"
   ]
  },
  {
   "cell_type": "code",
   "execution_count": 35,
   "metadata": {},
   "outputs": [
    {
     "data": {
      "text/html": [
       "<table class=\"simpletable\">\n",
       "<caption>SARIMAX Results</caption>\n",
       "<tr>\n",
       "  <th>Dep. Variable:</th>           <td>y</td>        <th>  No. Observations:  </th>    <td>299</td>   \n",
       "</tr>\n",
       "<tr>\n",
       "  <th>Model:</th>           <td>SARIMAX(3, 1, 3)</td> <th>  Log Likelihood     </th> <td>-1515.726</td>\n",
       "</tr>\n",
       "<tr>\n",
       "  <th>Date:</th>            <td>Tue, 01 Dec 2020</td> <th>  AIC                </th> <td>3047.453</td> \n",
       "</tr>\n",
       "<tr>\n",
       "  <th>Time:</th>                <td>14:43:35</td>     <th>  BIC                </th> <td>3077.030</td> \n",
       "</tr>\n",
       "<tr>\n",
       "  <th>Sample:</th>                  <td>0</td>        <th>  HQIC               </th> <td>3059.292</td> \n",
       "</tr>\n",
       "<tr>\n",
       "  <th></th>                      <td> - 299</td>      <th>                     </th>     <td> </td>    \n",
       "</tr>\n",
       "<tr>\n",
       "  <th>Covariance Type:</th>        <td>opg</td>       <th>                     </th>     <td> </td>    \n",
       "</tr>\n",
       "</table>\n",
       "<table class=\"simpletable\">\n",
       "<tr>\n",
       "      <td></td>         <th>coef</th>     <th>std err</th>      <th>z</th>      <th>P>|z|</th>  <th>[0.025</th>    <th>0.975]</th>  \n",
       "</tr>\n",
       "<tr>\n",
       "  <th>intercept</th> <td>    6.1873</td> <td>    2.918</td> <td>    2.120</td> <td> 0.034</td> <td>    0.468</td> <td>   11.906</td>\n",
       "</tr>\n",
       "<tr>\n",
       "  <th>ar.L1</th>     <td>    0.9238</td> <td>    0.120</td> <td>    7.694</td> <td> 0.000</td> <td>    0.688</td> <td>    1.159</td>\n",
       "</tr>\n",
       "<tr>\n",
       "  <th>ar.L2</th>     <td>   -0.3312</td> <td>    0.179</td> <td>   -1.846</td> <td> 0.065</td> <td>   -0.683</td> <td>    0.020</td>\n",
       "</tr>\n",
       "<tr>\n",
       "  <th>ar.L3</th>     <td>   -0.4674</td> <td>    0.130</td> <td>   -3.598</td> <td> 0.000</td> <td>   -0.722</td> <td>   -0.213</td>\n",
       "</tr>\n",
       "<tr>\n",
       "  <th>ma.L1</th>     <td>   -0.5805</td> <td>    0.104</td> <td>   -5.607</td> <td> 0.000</td> <td>   -0.783</td> <td>   -0.378</td>\n",
       "</tr>\n",
       "<tr>\n",
       "  <th>ma.L2</th>     <td>    0.0996</td> <td>    0.141</td> <td>    0.708</td> <td> 0.479</td> <td>   -0.176</td> <td>    0.375</td>\n",
       "</tr>\n",
       "<tr>\n",
       "  <th>ma.L3</th>     <td>    0.6123</td> <td>    0.094</td> <td>    6.547</td> <td> 0.000</td> <td>    0.429</td> <td>    0.796</td>\n",
       "</tr>\n",
       "<tr>\n",
       "  <th>sigma2</th>    <td> 1525.3502</td> <td>   65.090</td> <td>   23.434</td> <td> 0.000</td> <td> 1397.776</td> <td> 1652.925</td>\n",
       "</tr>\n",
       "</table>\n",
       "<table class=\"simpletable\">\n",
       "<tr>\n",
       "  <th>Ljung-Box (Q):</th>          <td>28.33</td> <th>  Jarque-Bera (JB):  </th> <td>5665.21</td>\n",
       "</tr>\n",
       "<tr>\n",
       "  <th>Prob(Q):</th>                <td>0.92</td>  <th>  Prob(JB):          </th>  <td>0.00</td>  \n",
       "</tr>\n",
       "<tr>\n",
       "  <th>Heteroskedasticity (H):</th> <td>75.52</td> <th>  Skew:              </th>  <td>0.98</td>  \n",
       "</tr>\n",
       "<tr>\n",
       "  <th>Prob(H) (two-sided):</th>    <td>0.00</td>  <th>  Kurtosis:          </th>  <td>24.27</td> \n",
       "</tr>\n",
       "</table><br/><br/>Warnings:<br/>[1] Covariance matrix calculated using the outer product of gradients (complex-step)."
      ],
      "text/plain": [
       "<class 'statsmodels.iolib.summary.Summary'>\n",
       "\"\"\"\n",
       "                               SARIMAX Results                                \n",
       "==============================================================================\n",
       "Dep. Variable:                      y   No. Observations:                  299\n",
       "Model:               SARIMAX(3, 1, 3)   Log Likelihood               -1515.726\n",
       "Date:                Tue, 01 Dec 2020   AIC                           3047.453\n",
       "Time:                        14:43:35   BIC                           3077.030\n",
       "Sample:                             0   HQIC                          3059.292\n",
       "                                - 299                                         \n",
       "Covariance Type:                  opg                                         \n",
       "==============================================================================\n",
       "                 coef    std err          z      P>|z|      [0.025      0.975]\n",
       "------------------------------------------------------------------------------\n",
       "intercept      6.1873      2.918      2.120      0.034       0.468      11.906\n",
       "ar.L1          0.9238      0.120      7.694      0.000       0.688       1.159\n",
       "ar.L2         -0.3312      0.179     -1.846      0.065      -0.683       0.020\n",
       "ar.L3         -0.4674      0.130     -3.598      0.000      -0.722      -0.213\n",
       "ma.L1         -0.5805      0.104     -5.607      0.000      -0.783      -0.378\n",
       "ma.L2          0.0996      0.141      0.708      0.479      -0.176       0.375\n",
       "ma.L3          0.6123      0.094      6.547      0.000       0.429       0.796\n",
       "sigma2      1525.3502     65.090     23.434      0.000    1397.776    1652.925\n",
       "===================================================================================\n",
       "Ljung-Box (Q):                       28.33   Jarque-Bera (JB):              5665.21\n",
       "Prob(Q):                              0.92   Prob(JB):                         0.00\n",
       "Heteroskedasticity (H):              75.52   Skew:                             0.98\n",
       "Prob(H) (two-sided):                  0.00   Kurtosis:                        24.27\n",
       "===================================================================================\n",
       "\n",
       "Warnings:\n",
       "[1] Covariance matrix calculated using the outer product of gradients (complex-step).\n",
       "\"\"\""
      ]
     },
     "execution_count": 35,
     "metadata": {},
     "output_type": "execute_result"
    }
   ],
   "source": [
    "# Summary of the ARIMA Model\n",
    "\n",
    "model_arima.summary()"
   ]
  },
  {
   "cell_type": "code",
   "execution_count": 36,
   "metadata": {},
   "outputs": [
    {
     "data": {
      "text/plain": [
       "ARIMA(order=(3, 1, 3), scoring_args={}, seasonal_order=(0, 0, 0, 12),\n",
       "      suppress_warnings=True)"
      ]
     },
     "execution_count": 36,
     "metadata": {},
     "output_type": "execute_result"
    }
   ],
   "source": [
    "# Best Values Choosen \n",
    "\n",
    "model_arima"
   ]
  },
  {
   "cell_type": "code",
   "execution_count": 37,
   "metadata": {},
   "outputs": [],
   "source": [
    "# Building the SARIMAX Model\n",
    "\n",
    "from statsmodels.tsa.statespace.sarimax import SARIMAX as sa\n",
    "\n",
    "model_sarimax = sa(y, order = (3,1,3), seasonal_order = (0,0,0,12)).fit(maxiter = 200)"
   ]
  },
  {
   "cell_type": "code",
   "execution_count": 38,
   "metadata": {},
   "outputs": [],
   "source": [
    "pred = model_sarimax.get_prediction(start = pd.to_datetime('2015-01-31'))\n",
    "prediction['ARIMA'] = pred.predicted_mean"
   ]
  },
  {
   "cell_type": "code",
   "execution_count": 39,
   "metadata": {},
   "outputs": [
    {
     "data": {
      "image/png": "[encoded data removed]",
      "text/plain": [
       "<Figure size 720x432 with 1 Axes>"
      ]
     },
     "metadata": {
      "needs_background": "light"
     },
     "output_type": "display_data"
    }
   ],
   "source": [
    "plt.figure(figsize = (10,6))\n",
    "\n",
    "train.plot()\n",
    "test.plot()\n",
    "prediction['Single'].plot()\n",
    "prediction['Double'].plot()\n",
    "prediction['Triple'].plot()\n",
    "pred.predicted_mean.plot()\n",
    "\n",
    "plt.title('Monthly Average Closing Price', fontsize = 16)\n",
    "plt.xlabel('Year', fontsize = 14)\n",
    "plt.ylabel('Closing Price', fontsize = 14)\n",
    "\n",
    "plt.legend(['Training Data','Testing Data','Single Exponential Method',\n",
    "            'Double Exponential Method','Triple Exponential Method','ARIMA'], fontsize = 13)\n",
    "plt.show()"
   ]
  },
  {
   "cell_type": "code",
   "execution_count": 40,
   "metadata": {},
   "outputs": [
    {
     "name": "stdout",
     "output_type": "stream",
     "text": [
      "RMSE : 67.4317 \n",
      "AIC : 3056.1871\n"
     ]
    }
   ],
   "source": [
    "rmse,aic = metric(model_sarimax,prediction['Actual Values'],prediction['ARIMA'])\n",
    "print('RMSE :',rmse,'\\nAIC :',aic)\n",
    "\n",
    "result.loc['ARIMA','RMSE'] = rmse\n",
    "result.loc['ARIMA','AIC'] = aic"
   ]
  },
  {
   "cell_type": "code",
   "execution_count": null,
   "metadata": {},
   "outputs": [],
   "source": []
  },
  {
   "cell_type": "markdown",
   "metadata": {},
   "source": [
    "## FORECASTING"
   ]
  },
  {
   "cell_type": "code",
   "execution_count": 41,
   "metadata": {},
   "outputs": [
    {
     "data": {
      "image/png": "[encoded data removed]",
      "text/plain": [
       "<Figure size 720x432 with 1 Axes>"
      ]
     },
     "metadata": {
      "needs_background": "light"
     },
     "output_type": "display_data"
    }
   ],
   "source": [
    "pred_uc = model_sarimax.get_forecast(steps = 12)\n",
    "plt.figure(figsize = (10,6))\n",
    "ax = y['1996':].plot()\n",
    "pred_uc.predicted_mean.plot(ax = ax)\n",
    "\n",
    "plt.title('Monthly Average Closing Price', fontsize = 16)\n",
    "ax.set_xlabel('Year', fontsize = 14)\n",
    "ax.set_ylabel('Closing Price', fontsize = 14)\n",
    "\n",
    "plt.legend(['Observed','One-step ahead Forecast'], fontsize = 13)\n",
    "plt.show()"
   ]
  },
  {
   "cell_type": "code",
   "execution_count": 42,
   "metadata": {},
   "outputs": [
    {
     "data": {
      "text/plain": [
       "2020-12-31    1821.176359\n",
       "2021-01-31    1817.313540\n",
       "2021-02-28    1887.670616\n",
       "2021-03-31    2051.073477\n",
       "2021-04-30    2155.059397\n",
       "2021-05-31    2190.969845\n",
       "2021-06-30    2091.427482\n",
       "2021-07-31    1959.600740\n",
       "2021-08-31    1832.998266\n",
       "2021-09-30    1822.171078\n",
       "2021-10-31    1898.363088\n",
       "2021-11-30    2046.989881\n",
       "Freq: M, dtype: float64"
      ]
     },
     "execution_count": 42,
     "metadata": {},
     "output_type": "execute_result"
    }
   ],
   "source": [
    "pred_uc.predicted_mean"
   ]
  },
  {
   "cell_type": "code",
   "execution_count": null,
   "metadata": {},
   "outputs": [],
   "source": []
  },
  {
   "cell_type": "code",
   "execution_count": null,
   "metadata": {},
   "outputs": [],
   "source": []
  },
  {
   "cell_type": "markdown",
   "metadata": {},
   "source": [
    "## Model wise Evaluation "
   ]
  },
  {
   "cell_type": "code",
   "execution_count": 43,
   "metadata": {},
   "outputs": [
    {
     "data": {
      "text/html": [
       "<div>\n",
       "<style scoped>\n",
       "    .dataframe tbody tr th:only-of-type {\n",
       "        vertical-align: middle;\n",
       "    }\n",
       "\n",
       "    .dataframe tbody tr th {\n",
       "        vertical-align: top;\n",
       "    }\n",
       "\n",
       "    .dataframe thead th {\n",
       "        text-align: right;\n",
       "    }\n",
       "</style>\n",
       "<table border=\"1\" class=\"dataframe\">\n",
       "  <thead>\n",
       "    <tr style=\"text-align: right;\">\n",
       "      <th></th>\n",
       "      <th>RMSE</th>\n",
       "      <th>AIC</th>\n",
       "    </tr>\n",
       "    <tr>\n",
       "      <th>Algorithm</th>\n",
       "      <th></th>\n",
       "      <th></th>\n",
       "    </tr>\n",
       "  </thead>\n",
       "  <tbody>\n",
       "    <tr>\n",
       "      <th>Single Exponential</th>\n",
       "      <td>669.426</td>\n",
       "      <td>1735.49</td>\n",
       "    </tr>\n",
       "    <tr>\n",
       "      <th>Double Exponential</th>\n",
       "      <td>531.514</td>\n",
       "      <td>1756.58</td>\n",
       "    </tr>\n",
       "    <tr>\n",
       "      <th>Triple Exponential</th>\n",
       "      <td>486.123</td>\n",
       "      <td>1578.02</td>\n",
       "    </tr>\n",
       "    <tr>\n",
       "      <th>ARIMA</th>\n",
       "      <td>67.4317</td>\n",
       "      <td>3056.19</td>\n",
       "    </tr>\n",
       "  </tbody>\n",
       "</table>\n",
       "</div>"
      ],
      "text/plain": [
       "                       RMSE      AIC\n",
       "Algorithm                           \n",
       "Single Exponential  669.426  1735.49\n",
       "Double Exponential  531.514  1756.58\n",
       "Triple Exponential  486.123  1578.02\n",
       "ARIMA               67.4317  3056.19"
      ]
     },
     "execution_count": 43,
     "metadata": {},
     "output_type": "execute_result"
    }
   ],
   "source": [
    "result.head()"
   ]
  },
  {
   "cell_type": "code",
   "execution_count": 44,
   "metadata": {},
   "outputs": [
    {
     "data": {
      "image/png": "[encoded data removed]",
      "text/plain": [
       "<Figure size 720x432 with 1 Axes>"
      ]
     },
     "metadata": {
      "needs_background": "light"
     },
     "output_type": "display_data"
    }
   ],
   "source": [
    "plt.figure(figsize = (10,6))\n",
    "result['RMSE'].plot(marker = 'D', markersize = 10, linewidth = 3)\n",
    "plt.title('ROOT MEAN SQUARED ERROR (RMSE)', fontsize = 16)\n",
    "plt.xlabel('Algorithm', fontsize = 15)\n",
    "plt.ylabel('RMSE Values', fontsize = 15)\n",
    "\n",
    "plt.legend(['RMSE Value'], fontsize = 13)\n",
    "plt.xticks(rotation = 45, fontsize = 14)\n",
    "plt.yticks(fontsize = 14)\n",
    "plt.ylim(50,750)\n",
    "\n",
    "\n",
    "for i, v in enumerate(result['RMSE']):\n",
    "    plt.text(i, v+25, \"%d\" %v, ha = 'center', fontsize = 14)\n",
    "\n",
    "plt.grid()\n",
    "plt.show()"
   ]
  },
  {
   "cell_type": "code",
   "execution_count": null,
   "metadata": {},
   "outputs": [],
   "source": []
  },
  {
   "cell_type": "code",
   "execution_count": null,
   "metadata": {},
   "outputs": [],
   "source": []
  },
  {
   "cell_type": "markdown",
   "metadata": {},
   "source": [
    "## Model wise Prediction"
   ]
  },
  {
   "cell_type": "code",
   "execution_count": 45,
   "metadata": {},
   "outputs": [
    {
     "data": {
      "text/html": [
       "<div>\n",
       "<style scoped>\n",
       "    .dataframe tbody tr th:only-of-type {\n",
       "        vertical-align: middle;\n",
       "    }\n",
       "\n",
       "    .dataframe tbody tr th {\n",
       "        vertical-align: top;\n",
       "    }\n",
       "\n",
       "    .dataframe thead th {\n",
       "        text-align: right;\n",
       "    }\n",
       "</style>\n",
       "<table border=\"1\" class=\"dataframe\">\n",
       "  <thead>\n",
       "    <tr style=\"text-align: right;\">\n",
       "      <th></th>\n",
       "      <th>Actual Values</th>\n",
       "      <th>Single</th>\n",
       "      <th>Double</th>\n",
       "      <th>Triple</th>\n",
       "      <th>ARIMA</th>\n",
       "    </tr>\n",
       "    <tr>\n",
       "      <th>Date</th>\n",
       "      <th></th>\n",
       "      <th></th>\n",
       "      <th></th>\n",
       "      <th></th>\n",
       "      <th></th>\n",
       "    </tr>\n",
       "  </thead>\n",
       "  <tbody>\n",
       "    <tr>\n",
       "      <th>2015-01-31</th>\n",
       "      <td>438.215476</td>\n",
       "      <td>479.602217</td>\n",
       "      <td>497.127518</td>\n",
       "      <td>461.104348</td>\n",
       "      <td>454.898764</td>\n",
       "    </tr>\n",
       "    <tr>\n",
       "      <th>2015-02-28</th>\n",
       "      <td>445.455264</td>\n",
       "      <td>479.602217</td>\n",
       "      <td>500.477921</td>\n",
       "      <td>470.257553</td>\n",
       "      <td>447.989384</td>\n",
       "    </tr>\n",
       "    <tr>\n",
       "      <th>2015-03-31</th>\n",
       "      <td>426.830953</td>\n",
       "      <td>479.602217</td>\n",
       "      <td>503.828325</td>\n",
       "      <td>485.964782</td>\n",
       "      <td>428.409215</td>\n",
       "    </tr>\n",
       "    <tr>\n",
       "      <th>2015-04-30</th>\n",
       "      <td>439.760525</td>\n",
       "      <td>479.602217</td>\n",
       "      <td>507.178728</td>\n",
       "      <td>519.975196</td>\n",
       "      <td>422.048302</td>\n",
       "    </tr>\n",
       "    <tr>\n",
       "      <th>2015-05-31</th>\n",
       "      <td>443.486249</td>\n",
       "      <td>479.602217</td>\n",
       "      <td>510.529131</td>\n",
       "      <td>549.374059</td>\n",
       "      <td>428.041738</td>\n",
       "    </tr>\n",
       "  </tbody>\n",
       "</table>\n",
       "</div>"
      ],
      "text/plain": [
       "            Actual Values      Single      Double      Triple       ARIMA\n",
       "Date                                                                     \n",
       "2015-01-31     438.215476  479.602217  497.127518  461.104348  454.898764\n",
       "2015-02-28     445.455264  479.602217  500.477921  470.257553  447.989384\n",
       "2015-03-31     426.830953  479.602217  503.828325  485.964782  428.409215\n",
       "2015-04-30     439.760525  479.602217  507.178728  519.975196  422.048302\n",
       "2015-05-31     443.486249  479.602217  510.529131  549.374059  428.041738"
      ]
     },
     "execution_count": 45,
     "metadata": {},
     "output_type": "execute_result"
    }
   ],
   "source": [
    "prediction.head()"
   ]
  },
  {
   "cell_type": "code",
   "execution_count": null,
   "metadata": {},
   "outputs": [],
   "source": []
  }
 ],
 "metadata": {
  "kernelspec": {
   "display_name": "Python 3",
   "language": "python",
   "name": "python3"
  },
  "language_info": {
   "codemirror_mode": {
    "name": "ipython",
    "version": 3
   },
   "file_extension": ".py",
   "mimetype": "text/x-python",
   "name": "python",
   "nbconvert_exporter": "python",
   "pygments_lexer": "ipython3",
   "version": "3.8.3"
  }
 },
 "nbformat": 4,
 "nbformat_minor": 4
}
